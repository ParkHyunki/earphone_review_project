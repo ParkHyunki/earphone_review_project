{
 "cells": [
  {
   "cell_type": "code",
   "execution_count": 56,
   "metadata": {},
   "outputs": [],
   "source": [
    "from tqdm import tqdm_notebook\n",
    "import string\n",
    "from gensim import corpora\n",
    "from gensim import models\n",
    "import pandas as pd\n",
    "import numpy as np\n",
    "import re\n",
    "import pymysql\n",
    "from gensim.models import CoherenceModel\n",
    "from konlpy.tag import Mecab\n",
    "import matplotlib.pyplot as plt\n",
    "import seaborn as sns\n",
    "%matplotlib inline\n",
    "import warnings\n",
    "warnings.filterwarnings(action='ignore')"
   ]
  },
  {
   "cell_type": "markdown",
   "metadata": {},
   "source": [
    "# 1. 데이터로드"
   ]
  },
  {
   "cell_type": "code",
   "execution_count": 57,
   "metadata": {},
   "outputs": [],
   "source": [
    "def load_data(columns, table):\n",
    "    conn = pymysql.connect(port = 3306,\n",
    "                           user = 'root',\n",
    "                           passwd = 'gusrl2600-',\n",
    "                           host = '127.0.0.1',\n",
    "                           db = 'product_db',\n",
    "                           charset='utf8',\n",
    "                           cursorclass=pymysql.cursors.DictCursor)\n",
    "    try:\n",
    "        with conn.cursor() as cur:\n",
    "\n",
    "            query = \"SELECT \" + columns + \" FROM \" + table + \";\"\n",
    "                \n",
    "            cur.execute(query)\n",
    "            data = cur.fetchall()\n",
    "            \n",
    "    finally:\n",
    "        conn.close()\n",
    "        \n",
    "    return data\n",
    "\n",
    "review = pd.DataFrame(load_data('*','review_info'))"
   ]
  },
  {
   "cell_type": "code",
   "execution_count": 58,
   "metadata": {
    "scrolled": true
   },
   "outputs": [
    {
     "name": "stdout",
     "output_type": "stream",
     "text": [
      "60582\n"
     ]
    }
   ],
   "source": [
    "print(len(review))"
   ]
  },
  {
   "cell_type": "code",
   "execution_count": 59,
   "metadata": {},
   "outputs": [
    {
     "name": "stdout",
     "output_type": "stream",
     "text": [
      "<class 'pandas.core.frame.DataFrame'>\n",
      "RangeIndex: 60582 entries, 0 to 60581\n",
      "Data columns (total 8 columns):\n",
      " #   Column       Non-Null Count  Dtype \n",
      "---  ------       --------------  ----- \n",
      " 0   item_id      60582 non-null  object\n",
      " 1   review_id    60582 non-null  object\n",
      " 2   login_id     60582 non-null  object\n",
      " 3   score        60582 non-null  object\n",
      " 4   content      60582 non-null  object\n",
      " 5   item_option  60582 non-null  object\n",
      " 6   date         60582 non-null  object\n",
      " 7   likeCnt      60582 non-null  int64 \n",
      "dtypes: int64(1), object(7)\n",
      "memory usage: 3.7+ MB\n"
     ]
    }
   ],
   "source": [
    "review.info()"
   ]
  },
  {
   "cell_type": "code",
   "execution_count": 60,
   "metadata": {},
   "outputs": [
    {
     "name": "stdout",
     "output_type": "stream",
     "text": [
      "5.0    0.764171\n",
      "4.0    0.114638\n",
      "3.0    0.091182\n",
      "1.0    0.017216\n",
      "2.0    0.012760\n",
      "0.0    0.000033\n",
      "Name: score, dtype: float64\n"
     ]
    },
    {
     "data": {
      "image/png": "[encoded data removed]",
      "text/plain": [
       "<Figure size 432x288 with 1 Axes>"
      ]
     },
     "metadata": {
      "needs_background": "light"
     },
     "output_type": "display_data"
    }
   ],
   "source": [
    "sns.countplot(review['score'])\n",
    "print(review['score'].value_counts() / len(review['score']))"
   ]
  },
  {
   "cell_type": "code",
   "execution_count": 61,
   "metadata": {},
   "outputs": [
    {
     "data": {
      "text/plain": [
       "1    46295\n",
       "0    14287\n",
       "Name: label, dtype: int64"
      ]
     },
     "execution_count": 61,
     "metadata": {},
     "output_type": "execute_result"
    }
   ],
   "source": [
    "review['label'] = review['score'].apply(lambda x: 1 if x == 5.0 else 0)\n",
    "review['label'].value_counts()"
   ]
  },
  {
   "cell_type": "code",
   "execution_count": 62,
   "metadata": {},
   "outputs": [],
   "source": [
    "review['label'] = review['label'].apply(lambda x: 'Positive' if x == 1 else 'Negative')"
   ]
  },
  {
   "cell_type": "code",
   "execution_count": 63,
   "metadata": {},
   "outputs": [
    {
     "data": {
      "text/html": [
       "<div>\n",
       "<style scoped>\n",
       "    .dataframe tbody tr th:only-of-type {\n",
       "        vertical-align: middle;\n",
       "    }\n",
       "\n",
       "    .dataframe tbody tr th {\n",
       "        vertical-align: top;\n",
       "    }\n",
       "\n",
       "    .dataframe thead th {\n",
       "        text-align: right;\n",
       "    }\n",
       "</style>\n",
       "<table border=\"1\" class=\"dataframe\">\n",
       "  <thead>\n",
       "    <tr style=\"text-align: right;\">\n",
       "      <th></th>\n",
       "      <th>item_id</th>\n",
       "      <th>review_id</th>\n",
       "      <th>login_id</th>\n",
       "      <th>score</th>\n",
       "      <th>content</th>\n",
       "      <th>item_option</th>\n",
       "      <th>date</th>\n",
       "      <th>likeCnt</th>\n",
       "      <th>label</th>\n",
       "    </tr>\n",
       "  </thead>\n",
       "  <tbody>\n",
       "    <tr>\n",
       "      <th>0</th>\n",
       "      <td>24181889</td>\n",
       "      <td>100016281</td>\n",
       "      <td>ross****</td>\n",
       "      <td>5.0</td>\n",
       "      <td>배송빠르고 잘작동합니다. 많이파세요</td>\n",
       "      <td>[옵션]제품선택:소니 DR-BT101</td>\n",
       "      <td>2012-02-24</td>\n",
       "      <td>0</td>\n",
       "      <td>Positive</td>\n",
       "    </tr>\n",
       "    <tr>\n",
       "      <th>1</th>\n",
       "      <td>228322167</td>\n",
       "      <td>100019388</td>\n",
       "      <td>hwbs****</td>\n",
       "      <td>5.0</td>\n",
       "      <td>일단 가볍고 간단해서 좋구요.... 저희 신랑이랑 커플로 2개 샀네요.</td>\n",
       "      <td>[옵션]제품선택:아이리버 BT-S10 블루</td>\n",
       "      <td>2012-02-24</td>\n",
       "      <td>0</td>\n",
       "      <td>Positive</td>\n",
       "    </tr>\n",
       "    <tr>\n",
       "      <th>2</th>\n",
       "      <td>24181889</td>\n",
       "      <td>100023537</td>\n",
       "      <td>peel**</td>\n",
       "      <td>5.0</td>\n",
       "      <td>배송 빠르고 좋네요~</td>\n",
       "      <td>[옵션]제품선택:소니 DR-BT101</td>\n",
       "      <td>2012-02-24</td>\n",
       "      <td>0</td>\n",
       "      <td>Positive</td>\n",
       "    </tr>\n",
       "    <tr>\n",
       "      <th>3</th>\n",
       "      <td>24181889</td>\n",
       "      <td>100028785</td>\n",
       "      <td>moon*****</td>\n",
       "      <td>5.0</td>\n",
       "      <td>만족합니다</td>\n",
       "      <td>[옵션]제품선택:소니 DR-BT101</td>\n",
       "      <td>2012-02-24</td>\n",
       "      <td>0</td>\n",
       "      <td>Positive</td>\n",
       "    </tr>\n",
       "    <tr>\n",
       "      <th>4</th>\n",
       "      <td>60614626</td>\n",
       "      <td>100060926</td>\n",
       "      <td>tore****</td>\n",
       "      <td>5.0</td>\n",
       "      <td>만족합니다</td>\n",
       "      <td>[옵션]색상선택:소니 DRC-BT30 블랙</td>\n",
       "      <td>2012-02-25</td>\n",
       "      <td>0</td>\n",
       "      <td>Positive</td>\n",
       "    </tr>\n",
       "  </tbody>\n",
       "</table>\n",
       "</div>"
      ],
      "text/plain": [
       "     item_id  review_id   login_id score  \\\n",
       "0   24181889  100016281   ross****   5.0   \n",
       "1  228322167  100019388   hwbs****   5.0   \n",
       "2   24181889  100023537     peel**   5.0   \n",
       "3   24181889  100028785  moon*****   5.0   \n",
       "4   60614626  100060926   tore****   5.0   \n",
       "\n",
       "                                   content              item_option  \\\n",
       "0                      배송빠르고 잘작동합니다. 많이파세요     [옵션]제품선택:소니 DR-BT101   \n",
       "1  일단 가볍고 간단해서 좋구요.... 저희 신랑이랑 커플로 2개 샀네요.  [옵션]제품선택:아이리버 BT-S10 블루   \n",
       "2                              배송 빠르고 좋네요~     [옵션]제품선택:소니 DR-BT101   \n",
       "3                                    만족합니다     [옵션]제품선택:소니 DR-BT101   \n",
       "4                                    만족합니다  [옵션]색상선택:소니 DRC-BT30 블랙   \n",
       "\n",
       "         date  likeCnt     label  \n",
       "0  2012-02-24        0  Positive  \n",
       "1  2012-02-24        0  Positive  \n",
       "2  2012-02-24        0  Positive  \n",
       "3  2012-02-24        0  Positive  \n",
       "4  2012-02-25        0  Positive  "
      ]
     },
     "execution_count": 63,
     "metadata": {},
     "output_type": "execute_result"
    }
   ],
   "source": [
    "review.head()"
   ]
  },
  {
   "cell_type": "markdown",
   "metadata": {},
   "source": [
    "# 2. 텍스트 전처리"
   ]
  },
  {
   "cell_type": "code",
   "execution_count": 160,
   "metadata": {},
   "outputs": [
    {
     "data": {
      "application/vnd.jupyter.widget-view+json": {
       "model_id": "54dbe7214a5b404c932d3f18c2763734",
       "version_major": 2,
       "version_minor": 0
      },
      "text/plain": [
       "HBox(children=(HTML(value='Preprocessing'), FloatProgress(value=0.0, max=60582.0), HTML(value='')))"
      ]
     },
     "metadata": {},
     "output_type": "display_data"
    },
    {
     "name": "stdout",
     "output_type": "stream",
     "text": [
      "\n"
     ]
    }
   ],
   "source": [
    "def text_cleaning(reviews):\n",
    "    clean_review = []\n",
    "    for review in reviews:\n",
    "        pattern = \"[^ㄱ-ㅎㅏ-ㅣ가-힣 ]\"\n",
    "        temp_review = re.sub(pattern,\"\",review)\n",
    "        clean_review.append(temp_review)\n",
    "    \n",
    "    return clean_review\n",
    "\n",
    "def define_stopwords(path):\n",
    "    SW = set()\n",
    "    \n",
    "    with open(path) as f:\n",
    "        for word in f:\n",
    "            SW.add(word)\n",
    "            \n",
    "    return SW\n",
    "\n",
    "def text_tokenizing(corpus, tokenizer):\n",
    "    mecab = Mecab()\n",
    "    token_corpus = []\n",
    "    \n",
    "    if tokenizer == 'noun':\n",
    "        for n in tqdm_notebook(range(len(corpus)), desc='Preprocessing'):\n",
    "            token_text = mecab.nouns(corpus[n])\n",
    "            token_text = [word for word in token_text if word not in SW and len(word) > 1]\n",
    "            \n",
    "            token_corpus.append(token_text)\n",
    "            \n",
    "    elif tokenizer == 'morph':\n",
    "        for n in tqdm_notebook(range(len(corpus)),desc='Preprocessing'):\n",
    "            token_text = mecab.morphs(corpus[n])\n",
    "            token_text = [word for word in token_text if word not in SW and len(word) > 1]\n",
    "            token_corpus.append(token_text)\n",
    "            \n",
    "    elif tokenizer == \"word\":\n",
    "        for n in tqdm_notebook(range(len(corpus)),desc='Preprocessing'):\n",
    "            token_text = corpus[n].split()\n",
    "            token_text = [word for word in token_text if word not in SW and len(word) > 1]\n",
    "            token_corpus.append(token_text)\n",
    "    \n",
    "    return token_corpus\n",
    "\n",
    "content = review['content'].to_list()\n",
    "SW = define_stopwords('./stopwords.txt')\n",
    "cleaned_text = text_cleaning(content)\n",
    "tokenized_text = text_tokenizing(cleaned_text, tokenizer='noun')"
   ]
  },
  {
   "cell_type": "code",
   "execution_count": 195,
   "metadata": {},
   "outputs": [
    {
     "name": "stderr",
     "output_type": "stream",
     "text": [
      "/Users/parkhyunki/opt/anaconda3/envs/test/lib/python3.7/site-packages/ipykernel/ipkernel.py:287: DeprecationWarning: `should_run_async` will not call `transform_cell` automatically in the future. Please pass the result to `transformed_cell` argument and any exception that happen during thetransform in `preprocessing_exc_tuple` in IPython 7.17 and above.\n",
      "  and should_run_async(code)\n"
     ]
    }
   ],
   "source": [
    "a = []\n",
    "for i in tokenized_text:\n",
    "    a.append(len(i))"
   ]
  },
  {
   "cell_type": "code",
   "execution_count": 198,
   "metadata": {},
   "outputs": [
    {
     "name": "stderr",
     "output_type": "stream",
     "text": [
      "/Users/parkhyunki/opt/anaconda3/envs/test/lib/python3.7/site-packages/ipykernel/ipkernel.py:287: DeprecationWarning: `should_run_async` will not call `transform_cell` automatically in the future. Please pass the result to `transformed_cell` argument and any exception that happen during thetransform in `preprocessing_exc_tuple` in IPython 7.17 and above.\n",
      "  and should_run_async(code)\n"
     ]
    }
   ],
   "source": [
    "review['content_length'] = a"
   ]
  },
  {
   "cell_type": "code",
   "execution_count": 162,
   "metadata": {
    "scrolled": true
   },
   "outputs": [],
   "source": [
    "dictionary = corpora.Dictionary(tokenized_text)\n",
    "corpus = [dictionary.doc2bow(text) for text in tokenized_text]"
   ]
  },
  {
   "cell_type": "markdown",
   "metadata": {},
   "source": [
    "# 3. 토픽 모델링(LDA)\n",
    "- 각 단어나 문서의 숨겨진 주제를 찾아내어 문서와 키워드별로 주제끼리 묶어주는 비지도 학습 알고리즘"
   ]
  },
  {
   "cell_type": "markdown",
   "metadata": {},
   "source": [
    "- 하이퍼 파라미터 : 토픽수, 토픽별 포함단어, alpha, eta\n",
    "- alpha, eta의 경우 auto 로 설정, 몇번 돌려보고 점수가 높고 해석이 잘되는것으로 선정\n",
    "- 토픽 수와 토픽별 포함단어는 너무 적거나 너무 많아지면 해석이 어려워지기 때문에 적합한 값을 선정해야함."
   ]
  },
  {
   "cell_type": "code",
   "execution_count": 163,
   "metadata": {
    "scrolled": true
   },
   "outputs": [],
   "source": [
    "NUM_TOPICS = 10\n",
    "NUM_TOPIC_WORDS = 15\n",
    "\n",
    "def build_doc_term_mat(documents):\n",
    "    print('Building document-term matrix.')\n",
    "    dictionary = corpora.Dictionary(documents)\n",
    "    corpus = [dictionary.doc2bow(document) for document in documents]\n",
    "    \n",
    "    return corpus, dictionary\n",
    "\n",
    "def print_topic_words(model):\n",
    "    print('\\nPrinting topic words.\\n')\n",
    "    \n",
    "    for topic_id in range(model.num_topics):\n",
    "        topic_word_probs = model.show_topic(topic_id, NUM_TOPIC_WORDS)\n",
    "        print('Topic ID: {}'.format(topic_id))\n",
    "        \n",
    "        for topic_word, prob in topic_word_probs:\n",
    "            print('\\t{}\\t{}'.format(topic_word, prob))\n",
    "            \n",
    "        print('\\n')\n"
   ]
  },
  {
   "cell_type": "code",
   "execution_count": 164,
   "metadata": {},
   "outputs": [
    {
     "name": "stdout",
     "output_type": "stream",
     "text": [
      "Building document-term matrix.\n"
     ]
    }
   ],
   "source": [
    "corpus, dictionary = build_doc_term_mat(tokenized_text)\n",
    "\n",
    "model = models.ldamodel.LdaModel(corpus, num_topics=NUM_TOPICS, id2word=dictionary, alpha='auto', eta='auto')"
   ]
  },
  {
   "cell_type": "code",
   "execution_count": 165,
   "metadata": {
    "scrolled": true
   },
   "outputs": [
    {
     "name": "stdout",
     "output_type": "stream",
     "text": [
      "\n",
      "Printing topic words.\n",
      "\n",
      "Topic ID: 0\n",
      "\t소리\t0.11763501912355423\n",
      "\t번창\t0.06223560869693756\n",
      "\t운동\t0.060217779129743576\n",
      "\t편리\t0.053334251046180725\n",
      "\t나름\t0.04401246830821037\n",
      "\t수신\t0.041343413293361664\n",
      "\t대박\t0.041215214878320694\n",
      "\t내요\t0.03650965541601181\n",
      "\t사용\t0.034459639340639114\n",
      "\t필요\t0.028153996914625168\n",
      "\t패드\t0.02775123156607151\n",
      "\t거리\t0.02738824672996998\n",
      "\t음질\t0.027152620255947113\n",
      "\t상태\t0.025193095207214355\n",
      "\t설치\t0.023811528459191322\n",
      "\n",
      "\n",
      "Topic ID: 1\n",
      "\t구입\t0.0876377746462822\n",
      "\t선물\t0.0853298082947731\n",
      "\t강추\t0.04776737838983536\n",
      "\t하나\t0.04645129665732384\n",
      "\t구매\t0.04098813980817795\n",
      "\t친구\t0.03174414113163948\n",
      "\t건데\t0.021906042471528053\n",
      "\t확정\t0.02005469612777233\n",
      "\t분실\t0.01625997945666313\n",
      "\t케이스\t0.015524778515100479\n",
      "\t지인\t0.01352929137647152\n",
      "\t고급\t0.011606195010244846\n",
      "\t교환\t0.01120404340326786\n",
      "\t선명\t0.011017825454473495\n",
      "\t저음\t0.010314698331058025\n",
      "\n",
      "\n",
      "Topic ID: 2\n",
      "\t시간\t0.06594237685203552\n",
      "\t정도\t0.040427614003419876\n",
      "\t작동\t0.03774692490696907\n",
      "\t버튼\t0.037473052740097046\n",
      "\t충전\t0.03621821850538254\n",
      "\t조아\t0.03531188890337944\n",
      "\t음질\t0.025775223970413208\n",
      "\t페어링\t0.022171353921294212\n",
      "\t배터리\t0.020193617790937424\n",
      "\t게요\t0.018602658063173294\n",
      "\t가능\t0.017240112647414207\n",
      "\t볼륨\t0.015614710748195648\n",
      "\t사용\t0.015361049212515354\n",
      "\t음량\t0.014790091663599014\n",
      "\t호환\t0.014789036475121975\n",
      "\n",
      "\n",
      "Topic ID: 3\n",
      "\t배송\t0.4029952585697174\n",
      "\t만족\t0.24522973597049713\n",
      "\t감사\t0.17280474305152893\n",
      "\t상품\t0.06352150440216064\n",
      "\t품질\t0.012244706973433495\n",
      "\t완전\t0.011290522292256355\n",
      "\t하루\t0.00944461114704609\n",
      "\t이용\t0.004979740362614393\n",
      "\t총알\t0.004940392915159464\n",
      "\t제품\t0.004781009163707495\n",
      "\t다음\t0.004001496359705925\n",
      "\t베리\t0.00352317257784307\n",
      "\t가정\t0.003236849093809724\n",
      "\t친절\t0.002969086403027177\n",
      "\t빠름\t0.0028206929564476013\n",
      "\n",
      "\n",
      "Topic ID: 4\n",
      "\t통화\t0.07332372665405273\n",
      "\t연결\t0.061191193759441376\n",
      "\t음악\t0.05760322883725166\n",
      "\t음질\t0.035286661237478256\n",
      "\t전화\t0.03218110650777817\n",
      "\t소리\t0.02728993631899357\n",
      "\t사용\t0.025165127590298653\n",
      "\t블루투스\t0.018592124804854393\n",
      "\t기대\t0.015699287876486778\n",
      "\t상대방\t0.015233047306537628\n",
      "\t문제\t0.015171093866229057\n",
      "\t핸드폰\t0.011612452566623688\n",
      "\t품질\t0.011433268897235394\n",
      "\t생각\t0.011122327297925949\n",
      "\t마이크\t0.010556030087172985\n",
      "\n",
      "\n",
      "Topic ID: 5\n",
      "\t마음\t0.350653737783432\n",
      "\t구매\t0.19206629693508148\n",
      "\t물건\t0.08120231330394745\n",
      "\t주문\t0.031261418014764786\n",
      "\t수고\t0.023283660411834717\n",
      "\t택배\t0.021555043756961823\n",
      "\t도착\t0.01860937476158142\n",
      "\t판매\t0.013898788951337337\n",
      "\t연락\t0.011469516903162003\n",
      "\t옵션\t0.01003527082502842\n",
      "\t우체국\t0.009127438999712467\n",
      "\t닉스\t0.00853478442877531\n",
      "\t마니\t0.008316237479448318\n",
      "\t플랜트\t0.007846069522202015\n",
      "\t주일\t0.007040741853415966\n",
      "\n",
      "\n",
      "Topic ID: 6\n",
      "\t제품\t0.3132719099521637\n",
      "\t페어링\t0.056385338306427\n",
      "\t이상\t0.024696825072169304\n",
      "\t건지\t0.024457264691591263\n",
      "\t포장\t0.0226132869720459\n",
      "\t소니\t0.020580288022756577\n",
      "\t정품\t0.019009333103895187\n",
      "\t이번\t0.01758309081196785\n",
      "\t고민\t0.017059428617358208\n",
      "\t멀티\t0.01646886020898819\n",
      "\t잡음\t0.01611766219139099\n",
      "\t방법\t0.015745429322123528\n",
      "\t선택\t0.011264837346971035\n",
      "\t설정\t0.011015630327165127\n",
      "\t모양\t0.011014226824045181\n",
      "\n",
      "\n",
      "Topic ID: 7\n",
      "\t사용\t0.11346039921045303\n",
      "\t음질\t0.09307261556386948\n",
      "\t생각\t0.05075507611036301\n",
      "\t만족\t0.03555500507354736\n",
      "\t이어폰\t0.03197349235415459\n",
      "\t블루투스\t0.030032070353627205\n",
      "\t불편\t0.025489674881100655\n",
      "\t디자인\t0.022877180948853493\n",
      "\t부분\t0.022596167400479317\n",
      "\t기능\t0.021532142534852028\n",
      "\t제품\t0.012172314338386059\n",
      "\t크기\t0.011883803643286228\n",
      "\t느낌\t0.01142793893814087\n",
      "\t정도\t0.010792418383061886\n",
      "\t처음\t0.0099268713966012\n",
      "\n",
      "\n",
      "Topic ID: 8\n",
      "\t블루투스\t0.147958442568779\n",
      "\t이어폰\t0.09723109006881714\n",
      "\t헤드셋\t0.056019656360149384\n",
      "\t헤드폰\t0.04354149475693703\n",
      "\t스테레오\t0.0366753526031971\n",
      "\t무선\t0.03409482166171074\n",
      "\t갤럭시\t0.026147067546844482\n",
      "\t통화음\t0.023188043385744095\n",
      "\t아이폰\t0.021506216377019882\n",
      "\t선택\t0.016449473798274994\n",
      "\t프리\t0.015095725655555725\n",
      "\t아이\t0.014757199212908745\n",
      "\t블랙\t0.01401068177074194\n",
      "\t삼성\t0.013969110324978828\n",
      "\t번가\t0.012948538176715374\n",
      "\n",
      "\n",
      "Topic ID: 9\n",
      "\t가격\t0.3075963258743286\n",
      "\t대비\t0.15782901644706726\n",
      "\t성능\t0.07992489635944366\n",
      "\t디자인\t0.057300716638565063\n",
      "\t만족\t0.05601796880364418\n",
      "\t최고\t0.03677378222346306\n",
      "\t추천\t0.03477055951952934\n",
      "\t음질\t0.03234913572669029\n",
      "\t성비\t0.020075764507055283\n",
      "\t신랑\t0.014962367713451385\n",
      "\t품질\t0.01421499066054821\n",
      "\t심플\t0.011798915453255177\n",
      "\t적극\t0.011309221386909485\n",
      "\t상품\t0.008875655010342598\n",
      "\t남편\t0.006915704812854528\n",
      "\n",
      "\n"
     ]
    }
   ],
   "source": [
    "print_topic_words(model)"
   ]
  },
  {
   "cell_type": "markdown",
   "metadata": {},
   "source": [
    "# 4. 평가 및 저장"
   ]
  },
  {
   "cell_type": "markdown",
   "metadata": {},
   "source": [
    "- 평가기준 \n",
    "    - perplxity\n",
    "        - 혼란도, 특정 확률 모델이 실제도 관측되는 값을 얼마나 잘 예측하는가\n",
    "        - 값이 작으면 토픽모델이 문서를 잘 반영\n",
    "    - coherence Score\n",
    "        - 주제의 일관성을 측정\n",
    "        - 높을수록 토픽의 일관성이 높음"
   ]
  },
  {
   "cell_type": "code",
   "execution_count": 166,
   "metadata": {},
   "outputs": [
    {
     "name": "stdout",
     "output_type": "stream",
     "text": [
      "\n",
      "Perplexity:  -6.304759430217982\n",
      "\n",
      "Coherence Score:  0.5842594236888747\n"
     ]
    }
   ],
   "source": [
    "# Compute Perplexity\n",
    "print('\\nPerplexity: ', model.log_perplexity(corpus)) # a measure of how good the model is. lower the better.\n",
    " \n",
    "# Compute Coherence Score\n",
    "coherence_model_lda = CoherenceModel(model=model, texts=tokenized_text, dictionary=dictionary, coherence='c_v')\n",
    "coherence_lda = coherence_model_lda.get_coherence()\n",
    "print('\\nCoherence Score: ', coherence_lda)"
   ]
  },
  {
   "cell_type": "code",
   "execution_count": 133,
   "metadata": {},
   "outputs": [],
   "source": [
    "# temp_file = datapath('model')\n",
    "# model.save(temp_file)"
   ]
  },
  {
   "cell_type": "code",
   "execution_count": 147,
   "metadata": {},
   "outputs": [],
   "source": [
    "# model = models.ldamodel.LdaModel.load('/Users/parkhyunki/opt/anaconda3/envs/test/lib/python3.7/site-packages/gensim/test/test_data/model')"
   ]
  },
  {
   "cell_type": "code",
   "execution_count": 167,
   "metadata": {},
   "outputs": [],
   "source": [
    "model.save('./model')"
   ]
  },
  {
   "cell_type": "markdown",
   "metadata": {},
   "source": [
    "# 5. 시각화"
   ]
  },
  {
   "cell_type": "code",
   "execution_count": 168,
   "metadata": {},
   "outputs": [
    {
     "data": {
      "text/html": [
       "\n",
       "<link rel=\"stylesheet\" type=\"text/css\" href=\"https://cdn.rawgit.com/bmabey/pyLDAvis/files/ldavis.v1.0.0.css\">\n",
       "\n",
       "\n",
       "<div id=\"ldavis_el15191403246453200165212919551\"></div>\n",
       "<script type=\"text/javascript\">\n",
       "\n",
       "var ldavis_el15191403246453200165212919551_data = {\"mdsDat\": {\"x\": [0.1301867137051703, 0.2056611762870378, -0.32547347677353156, -0.2098770553268086, -0.1564771353651421, 0.018165715662127963, 0.18158416869954458, 0.04058656957666368, -0.017224889822291298, 0.13286821335722837], \"y\": [-0.10514703843820213, -0.07422922202146336, -0.16369916750603145, -0.20363634448671492, 0.3627072828489501, 0.02509040717333289, -0.060639688715130625, 0.0647121771060755, 0.1529228786137976, 0.0019187154253866004], \"topics\": [1, 2, 3, 4, 5, 6, 7, 8, 9, 10], \"cluster\": [1, 1, 1, 1, 1, 1, 1, 1, 1, 1], \"Freq\": [19.767156428705515, 15.519859292972926, 11.074534783468607, 10.257930105602025, 9.694126209191001, 7.853164207637707, 7.851510433349896, 6.812473993368516, 6.695057846243252, 4.474186699460546]}, \"tinfo\": {\"Term\": [\"\\ubc30\\uc1a1\", \"\\ub9c8\\uc74c\", \"\\uac00\\uaca9\", \"\\uc81c\\ud488\", \"\\ub9cc\\uc871\", \"\\uac10\\uc0ac\", \"\\uad6c\\ub9e4\", \"\\ub300\\ube44\", \"\\ube14\\ub8e8\\ud22c\\uc2a4\", \"\\uc18c\\ub9ac\", \"\\uc0ac\\uc6a9\", \"\\uc774\\uc5b4\\ud3f0\", \"\\ud1b5\\ud654\", \"\\ubb3c\\uac74\", \"\\uc131\\ub2a5\", \"\\uc5f0\\uacb0\", \"\\uad6c\\uc785\", \"\\uc120\\ubb3c\", \"\\uc74c\\uc9c8\", \"\\uc74c\\uc545\", \"\\ub514\\uc790\\uc778\", \"\\uc2dc\\uac04\", \"\\uc0c1\\ud488\", \"\\ud398\\uc5b4\\ub9c1\", \"\\ud5e4\\ub4dc\\uc14b\", \"\\ud3b8\\ub9ac\", \"\\uc0dd\\uac01\", \"\\uc815\\ub3c4\", \"\\uc804\\ud654\", \"\\ud5e4\\ub4dc\\ud3f0\", \"\\uc6b4\\uc804\", \"\\uba38\\ub9ac\", \"\\ubc34\\ub4dc\", \"\\uc720\\uc120\", \"\\ud55c\\ucabd\", \"\\uac1c\\uc778\", \"\\uc544\\ubc84\\uc9c0\", \"\\uadf8\\uac70\", \"\\ubb34\\ub9ac\", \"\\uc7a5\\uc2dc\\uac04\", \"\\uc591\\ucabd\", \"\\ubd80\\ub2f4\", \"\\uc678\\ubd80\", \"\\uc790\\uc720\", \"\\ucfe0\\ud3f0\", \"\\uace0\\ub824\", \"\\ubd80\\ubd84\", \"\\uc544\\uc26c\\uc6c0\", \"\\ud504\\ub85c\\uadf8\\ub7a8\", \"\\uc0c1\\ub300\", \"\\uc624\\ud6c4\", \"\\uace0\\uc815\", \"\\uac81\\ub2c8\\ub2e4\", \"\\ubb34\\uac8c\", \"\\uc608\\uc804\", \"\\uc2e4\\uc218\", \"\\ub0a8\\uc790\", \"\\uc5ec\\ub984\", \"\\uc7a5\\ub9cc\", \"\\ud640\\ub4dc\", \"\\ud06c\\uae30\", \"\\uae30\\uc874\", \"\\uadf8\\uac74\", \"\\uace0\\uc7a5\", \"\\ucc29\\uc6a9\", \"\\ubaa8\\ub378\", \"\\ubd88\\ud3b8\", \"\\ub290\\ub08c\", \"\\ube14\\ub8e8\", \"\\uc0ac\\uc6a9\", \"\\uc0dd\\uac01\", \"\\uae30\\ub2a5\", \"\\uc74c\\uc9c8\", \"\\ucc29\\uc6a9\\uac10\", \"\\ucc98\\uc74c\", \"\\uc2a4\\ud53c\\ucee4\", \"\\uc774\\uc5b4\\ud3f0\", \"\\ub514\\uc790\\uc778\", \"\\ube14\\ub8e8\\ud22c\\uc2a4\", \"\\uac71\\uc815\", \"\\ub54c\\ubb38\", \"\\ub9cc\\uc871\", \"\\uc815\\ub3c4\", \"\\ud3b8\\ub9ac\", \"\\ucda9\\uc804\", \"\\uc8fc\\ubb38\", \"\\uc81c\\ud488\", \"\\ud6c4\\uae30\", \"\\uad6c\\uc785\", \"\\uc18c\\ub2c8\", \"\\ub2e8\\uc810\", \"\\uc0c1\\ub300\\ubc29\", \"\\uac00\\uc131\", \"\\uac10\\uc0c1\", \"\\uc5f0\\uacb0\", \"\\ubaa9\\uc18c\\ub9ac\", \"\\ub9c8\\uc774\\ud06c\", \"\\uc601\\ud654\", \"\\uc74c\\uc131\", \"\\ubaa9\\uac78\\uc774\", \"\\ucef4\\ud4e8\\ud130\", \"\\uc9c0\\uc6d0\", \"\\ubc18\\ud488\", \"\\ucda9\\uc804\\uae30\", \"\\uc624\\ub514\\uc624\", \"\\uc81c\\uac70\", \"\\uc2a4\\ud2f0\\ucee4\", \"\\uc9dc\\uc99d\", \"\\ub9cc\\ud07c\", \"\\uc644\\ubcbd\", \"\\ucf54\\ub9ac\\uc544\", \"\\ub2e8\\uc790\", \"\\ub140\\uc11d\", \"\\uc218\\uc900\", \"\\uc804\\uc6a9\", \"\\ubc29\\uc218\", \"\\uadd3\\uad6c\\uba4d\", \"\\uc870\\uc815\", \"\\uac10\\ub3c4\", \"\\ubcf8\\uccb4\", \"\\ub2f5\\ubcc0\", \"\\ud1b5\\ud654\", \"\\uc804\\ud654\", \"\\uae30\\ub300\", \"\\ucc28\\ub7c9\", \"\\uc8fc\\ubcc0\", \"\\ube44\\ucd94\", \"\\ub3d9\\uc2dc\", \"\\uc74c\\uc545\", \"\\uacbd\\uc6b0\", \"\\ucd94\\uac00\", \"\\ub178\\ub798\", \"\\ucc38\\uace0\", \"\\ud578\\ub4dc\\ud3f0\", \"\\ubb38\\uc81c\", \"\\ub178\\ud2b8\\ubd81\", \"\\uc18c\\ub9ac\", \"\\uc7a1\\uc74c\", \"\\uc74c\\uc9c8\", \"\\uae30\\uae30\", \"\\ud488\\uc9c8\", \"\\uc0ac\\uc6a9\", \"\\ube14\\ub8e8\\ud22c\\uc2a4\", \"\\ucda9\\uc804\", \"\\uc815\\ub3c4\", \"\\uae30\\ub2a5\", \"\\uc0dd\\uac01\", \"\\uc774\\uc0c1\", \"\\ud558\\ub098\", \"\\uac10\\uc0ac\", \"\\ubc30\\uc1a1\", \"\\ucd1d\\uc54c\", \"\\ubca0\\ub9ac\", \"\\uac00\\uc815\", \"\\ube60\\ub984\", \"\\uc548\\ub4dc\\ub85c\\uc774\\ub4dc\", \"\\ubd80\\ubaa8\", \"\\uc751\\ub300\", \"\\ub9cc\\uc871\\ub3c4\", \"\\uc870\\ub9bd\", \"\\uc885\\uc77c\", \"\\uc5c5\\ubb34\", \"\\ucd5c\\uc0c1\", \"\\ud488\\uc808\", \"\\uad6d\\ub0b4\", \"\\uc778\\uc0c1\", \"\\uc810\\uc2ec\", \"\\ub290\\ub9bc\", \"\\uba85\\ud488\", \"\\ub2f9\\uc77c\", \"\\ub2e4\\uc774\\uc5b4\\ub9ac\", \"\\uc0c1\\uc6a9\", \"\\uc628\\ub77c\\uc778\", \"\\uc9c8\\ubb38\", \"\\uc870\\uce74\", \"\\uc2a4\\ud2b8\\ub9ac\\ubc0d\", \"\\ub124\\uc774\\ubc84\", \"\\uc5f0\\ub9d0\", \"\\ub0a0\\uc9dc\", \"\\uc775\\uc77c\", \"\\uc0c1\\ud488\", \"\\ub9cc\\uc871\", \"\\uc644\\uc804\", \"\\ud558\\ub8e8\", \"\\uc774\\uc6a9\", \"\\ud488\\uc9c8\", \"\\uce5c\\uc808\", \"\\ub2e4\\uc74c\", \"\\uc81c\\ud488\", \"\\uc74c\\uc9c8\", \"\\ub300\\ube44\", \"\\uc2e0\\ub791\", \"\\uc131\\ube44\", \"\\uac00\\uaca9\", \"\\uc801\\uadf9\", \"\\uc2ec\\ud50c\", \"\\ub0a8\\ud3b8\", \"\\ubd09\\uc778\", \"\\ub77c\\ubca8\", \"\\ud3b8\\uc548\", \"\\uc544\\ub4e4\", \"\\uc0dd\\ud65c\", \"\\ud50c\\ub808\\uc774\", \"\\uac80\\uc815\", \"\\ubd80\\uc790\", \"\\uace0\\uc694\", \"\\uae08\\uc561\", \"\\uc5ed\\uc2dc\", \"\\uba54\\uc774\\ucee4\", \"\\uc911\\uad6d\", \"\\uc560\\uc6a9\", \"\\uc131\\ub2a5\", \"\\uc774\\ub984\\uac12\", \"\\uc911\\uace0\", \"\\uc548\\ub0b4\", \"\\uc0ac\\uc591\", \"\\uad6c\\uc5ec\", \"\\ub4b7\\uc8fc\\uba38\\ub2c8\", \"\\uc810\\uc218\", \"\\ub2f4\\ub0a0\", \"\\ucd5c\\uace0\", \"\\ud65c\\uc6a9\", \"\\ucd94\\ucc9c\", \"\\uc2e0\\uc18d\", \"\\ub514\\uc790\\uc778\", \"\\uace0\\uac00\", \"\\uc6b0\\uc218\", \"\\ud488\\uc9c8\", \"\\ub9cc\\uc871\", \"\\uc74c\\uc9c8\", \"\\ud3b8\\uc758\", \"\\uc0c1\\ud488\", \"\\uc644\\uc804\", \"\\uc0c9\\uc0c1\", \"\\uc81c\\ud488\", \"\\ub9c8\\uc74c\", \"\\uc218\\uace0\", \"\\ud310\\ub9e4\", \"\\uc5f0\\ub77d\", \"\\uc635\\uc158\", \"\\uc6b0\\uccb4\\uad6d\", \"\\ubb3c\\uac74\", \"\\ub2c9\\uc2a4\", \"\\ud50c\\ub79c\\ud2b8\", \"\\uc8fc\\uc77c\", \"\\ub9c8\\ub2c8\", \"\\uc9c0\\uc7a5\", \"\\ubb3c\\ud488\", \"\\ub3c4\\ucc29\", \"\\ub9ac\\uc2dc\\ubc84\", \"\\uc9c1\\uc6d0\", \"\\uc708\\ub3c4\\uc6b0\", \"\\ubca0\\uc774\\uc2a4\", \"\\uc790\\ubd84\", \"\\ucee4\\ub110\", \"\\ucee4\\ubc84\", \"\\ubbf8\\ub2c8\", \"\\uc624\\uc804\", \"\\ud604\\uc7ac\", \"\\ud5e4\\ub4dc\", \"\\ud0dd\\ubc30\", \"\\uae30\\uc0ac\", \"\\ud1a0\\uc694\\uc77c\", \"\\ub3d9\\ub8cc\", \"\\ucd94\\uc11d\", \"\\uad6c\\ub9e4\", \"\\uc8fc\\ubb38\", \"\\uc815\\ud655\", \"\\ub2e4\\uc74c\", \"\\uc0dd\\uac01\", \"\\uc2a4\\ud14c\\ub808\\uc624\", \"\\ud5e4\\ub4dc\\ud3f0\", \"\\ud1b5\\ud654\\uc74c\", \"\\uac24\\ub7ed\\uc2dc\", \"\\ube14\\ub799\", \"\\uc544\\uc774\", \"\\uc545\\uac10\", \"\\ud504\\ub9ac\", \"\\uc544\\uc774\\ud328\\ub4dc\", \"\\ub9ac\\ubc84\", \"\\uc5d8\\uc9c0\", \"\\ud578\\uc988\", \"\\uc74c\\ud5a5\", \"\\uc774\\ub3d9\", \"\\ud488\\ud3c9\", \"\\uc5c5\\uccb4\", \"\\ub204\\uac00\", \"\\uc635\\ud2f0\\uba38\\uc2a4\", \"\\ub178\\ud2b8\", \"\\uc6a9\\ub3c4\", \"\\ud3ec\\uc778\\ud2b8\", \"\\uc791\\uc131\", \"\\ubaa8\\ud1a0\", \"\\uacbd\\ud5d8\", \"\\uacb8\\uc6a9\", \"\\uc774\\uac83\\uc800\\uac83\", \"\\ub0b4\\uc6a9\", \"\\uc0ac\\uc2e4\", \"\\ud6a8\\uacfc\", \"\\uc2e4\\ub0b4\", \"\\ud5e4\\ub4dc\\uc14b\", \"\\ubc88\\uac00\", \"\\uc0bc\\uc131\", \"\\ud654\\uc774\\ud2b8\", \"\\ubb34\\uc120\", \"\\ube14\\ub8e8\\ud22c\\uc2a4\", \"\\uc774\\uc5b4\\ud3f0\", \"\\uc544\\uc774\\ud3f0\", \"\\uc120\\ud0dd\", \"\\ubc88\\ub4e4\", \"\\uc2a4\\ub9c8\\ud2b8\\ud3f0\", \"\\ubaa8\\ub178\", \"\\uc18c\\ub2c8\", \"\\uc0c1\\ud488\", \"\\uc870\\uc544\", \"\\uac8c\\uc694\", \"\\ubcf4\\ud1b5\", \"\\uc870\\uc808\", \"\\uc2e4\\ub9dd\", \"\\uc911\\uac04\", \"\\uacb0\\uc815\", \"\\ud770\\uc0c9\", \"\\ud45c\\uc2dc\", \"\\uc640\\uc774\\ud504\", \"\\ub2a5\\ube44\", \"\\uad00\\uacc4\", \"\\ubc27\\ub370\\ub9ac\", \"\\uc0c1\\ud669\", \"\\uc804\\ud658\", \"\\uad6d\\uc0b0\", \"\\ud30c\\ub780\\uc0c9\", \"\\uc67c\\ucabd\", \"\\uc74c\\ub7c9\", \"\\uc778\\uc2dd\", \"\\ucd5c\\ub300\", \"\\ud3ec\\ud568\", \"\\uc678\\uad00\", \"\\ud558\\uc580\\uc0c9\", \"\\uc6a9\\ub7c9\", \"\\uc791\\uc5c5\", \"\\uc644\\ub8cc\", \"\\ub2f9\\ud669\", \"\\ub85c\\ub77c\", \"\\uc624\\ud504\", \"\\uc791\\ub3d9\", \"\\ubcfc\\ub968\", \"\\uc2dc\\uac04\", \"\\ubc84\\ud2bc\", \"\\ub300\\uae30\", \"\\uc774\\uac78\", \"\\ubc84\\uc804\", \"\\ud638\\ud658\", \"\\uc804\\uc6d0\", \"\\uc7ac\\uc0dd\", \"\\ubc30\\ud130\\ub9ac\", \"\\ud6c4\\ud68c\", \"\\uc790\\ub3d9\", \"\\uc870\\uc791\", \"\\uc815\\ub3c4\", \"\\ucda9\\uc804\", \"\\uac00\\ub2a5\", \"\\uac00\\uaca9\\ub300\", \"\\uc0c9\\uc0c1\", \"\\ud398\\uc5b4\\ub9c1\", \"\\ud655\\uc778\", \"\\ub2e8\\uc810\", \"\\ud558\\ub8e8\", \"\\uc74c\\uc9c8\", \"\\uc0ac\\uc6a9\", \"\\uc0dd\\uac01\", \"\\ubc29\\ubc95\", \"\\uc124\\uc815\", \"\\uc18c\\uc74c\", \"\\ubd88\\ub9cc\", \"\\uc815\\ud488\", \"\\ubaa8\\uc591\", \"\\ud551\\ud06c\", \"\\ud585\\ud2f1\", \"\\ubd88\\uc548\", \"\\uba40\\ud2f0\", \"\\uc624\\ub978\\ucabd\", \"\\ubbf8\\ud130\", \"\\uc2dc\\uc791\", \"\\uc634\\ub2c8\\uc544\", \"\\uc774\\ud574\", \"\\uc704\\uce58\", \"\\uc544\\uce68\", \"\\uc774\\uc720\", \"\\uc6d0\\ub300\", \"\\uc0c9\\uae54\", \"\\uc0ac\\uace0\", \"\\uacf5\\ubd80\", \"\\uace0\\uc0dd\", \"\\uac74\\uac00\\uc694\", \"\\ud574\\uacb0\", \"\\ubd80\\uc704\", \"\\ucfe0\\ud0a4\", \"\\ubc30\\ub2ec\", \"\\ud654\\uba74\", \"\\ub8e8\\ud2b8\", \"\\uac74\\uc9c0\", \"\\ubc15\\uc2a4\", \"\\uc778\\ud130\\ub137\", \"\\uc124\\uba85\", \"\\uc81c\\ud488\", \"\\uadc0\\uac78\\uc774\", \"\\ud3ec\\uc7a5\", \"\\ub2e4\\ud589\", \"\\uc774\\ubc88\", \"\\ud398\\uc5b4\\ub9c1\", \"\\uc774\\uc0c1\", \"\\uace0\\ubbfc\", \"\\uc7a1\\uc74c\", \"\\uc18c\\ub2c8\", \"\\ud310\\ub9e4\\uc790\", \"\\uac1c\\ubd09\", \"\\uc120\\ud0dd\", \"\\ud14c\\uc2a4\\ud2b8\", \"\\ub2e4\\uc74c\", \"\\uc124\\uba85\\uc11c\", \"\\uc0ac\\uc6a9\", \"\\uc120\\ubb3c\", \"\\uac15\\ucd94\", \"\\uce5c\\uad6c\", \"\\ud655\\uc815\", \"\\uc9c0\\uc778\", \"\\ubd84\\uc2e4\", \"\\uc120\\uba85\", \"\\uace0\\ub9ac\", \"\\uc5ec\\uc790\", \"\\uac74\\ub370\", \"\\uc2e0\\ud638\", \"\\ud560\\uc778\", \"\\ud754\\uc801\", \"\\uc2a4\\uc704\\uce58\", \"\\ub77c\\ub514\\uc624\", \"\\uc0dd\\uc77c\", \"\\ub300\\uccb4\", \"\\uc5d0\\ub9ad\\uc2a8\", \"\\ud5c8\\uc811\", \"\\ub3d9\\uc0dd\", \"\\uc694\\uc998\", \"\\uc548\\uc815\", \"\\uc804\\uc790\", \"\\ud130\\uce58\", \"\\uc544\\ube60\", \"\\uc5e0\\ud53c\", \"\\ub3d9\\ubd09\", \"\\uc785\\uc7a5\", \"\\ubc29\\uc2dd\", \"\\ub4f1\\uc0b0\", \"\\uc800\\uc74c\", \"\\ucc98\\ub9ac\", \"\\ube0c\\ub79c\\ub4dc\", \"\\ucf00\\uc774\\uc2a4\", \"\\uad6c\\uc785\", \"\\ud558\\ub098\", \"\\uace0\\uae09\", \"\\uad6c\\ub9e4\", \"\\uad50\\ud658\", \"\\ubd88\\ub7c9\", \"\\uc5ec\\uae30\", \"\\uc18c\\ub2c8\", \"\\uc0c1\\ud488\", \"\\uc81c\\ud488\", \"\\ud544\\uc694\", \"\\uc774\\uc5b4\\ud3f0\", \"\\ub098\\ub984\", \"\\ub300\\ubc15\", \"\\ubc88\\ucc3d\", \"\\ud328\\ub4dc\", \"\\ub0b4\\uc694\", \"\\uc0ac\\uc5c5\", \"\\ub098\\uba38\\uc9c0\", \"\\uace0\\ubb34\", \"\\uc6b4\\ub3d9\", \"\\ubcc4\\ub3c4\", \"\\uad6c\\uba4d\", \"\\uc7a5\\ucc29\", \"\\uc774\\ub984\", \"\\uc7ac\\ud488\", \"\\ub4dc\\ub77c\\uc774\\ubc84\", \"\\ub098\\uc138\", \"\\ub9ac\\ubaa8\\ucee8\", \"\\ub0a8\\uce5c\", \"\\ud5ec\\uc2a4\", \"\\uc561\\uc815\", \"\\uc124\\uce58\", \"\\uc218\\uc2e0\", \"\\ucc28\\uc74c\", \"\\ub9e4\\ub825\", \"\\ubc29\\ud574\", \"\\uba38\\uc2e0\", \"\\ub2e4\\uc6b4\", \"\\uc9c0\\uc9c1\", \"\\ub0b4\\uc7a5\", \"\\ub2e8\\uc120\", \"\\uc18c\\ub9ac\", \"\\ud3b8\\ub9ac\", \"\\uac70\\ub9ac\", \"\\uc774\\uac70\", \"\\uc0c1\\ud0dc\", \"\\ud544\\uc694\", \"\\uce74\\ub4dc\", \"\\uac71\\uc815\", \"\\uc0ac\\uc6a9\", \"\\uc74c\\uc9c8\", \"\\uad6c\\uc785\", \"\\ud3ec\\uc7a5\", \"\\ud558\\ub098\"], \"Freq\": [7961.0, 6056.0, 5637.0, 4683.0, 7302.0, 3410.0, 4038.0, 2885.0, 3721.0, 1722.0, 5332.0, 2702.0, 2067.0, 1409.0, 1494.0, 1699.0, 1483.0, 1018.0, 5521.0, 1719.0, 1924.0, 968.0, 1691.0, 1152.0, 809.0, 725.0, 2354.0, 1239.0, 907.0, 610.0, 284.85047248037563, 185.83750777868556, 179.59655876169188, 292.3371383323661, 162.8176157453968, 144.7951697583905, 112.93954857346527, 102.94875622957733, 104.40372423704702, 102.43030201188682, 94.54676408897029, 96.29763555694947, 90.22122585335758, 92.54835799537263, 85.20681504704979, 73.27614462167669, 795.7595127057651, 74.33462593459593, 67.6890932194148, 64.71162204451959, 63.03389009293769, 197.58648554219238, 59.430707075464916, 162.04412436200892, 130.8139936332327, 54.03079690106099, 53.94680944966444, 49.23646880323067, 48.77407454894916, 49.490579425727056, 418.5068054723617, 212.78376191790449, 102.5399292915092, 215.54287637851525, 308.58263844980763, 204.7485168949451, 897.6589300619729, 402.4528128151191, 86.49659598082673, 3995.686166622733, 1787.4197106967445, 758.2882033740693, 3277.69829595541, 306.73529169596185, 349.5903581922743, 225.93682160830238, 1125.9966956874707, 805.6558468401356, 1057.626531719093, 224.39994062226668, 220.1073561665195, 1252.1252997447177, 380.0719568076081, 295.27416548656294, 308.8701456250267, 276.8791835367771, 428.66716342152944, 202.09348685374545, 248.82178271313447, 214.5504584157768, 207.1315040129353, 421.1894802837127, 223.88640414945428, 238.15500217838309, 1691.9193228710574, 154.17369743805548, 291.8712576293364, 128.26760270595284, 128.94340681939605, 122.48495054458157, 120.60090580833658, 134.34829467867115, 228.95766458555573, 267.42187303270947, 105.73172820362636, 86.41777504792867, 83.45986382449284, 80.60493650597577, 98.99300661027482, 79.87356215640966, 77.54644907784248, 68.34081972596434, 67.5387272295249, 68.53790994594856, 63.503041834314544, 63.32230981289247, 63.12777536025543, 61.60519466685458, 62.06031438568535, 64.8879780399322, 58.019073254402926, 2027.38040933196, 889.7985520482725, 434.0808995368812, 185.13955487204785, 161.3518243217883, 115.51022926563795, 83.4904493425443, 1592.713112474879, 246.92497941963666, 116.53281946335713, 274.5462708628415, 134.75124326757373, 321.081038950074, 419.4764852663957, 155.89661939050936, 754.5590864026761, 240.25155542881, 975.6662577234574, 202.5664761981779, 316.1266614156232, 695.8087289265229, 514.0670184597845, 280.0499130573953, 277.5750804887822, 246.8005257814614, 307.5292145645567, 197.1837726569843, 188.00917302453533, 3409.4486562144975, 7951.121988400729, 97.47427121398272, 69.51242116893772, 63.86323734488622, 55.65245220555175, 49.14546595333975, 38.906539337287704, 32.70762456848363, 24.938373489648015, 22.426483573462892, 20.51530617641355, 20.363787816468648, 19.71583304548957, 19.095072199087447, 17.129984704166944, 15.466460479867598, 15.458884217338177, 13.065350290808501, 12.884523727172406, 13.723163275756432, 11.039564265727705, 10.339650597428856, 9.85110052788165, 10.43516640075944, 8.128423000227128, 7.323325955765698, 6.968549116487279, 5.072229669487104, 4.375664279709479, 8.59305277508068, 1253.2833230086926, 4838.398332879356, 222.7627259827826, 186.34277182186295, 98.25059867338662, 241.58884603005825, 58.580263660342276, 78.9497776015603, 94.32961120821369, 13.372522545239526, 2884.360091108438, 273.4405705153878, 366.8890248838493, 5621.390708096156, 206.6785155494636, 215.6277826336555, 126.3860309917987, 108.70389069891708, 84.9628069926023, 82.58134252373327, 73.73932776032767, 72.10783810112731, 67.78396032057458, 61.59906797850244, 40.76828106021097, 39.22710869693261, 36.489676813466296, 35.140021284768224, 34.99638631822762, 34.8531002642596, 32.687665865710365, 1460.6451116197213, 30.236116775097678, 30.012423393275235, 29.434958193043933, 25.67198077558765, 25.452561572779327, 20.93064824958297, 20.913130285420582, 20.294406173481583, 672.0489820706902, 40.55212546646569, 635.439645264954, 35.36713783933019, 1047.1832365477649, 58.726258016874716, 84.79876702311276, 259.78209000950983, 1023.740736902952, 591.1875913084007, 43.824614779984906, 162.20455319674866, 82.81064616442093, 51.66413138683207, 59.713093402949376, 6056.058119162687, 402.1266151966879, 240.04271053075357, 198.0873251297475, 173.31679890845672, 157.6378492663043, 1402.4260282743196, 147.40225175386726, 135.5076188088234, 121.59899431228295, 143.6277788642972, 110.68480942347374, 105.38137768882007, 321.3981286206078, 92.84615735974032, 91.35932422044662, 79.50329444222058, 78.70653312142737, 78.13916307712259, 70.2624442423936, 66.37694703659025, 62.12347720658574, 55.39444660600313, 53.245420372745194, 51.20162798069789, 372.272084074797, 49.34118856754557, 46.76216326756932, 43.80491941953235, 43.60305300521766, 3317.13177884217, 539.9085878325412, 113.3664909990429, 112.03447264334147, 73.12716916729055, 513.1234050498282, 609.1873376169578, 324.42300310159766, 365.8225970965492, 196.02290037709832, 206.4673973913986, 174.0518348434887, 211.203707917815, 157.3489554295107, 173.54089861866316, 136.97720419343983, 159.02651546891613, 98.45237569379938, 100.92602915001737, 91.84803114719361, 90.5043478382997, 81.42832389540813, 75.46276038567207, 75.3220222911005, 70.00578116797108, 69.25408129696032, 68.06839444818377, 62.3327470275798, 72.72130582875207, 53.688781607866794, 41.538234243654564, 105.20454019354536, 44.8419440685878, 40.03459995985893, 39.0102127011853, 783.7688199068075, 181.16248992993042, 195.4412758675722, 151.5363196715513, 477.01929523099625, 2070.0807090716307, 1360.3563624122828, 300.89262567303564, 230.1439334355341, 110.62501559012402, 129.62197415698344, 95.64774470399999, 163.13865821400046, 137.5325339640672, 493.9433008074496, 260.2142950586837, 180.88906544078816, 156.4439380242547, 146.28291409825943, 125.080699087905, 94.39911648063173, 159.27604583069947, 78.61708867693169, 69.61196238293749, 64.60398673031344, 56.26918948057708, 56.04764628836928, 51.43042613676093, 51.73075876954693, 48.875341768896675, 46.35011609775948, 46.04897251215007, 206.88405723324558, 189.1151624438009, 48.85430910490635, 46.93508991472427, 45.96679921621635, 40.88193937362332, 41.325589191125076, 39.90050407433111, 38.506140716505975, 35.61614911676602, 35.47537877987319, 32.78707994078002, 528.0046221261917, 218.41884175577724, 922.4030925802742, 524.1736940157504, 120.58223630076604, 72.72321382992286, 81.0421307344104, 206.86929724049176, 174.63442406303662, 199.96670129999578, 282.46866436273825, 136.93045898978514, 129.43838828131248, 124.17815093435044, 565.5021427112086, 506.6210533125488, 241.1549886873884, 132.8623027522061, 172.11225004971283, 310.13326797453806, 143.0844640533061, 180.58964472282366, 164.12331603706485, 360.5442840733683, 214.87062026735765, 161.67692214540827, 191.10066793456332, 133.69558499968858, 131.3777954137284, 98.21730720766038, 230.71433954658667, 133.67855082361683, 97.37885725512241, 91.82142057576459, 87.03674432390093, 199.88087577840363, 84.88638022962944, 65.38049095369243, 75.46583656995303, 79.06768314639999, 62.130619963641244, 58.645079395615205, 57.39370609465165, 56.064497799374806, 52.43547227378083, 50.18555376295194, 51.56750922653592, 46.52981555215453, 46.40514222532808, 43.95860727410093, 46.78719042316309, 41.04976173237684, 41.085746005452116, 39.07165814559676, 38.46364713733941, 35.98703109714678, 296.83533676624654, 110.62572673457497, 90.09656613055299, 106.80747151978572, 3802.149271324669, 91.12538176080331, 274.45516482309336, 57.27878474885102, 213.40418043370946, 684.3431293243545, 299.7428569880341, 207.04854509643314, 195.61842079502253, 249.78086124389247, 110.09137130019126, 80.92013566499315, 136.72018551062757, 101.29677426846818, 102.87979969957203, 81.51669918697534, 89.4739370412042, 1017.7895695847027, 569.7556394786628, 378.63504424615576, 239.20668460341207, 161.37352142262412, 193.9443885246254, 131.417473578865, 111.92716794390451, 105.66656716205866, 261.2890147529663, 88.45717444910449, 86.35977476543724, 85.19935901805478, 84.14752378811454, 78.87801113306986, 77.98332855341916, 102.70533889507766, 75.60466594976846, 74.43034785264138, 73.49339724200519, 72.64172696615888, 67.19376101708889, 65.66830722339527, 64.43460837472209, 79.09188959156633, 61.131581147059784, 60.73823851653021, 62.30718228165831, 55.97192093837922, 51.27171033851854, 123.03077417562496, 100.62961754583043, 122.09620079458952, 185.17512178390595, 1045.3183327034908, 554.0577926553829, 138.4353775082466, 488.89481890466703, 133.63862805864102, 102.71155968281796, 80.61837092609206, 99.74756538700245, 102.04108095845768, 107.55645358611372, 87.54397391737683, 81.50803244135237, 350.82676595923925, 328.52964398224896, 496.08481791461503, 221.2071986858921, 291.0212680231855, 141.9429941276103, 97.55449646119298, 91.1951507891576, 480.0005434231628, 72.4498934531019, 57.04987476862871, 58.27529564858781, 53.346404474271196, 52.51188298157282, 47.32741802259303, 44.311592428603426, 38.3876731592646, 35.364193788530365, 35.817121431455334, 34.89155637135028, 189.80352256967421, 329.55152339684963, 27.496372978483297, 30.685889566162864, 25.484649028134864, 25.54138979351166, 24.95466210678744, 24.736470080414882, 22.847902524585756, 22.283206356711105, 937.677774254054, 425.1314122707194, 218.31381867252918, 172.83393401473134, 200.81609725127475, 224.41767221998305, 29.966161733257465, 104.51280398491394, 274.68043240244634, 216.43562194707084, 97.85207322240434, 55.03212467543599, 58.02580182818637], \"Total\": [7961.0, 6056.0, 5637.0, 4683.0, 7302.0, 3410.0, 4038.0, 2885.0, 3721.0, 1722.0, 5332.0, 2702.0, 2067.0, 1409.0, 1494.0, 1699.0, 1483.0, 1018.0, 5521.0, 1719.0, 1924.0, 968.0, 1691.0, 1152.0, 809.0, 725.0, 2354.0, 1239.0, 907.0, 610.0, 285.62370481811763, 186.59719254733702, 180.3890661644878, 293.852048767868, 163.66528533868942, 145.5565392846442, 113.69473595069579, 103.7102298397483, 105.1884350726483, 103.20857194498797, 95.30134365952594, 97.0685238856594, 90.97582971621915, 93.34952167651461, 85.96155606131121, 74.03681219743115, 804.3722304183182, 75.15011058614543, 68.4440943362691, 65.46627297357303, 63.789383241441655, 200.03704550446, 60.18544651732082, 164.26069729336638, 132.63982689226947, 54.78558832197188, 54.704257331725415, 49.99479672928098, 49.528805445600895, 50.25779543127514, 428.54310373841514, 217.51378975919448, 104.71575584408355, 222.82127733250488, 323.969142143998, 214.12728093298674, 1015.2178695512911, 442.8072165897535, 88.76324569659361, 5332.645689366178, 2354.43112390649, 1025.2638408141274, 5521.035294146462, 417.80746463606107, 498.3291656428186, 294.46018593566305, 2702.265202831236, 1924.199988854403, 3721.64828180274, 362.878216249381, 352.30867020288537, 7302.174522437124, 1239.8913316088592, 725.0889595332108, 1098.0373987346552, 835.4138093581319, 4683.912883420443, 331.77585269737756, 1483.8944756527453, 783.8373576086096, 464.8383825410631, 422.0965794896456, 224.64745266959562, 239.0264106481274, 1699.9735863773008, 155.00980018984123, 293.59394842482396, 129.04842727878668, 129.73887291709684, 123.250496116394, 121.36985334344665, 135.2883815955209, 230.5894436545254, 269.4663142212825, 106.54261263778352, 87.18603047033457, 84.22120405478137, 81.37005615321993, 99.95738922419507, 80.65437500867999, 78.32904599014618, 69.1095257396291, 68.3003332627202, 69.31249567672114, 64.26610552994106, 64.0834388456197, 63.891009487090166, 62.366827604261125, 62.84021326408241, 65.73499240528824, 58.789872229133486, 2067.466853823205, 907.492036326977, 441.0502641368099, 188.09149814615228, 163.9200391712704, 117.34577882670231, 84.657238933781, 1719.1551599108743, 262.8606081169973, 120.5428905670646, 318.59634816663737, 145.50787956051505, 396.15372053165714, 584.4713146698851, 187.89200765408677, 1722.8607092563507, 438.74941299725504, 5521.035294146462, 334.6766202993798, 819.9034118348612, 5332.645689366178, 3721.64828180274, 1098.0373987346552, 1239.8913316088592, 1025.2638408141274, 2354.43112390649, 509.5760699123555, 879.4179109765829, 3410.277901745596, 7961.495181629637, 98.22413816748204, 70.26476850370798, 64.61349012710743, 56.40423385115067, 49.896410103948014, 39.65682709882507, 33.45773482265921, 25.70102454844407, 23.179694554246655, 21.265432742162087, 21.11426739361224, 20.465982623910413, 19.84512034930014, 17.88046444888338, 16.22325778691634, 16.256328759285957, 13.81543335421206, 13.636882118466321, 14.544447479943278, 11.791325467960794, 11.090095143985835, 10.602154822559054, 11.388663650909743, 8.878703330091943, 8.07426226783743, 7.726670993270942, 5.823410157515305, 5.12822160854598, 10.08720190468968, 1691.444513247527, 7302.174522437124, 400.91666742312935, 383.36270392643564, 224.87850306679536, 819.9034118348612, 124.17971574238906, 341.32318796634473, 4683.912883420443, 5521.035294146462, 2885.444123601246, 274.1924636126934, 367.92326806911564, 5637.607429492828, 207.4300460110557, 216.41842280424677, 127.13520491125054, 109.45749331438957, 85.72268701013674, 83.33058105638821, 74.48863568207918, 72.85737861778786, 68.5339316342833, 62.34875042299426, 41.517557146984956, 39.98358482637963, 37.24804083071563, 35.88925095371022, 35.74591211880956, 35.60234963809379, 33.44228241378759, 1494.8505030289205, 30.9858039337917, 30.762803607625, 30.184279380190358, 26.421580130960862, 26.208342206717663, 21.67977903634937, 21.662402458366554, 21.044175674488443, 700.0463812856884, 42.08146965513709, 751.5483976025158, 37.50854522350921, 1924.199988854403, 69.46490954973183, 124.75729617837453, 819.9034118348612, 7302.174522437124, 5521.035294146462, 55.01046703052439, 1691.444513247527, 400.91666742312935, 324.3705897953386, 4683.912883420443, 6056.908254097663, 402.87311406690145, 240.84461821938697, 198.81338805169102, 174.04435081216158, 158.36429846270647, 1409.1372992566328, 148.128180765398, 136.23356558889728, 122.32501534815603, 144.53073293998912, 111.41095923726884, 106.10879769725189, 323.8571697974097, 93.57360490397599, 92.0856554532968, 80.22996783150796, 79.43257202855861, 78.86664033687738, 70.98879305317496, 67.10322008223642, 62.893641621915656, 56.12160425631681, 53.994293750314895, 51.92772998425659, 377.6072936574154, 50.06722410075887, 47.48810634367876, 44.532788681375116, 44.33233270409251, 4038.051406145139, 835.4138093581319, 144.3455089071373, 341.32318796634473, 2354.43112390649, 514.081694981233, 610.5026216100066, 325.2536707854201, 366.9630234521044, 196.79084299887546, 207.36280161447206, 174.83311613709716, 212.1708156245591, 158.10545177269435, 174.3992180450851, 137.73540108437868, 159.98505408369695, 99.20132297738598, 101.71816515435266, 92.59700377982567, 91.25345815366151, 82.17852953650807, 76.21602662229154, 76.08638490641236, 70.75477151926967, 70.01369959624853, 68.82786116354964, 63.084748947269475, 73.99217406688777, 54.62806176481103, 42.2872640460933, 107.14999476946694, 45.6739552321014, 40.79095997230438, 39.759210007084384, 809.0203335840714, 185.18019660425546, 202.79244246214412, 156.7112369239492, 547.3513468066095, 3721.64828180274, 2702.265202831236, 478.6437870500603, 377.568764759396, 165.85287206558294, 260.0783544889888, 141.27203184616522, 783.8373576086096, 1691.444513247527, 494.6969920461338, 260.9705031115804, 181.66511745143367, 157.2503824576387, 147.0961982682136, 125.9310400290047, 95.14682123564825, 160.58896166404872, 79.36703868808047, 70.36051576184403, 65.3565302622299, 57.01752563499688, 56.79517309663724, 52.17810803048488, 52.490311409878636, 49.62349771629193, 47.099765725851135, 46.797141033133585, 210.2741260325737, 192.21497720882078, 49.66172527768553, 47.723606907616876, 46.79906927450154, 41.62970273273782, 42.086569343786955, 40.65005227784709, 39.25484293237084, 36.37007368369497, 36.23524505788197, 33.53464239800611, 546.3760820202943, 225.46894406362833, 968.2902169905476, 568.7628089446333, 125.860909269963, 75.39548907307986, 85.9361754017792, 244.38911745022392, 209.45723344442598, 244.59608205851112, 366.32186002404643, 161.00111042996807, 161.31582485923187, 156.64151382583665, 1239.8913316088592, 1098.0373987346552, 492.28365560848715, 205.59389041039324, 324.3705897953386, 1152.5301528787284, 274.065838922147, 464.8383825410631, 383.36270392643564, 5521.035294146462, 5332.645689366178, 2354.43112390649, 191.87420548519657, 134.4627839089453, 132.13392604905798, 98.97762007430826, 232.51247379805372, 134.75901962881713, 98.16645127102328, 92.61442370910694, 87.80093182657802, 201.8347712277671, 85.8055295292107, 66.13673629443706, 76.3676739514426, 80.03046096251607, 62.89646753475897, 59.40095623668995, 58.15007571196761, 56.82032139864786, 53.200603133542884, 50.98173449137898, 52.39355178764441, 47.28527277344975, 47.16758572771795, 44.715193103555556, 47.60160386389299, 41.809332681419505, 41.848375782410685, 39.826935156844094, 39.21890578714785, 36.745336441703515, 312.51646086003535, 114.40622799383625, 93.85463859295166, 112.12268268072438, 4683.912883420443, 95.98622613138592, 331.76176842396666, 59.59579751140413, 278.871411548084, 1152.5301528787284, 509.5760699123555, 361.18156474506077, 438.74941299725504, 783.8373576086096, 196.23044693115693, 116.46081604886324, 377.568764759396, 211.5077499652634, 341.32318796634473, 180.52854133550554, 5332.645689366178, 1018.5741873015811, 570.5166842597488, 379.38155081234675, 240.0514040110747, 162.11030652771316, 194.9306257760307, 132.15453541421982, 112.66403845702283, 106.41971277350193, 263.3554485812681, 89.19650100144081, 87.09660498819363, 85.93637008507957, 84.885191967452, 79.61491625717692, 78.7208426324738, 103.69771907510646, 76.35021334682217, 75.16934217911106, 74.2320454511947, 73.43231495816697, 67.93183832049827, 66.40605239209391, 65.171621801234, 80.0291674381858, 61.872539026366354, 61.47516907965107, 63.06447194215039, 56.71087900080464, 52.00921318580046, 125.59861086093092, 103.1230094470269, 127.83625172171723, 200.75765125370194, 1483.8944756527453, 879.4179109765829, 185.3329173059855, 4038.051406145139, 281.6430776173909, 252.15677389225456, 105.802509144673, 783.8373576086096, 1691.444513247527, 4683.912883420443, 485.8025735580575, 2702.265202831236, 351.64154979847484, 329.40962899271585, 497.6422949103046, 221.96114666992335, 292.0951964758277, 142.6930734879527, 98.30851854371568, 91.9730187886034, 485.02592489326514, 73.30509077998595, 57.80094893662004, 59.07287450269089, 54.09034646671362, 53.255314422873, 48.0711515669645, 45.054921412889236, 39.13250802433145, 36.107819463916094, 36.57943346413255, 35.63486945117927, 193.87045875306117, 337.94674306154195, 28.239515026010686, 31.528532374797187, 26.22765335170267, 26.287813658036416, 25.697874774130074, 25.480032908304413, 23.59154323204894, 23.026252717815318, 1722.8607092563507, 725.0889595332108, 358.54169991430246, 320.83841110898095, 408.64034998972767, 485.8025735580575, 33.018060661421536, 362.878216249381, 5332.645689366178, 5521.035294146462, 1483.8944756527453, 331.76176842396666, 879.4179109765829], \"Category\": [\"Default\", \"Default\", \"Default\", \"Default\", \"Default\", \"Default\", \"Default\", \"Default\", \"Default\", \"Default\", \"Default\", \"Default\", \"Default\", \"Default\", \"Default\", \"Default\", \"Default\", \"Default\", \"Default\", \"Default\", \"Default\", \"Default\", \"Default\", \"Default\", \"Default\", \"Default\", \"Default\", \"Default\", \"Default\", \"Default\", \"Topic1\", \"Topic1\", \"Topic1\", \"Topic1\", \"Topic1\", \"Topic1\", \"Topic1\", \"Topic1\", \"Topic1\", \"Topic1\", \"Topic1\", \"Topic1\", \"Topic1\", \"Topic1\", \"Topic1\", \"Topic1\", \"Topic1\", \"Topic1\", \"Topic1\", \"Topic1\", \"Topic1\", \"Topic1\", \"Topic1\", \"Topic1\", \"Topic1\", \"Topic1\", \"Topic1\", \"Topic1\", \"Topic1\", \"Topic1\", \"Topic1\", \"Topic1\", \"Topic1\", \"Topic1\", \"Topic1\", \"Topic1\", \"Topic1\", \"Topic1\", \"Topic1\", \"Topic1\", \"Topic1\", \"Topic1\", \"Topic1\", \"Topic1\", \"Topic1\", \"Topic1\", \"Topic1\", \"Topic1\", \"Topic1\", \"Topic1\", \"Topic1\", \"Topic1\", \"Topic1\", \"Topic1\", \"Topic1\", \"Topic1\", \"Topic1\", \"Topic1\", \"Topic1\", \"Topic1\", \"Topic1\", \"Topic2\", \"Topic2\", \"Topic2\", \"Topic2\", \"Topic2\", \"Topic2\", \"Topic2\", \"Topic2\", \"Topic2\", \"Topic2\", \"Topic2\", \"Topic2\", \"Topic2\", \"Topic2\", \"Topic2\", \"Topic2\", \"Topic2\", \"Topic2\", \"Topic2\", \"Topic2\", \"Topic2\", \"Topic2\", \"Topic2\", \"Topic2\", \"Topic2\", \"Topic2\", \"Topic2\", \"Topic2\", \"Topic2\", \"Topic2\", \"Topic2\", \"Topic2\", \"Topic2\", \"Topic2\", \"Topic2\", \"Topic2\", \"Topic2\", \"Topic2\", \"Topic2\", \"Topic2\", \"Topic2\", \"Topic2\", \"Topic2\", \"Topic2\", \"Topic2\", \"Topic2\", \"Topic2\", \"Topic2\", \"Topic2\", \"Topic2\", \"Topic2\", \"Topic2\", \"Topic2\", \"Topic2\", \"Topic2\", \"Topic2\", \"Topic2\", \"Topic2\", \"Topic3\", \"Topic3\", \"Topic3\", \"Topic3\", \"Topic3\", \"Topic3\", \"Topic3\", \"Topic3\", \"Topic3\", \"Topic3\", \"Topic3\", \"Topic3\", \"Topic3\", \"Topic3\", \"Topic3\", \"Topic3\", \"Topic3\", \"Topic3\", \"Topic3\", \"Topic3\", \"Topic3\", \"Topic3\", \"Topic3\", \"Topic3\", \"Topic3\", \"Topic3\", \"Topic3\", \"Topic3\", \"Topic3\", \"Topic3\", \"Topic3\", \"Topic3\", \"Topic3\", \"Topic3\", \"Topic3\", \"Topic3\", \"Topic3\", \"Topic3\", \"Topic3\", \"Topic3\", \"Topic3\", \"Topic4\", \"Topic4\", \"Topic4\", \"Topic4\", \"Topic4\", \"Topic4\", \"Topic4\", \"Topic4\", \"Topic4\", \"Topic4\", \"Topic4\", \"Topic4\", \"Topic4\", \"Topic4\", \"Topic4\", \"Topic4\", \"Topic4\", \"Topic4\", \"Topic4\", \"Topic4\", \"Topic4\", \"Topic4\", \"Topic4\", \"Topic4\", \"Topic4\", \"Topic4\", \"Topic4\", \"Topic4\", \"Topic4\", \"Topic4\", \"Topic4\", \"Topic4\", \"Topic4\", \"Topic4\", \"Topic4\", \"Topic4\", \"Topic4\", \"Topic4\", \"Topic4\", \"Topic4\", \"Topic4\", \"Topic4\", \"Topic4\", \"Topic4\", \"Topic4\", \"Topic5\", \"Topic5\", \"Topic5\", \"Topic5\", \"Topic5\", \"Topic5\", \"Topic5\", \"Topic5\", \"Topic5\", \"Topic5\", \"Topic5\", \"Topic5\", \"Topic5\", \"Topic5\", \"Topic5\", \"Topic5\", \"Topic5\", \"Topic5\", \"Topic5\", \"Topic5\", \"Topic5\", \"Topic5\", \"Topic5\", \"Topic5\", \"Topic5\", \"Topic5\", \"Topic5\", \"Topic5\", \"Topic5\", \"Topic5\", \"Topic5\", \"Topic5\", \"Topic5\", \"Topic5\", \"Topic5\", \"Topic6\", \"Topic6\", \"Topic6\", \"Topic6\", \"Topic6\", \"Topic6\", \"Topic6\", \"Topic6\", \"Topic6\", \"Topic6\", \"Topic6\", \"Topic6\", \"Topic6\", \"Topic6\", \"Topic6\", \"Topic6\", \"Topic6\", \"Topic6\", \"Topic6\", \"Topic6\", \"Topic6\", \"Topic6\", \"Topic6\", \"Topic6\", \"Topic6\", \"Topic6\", \"Topic6\", \"Topic6\", \"Topic6\", \"Topic6\", \"Topic6\", \"Topic6\", \"Topic6\", \"Topic6\", \"Topic6\", \"Topic6\", \"Topic6\", \"Topic6\", \"Topic6\", \"Topic6\", \"Topic6\", \"Topic6\", \"Topic6\", \"Topic6\", \"Topic7\", \"Topic7\", \"Topic7\", \"Topic7\", \"Topic7\", \"Topic7\", \"Topic7\", \"Topic7\", \"Topic7\", \"Topic7\", \"Topic7\", \"Topic7\", \"Topic7\", \"Topic7\", \"Topic7\", \"Topic7\", \"Topic7\", \"Topic7\", \"Topic7\", \"Topic7\", \"Topic7\", \"Topic7\", \"Topic7\", \"Topic7\", \"Topic7\", \"Topic7\", \"Topic7\", \"Topic7\", \"Topic7\", \"Topic7\", \"Topic7\", \"Topic7\", \"Topic7\", \"Topic7\", \"Topic7\", \"Topic7\", \"Topic7\", \"Topic7\", \"Topic7\", \"Topic7\", \"Topic7\", \"Topic7\", \"Topic7\", \"Topic7\", \"Topic7\", \"Topic7\", \"Topic7\", \"Topic7\", \"Topic7\", \"Topic7\", \"Topic7\", \"Topic7\", \"Topic7\", \"Topic7\", \"Topic7\", \"Topic7\", \"Topic8\", \"Topic8\", \"Topic8\", \"Topic8\", \"Topic8\", \"Topic8\", \"Topic8\", \"Topic8\", \"Topic8\", \"Topic8\", \"Topic8\", \"Topic8\", \"Topic8\", \"Topic8\", \"Topic8\", \"Topic8\", \"Topic8\", \"Topic8\", \"Topic8\", \"Topic8\", \"Topic8\", \"Topic8\", \"Topic8\", \"Topic8\", \"Topic8\", \"Topic8\", \"Topic8\", \"Topic8\", \"Topic8\", \"Topic8\", \"Topic8\", \"Topic8\", \"Topic8\", \"Topic8\", \"Topic8\", \"Topic8\", \"Topic8\", \"Topic8\", \"Topic8\", \"Topic8\", \"Topic8\", \"Topic8\", \"Topic8\", \"Topic8\", \"Topic8\", \"Topic8\", \"Topic8\", \"Topic8\", \"Topic8\", \"Topic8\", \"Topic8\", \"Topic9\", \"Topic9\", \"Topic9\", \"Topic9\", \"Topic9\", \"Topic9\", \"Topic9\", \"Topic9\", \"Topic9\", \"Topic9\", \"Topic9\", \"Topic9\", \"Topic9\", \"Topic9\", \"Topic9\", \"Topic9\", \"Topic9\", \"Topic9\", \"Topic9\", \"Topic9\", \"Topic9\", \"Topic9\", \"Topic9\", \"Topic9\", \"Topic9\", \"Topic9\", \"Topic9\", \"Topic9\", \"Topic9\", \"Topic9\", \"Topic9\", \"Topic9\", \"Topic9\", \"Topic9\", \"Topic9\", \"Topic9\", \"Topic9\", \"Topic9\", \"Topic9\", \"Topic9\", \"Topic9\", \"Topic9\", \"Topic9\", \"Topic9\", \"Topic9\", \"Topic9\", \"Topic10\", \"Topic10\", \"Topic10\", \"Topic10\", \"Topic10\", \"Topic10\", \"Topic10\", \"Topic10\", \"Topic10\", \"Topic10\", \"Topic10\", \"Topic10\", \"Topic10\", \"Topic10\", \"Topic10\", \"Topic10\", \"Topic10\", \"Topic10\", \"Topic10\", \"Topic10\", \"Topic10\", \"Topic10\", \"Topic10\", \"Topic10\", \"Topic10\", \"Topic10\", \"Topic10\", \"Topic10\", \"Topic10\", \"Topic10\", \"Topic10\", \"Topic10\", \"Topic10\", \"Topic10\", \"Topic10\", \"Topic10\", \"Topic10\", \"Topic10\", \"Topic10\", \"Topic10\", \"Topic10\", \"Topic10\", \"Topic10\"], \"logprob\": [30.0, 29.0, 28.0, 27.0, 26.0, 25.0, 24.0, 23.0, 22.0, 21.0, 20.0, 19.0, 18.0, 17.0, 16.0, 15.0, 14.0, 13.0, 12.0, 11.0, 10.0, 9.0, 8.0, 7.0, 6.0, 5.0, 4.0, 3.0, 2.0, 1.0, -4.817299842834473, -5.2444000244140625, -5.278600215911865, -4.791399955749512, -5.3765997886657715, -5.49399995803833, -5.742400169372559, -5.835000038146973, -5.821000099182129, -5.840099811553955, -5.920199871063232, -5.901800155639648, -5.9670000076293945, -5.941500186920166, -6.024199962615967, -6.175000190734863, -3.7899999618530273, -6.160699844360352, -6.254300117492676, -6.299300193786621, -6.3256001472473145, -5.18310022354126, -6.384500026702881, -5.381400108337402, -5.5954999923706055, -6.479700088500977, -6.481299877166748, -6.5725998878479, -6.582099914550781, -6.567500114440918, -4.432600021362305, -5.109000205993652, -5.839000225067139, -5.096099853515625, -4.737299919128418, -5.147500038146973, -3.6695001125335693, -4.471700191497803, -6.009200096130371, -2.176300048828125, -2.9807000160217285, -3.838200092315674, -2.3743999004364014, -4.743299961090088, -4.612500190734863, -5.048999786376953, -3.4428000450134277, -3.777600049972534, -3.505500078201294, -5.055799961090088, -5.075200080871582, -3.336699962615967, -4.528900146484375, -4.781400203704834, -4.736400127410889, -4.845699787139893, -4.408599853515625, -5.1605000495910645, -4.952499866485596, -5.1006999015808105, -5.135900020599365, -4.184299945831299, -4.816199779510498, -4.75439977645874, -2.793800115585327, -5.189300060272217, -4.55109977722168, -5.373300075531006, -5.368000030517578, -5.419400215148926, -5.434899806976318, -5.326900005340576, -4.793799877166748, -4.638500213623047, -5.566500186920166, -5.768199920654297, -5.802999973297119, -5.837800025939941, -5.632299900054932, -5.84689998626709, -5.876500129699707, -6.002900123596191, -6.014699935913086, -6.0, -6.076300144195557, -6.079100131988525, -6.082200050354004, -6.106599807739258, -6.099299907684326, -6.054699897766113, -6.166600227355957, -2.6129000186920166, -3.4363999366760254, -4.154099941253662, -5.00629997253418, -5.143799781799316, -5.478000164031982, -5.802599906921387, -2.8541998863220215, -4.718299865722656, -5.469200134277344, -4.612299919128418, -5.32390022277832, -4.455699920654297, -4.188399791717529, -5.178199768066406, -3.6012001037597656, -4.745699882507324, -3.3443000316619873, -4.916299819946289, -4.471199989318848, -3.682300090789795, -3.984999895095825, -4.592400074005127, -4.60129976272583, -4.718800067901611, -4.498799800872803, -4.94320011138916, -4.990900039672852, -1.7555999755859375, -0.9088000059127808, -5.310299873352051, -5.648399829864502, -5.7332000732421875, -5.870800018310547, -5.995100021362305, -6.228700160980225, -6.402299880981445, -6.673500061035156, -6.779699802398682, -6.86870002746582, -6.876100063323975, -6.9085001945495605, -6.940499782562256, -7.049099922180176, -7.151199817657471, -7.151700019836426, -7.319900035858154, -7.333899974822998, -7.2708001136779785, -7.488399982452393, -7.553899765014648, -7.60230016708374, -7.5447001457214355, -7.79449987411499, -7.898799896240234, -7.948500156402588, -8.26609992980957, -8.413800239562988, -7.738900184631348, -2.7564001083374023, -1.4055999517440796, -4.483799934387207, -4.662300109863281, -5.3024001121521, -4.402699947357178, -5.819499969482422, -5.521100044250488, -5.343100070953369, -7.2967000007629395, -1.8461999893188477, -4.202199935913086, -3.9082000255584717, -1.1790000200271606, -4.482100009918213, -4.439700126647949, -4.973999977111816, -5.12470006942749, -5.371099948883057, -5.399499893188477, -5.512800216674805, -5.535099983215332, -5.5970001220703125, -5.692699909210205, -6.105400085449219, -6.143899917602539, -6.216300010681152, -6.254000186920166, -6.2581000328063965, -6.262199878692627, -6.326300144195557, -2.526700019836426, -6.404300212860107, -6.4116997718811035, -6.431099891662598, -6.56790018081665, -6.576499938964844, -6.77209997177124, -6.772900104522705, -6.802999973297119, -3.302999973297119, -6.1107001304626465, -3.3589999675750732, -6.247499942779541, -2.8594000339508057, -5.7403998374938965, -5.373000144958496, -4.253499984741211, -2.8821001052856445, -3.4312000274658203, -6.033100128173828, -4.724400043487549, -5.396699905395508, -5.868500232696533, -5.723800182342529, -1.0479999780654907, -3.759999990463257, -4.276000022888184, -4.468100070953369, -4.601600170135498, -4.696499824523926, -2.5107998847961426, -4.763599872589111, -4.847700119018555, -4.955999851226807, -4.7895002365112305, -5.050099849700928, -5.0991997718811035, -3.984100103378296, -5.225800037384033, -5.242000102996826, -5.38100004196167, -5.390999794006348, -5.3983001708984375, -5.504499912261963, -5.561399936676025, -5.627600193023682, -5.742300033569336, -5.781899929046631, -5.821000099182129, -3.837100028991699, -5.857999801635742, -5.9116997718811035, -5.9770002365112305, -5.981599807739258, -1.649899959564209, -3.465399980545044, -5.026100158691406, -5.038000106811523, -5.464600086212158, -3.3057000637054443, -3.134000062942505, -3.7641000747680664, -3.6440000534057617, -4.267899990081787, -4.216000080108643, -4.3867998123168945, -4.193299770355225, -4.48769998550415, -4.389800071716309, -4.626399993896484, -4.477099895477295, -4.956600189208984, -4.93179988861084, -5.026000022888184, -5.040800094604492, -5.146399974822998, -5.222499847412109, -5.224400043487549, -5.297599792480469, -5.3084001541137695, -5.325699806213379, -5.413700103759766, -5.259500026702881, -5.563000202178955, -5.8196001052856445, -4.8902997970581055, -5.743000030517578, -5.856400012969971, -5.882299900054932, -2.8821001052856445, -4.346799850463867, -4.270899772644043, -4.525300025939941, -3.3785998821258545, -1.9107999801635742, -2.330699920654297, -3.839400053024292, -4.107500076293945, -4.840000152587891, -4.68149995803833, -4.985499858856201, -4.451600074768066, -4.622300148010254, -3.3434998989105225, -3.984499931335449, -4.348100185394287, -4.493299961090088, -4.560400009155273, -4.7170000076293945, -4.9984002113342285, -4.475299835205078, -5.181399822235107, -5.302999973297119, -5.377699851989746, -5.5157999992370605, -5.519800186157227, -5.6057000160217285, -5.599899768829346, -5.656700134277344, -5.709700107574463, -5.716300010681152, -4.213799953460693, -4.303599834442139, -5.657100200653076, -5.697199821472168, -5.7179999351501465, -5.835299968719482, -5.82450008392334, -5.859600067138672, -5.895100116729736, -5.973199844360352, -5.977099895477295, -6.0559000968933105, -3.276900053024292, -4.1595001220703125, -2.7190001010894775, -3.28410005569458, -4.753600120544434, -5.259300231933594, -5.151000022888184, -4.213900089263916, -4.383299827575684, -4.247799873352051, -3.902400016784668, -4.626500129699707, -4.682799816131592, -4.7241997718811035, -3.208199977874756, -3.31820011138916, -4.060500144958496, -4.656599998474121, -4.397799968719482, -3.809000015258789, -4.582499980926514, -4.349699974060059, -4.445300102233887, -3.6582999229431152, -4.175899982452393, -4.460400104522705, -4.151199817657471, -4.508399963378906, -4.525899887084961, -4.816800117492676, -3.9628000259399414, -4.508600234985352, -4.825399875640869, -4.884200096130371, -4.937699794769287, -4.106299877166748, -4.962699890136719, -5.223800182342529, -5.0802998542785645, -5.033699989318848, -5.274799823760986, -5.332499980926514, -5.354100227355957, -5.377500057220459, -5.444399833679199, -5.48829984664917, -5.461100101470947, -5.563899993896484, -5.5665998458862305, -5.620800018310547, -5.5584001541137695, -5.689199924468994, -5.688300132751465, -5.73859977722168, -5.754300117492676, -5.820799827575684, -3.7107999324798584, -4.69789981842041, -4.90310001373291, -4.732999801635742, -1.1606999635696411, -4.8917999267578125, -3.7892000675201416, -5.356100082397461, -4.040800094604492, -2.875499963760376, -3.7011001110076904, -4.071100234985352, -4.127799987792969, -3.8833999633789062, -4.702700138092041, -5.010499954223633, -4.486100196838379, -4.785999774932861, -4.770400047302246, -5.003200054168701, -4.910099983215332, -2.461199998855591, -3.0413999557495117, -3.450000047683716, -3.9093000888824463, -4.3028998374938965, -4.11899995803833, -4.508200168609619, -4.668799877166748, -4.72629976272583, -3.821000099182129, -4.904099941253662, -4.928100109100342, -4.9415998458862305, -4.953999996185303, -5.018700122833252, -5.030099868774414, -4.754799842834473, -5.061100006103516, -5.0767998695373535, -5.089399814605713, -5.101099967956543, -5.178999900817871, -5.202000141143799, -5.2210001945495605, -5.015999794006348, -5.273600101470947, -5.28000020980835, -5.254499912261963, -5.361800193786621, -5.44950008392334, -4.57420015335083, -4.775199890136719, -4.5817999839782715, -4.165299892425537, -2.434499979019165, -3.0694000720977783, -4.456200122833252, -3.194499969482422, -4.491499900817871, -4.754700183868408, -4.9969000816345215, -4.783999919891357, -4.761199951171875, -4.708600044250488, -4.9145002365112305, -4.985899925231934, -3.123300075531006, -3.1888999938964844, -2.7767999172210693, -3.5845000743865967, -3.3101999759674072, -4.02810001373291, -4.403200149536133, -4.470600128173828, -2.809799909591675, -4.700699806213379, -4.939599990844727, -4.918399810791016, -5.006800174713135, -5.022500038146973, -5.126500129699707, -5.192299842834473, -5.3358001708984375, -5.417900085449219, -5.405099868774414, -5.431300163269043, -3.737600088119507, -3.185800075531006, -5.66949987411499, -5.559800148010254, -5.745500087738037, -5.743299961090088, -5.766499996185303, -5.775300025939941, -5.854700088500977, -5.879700183868408, -2.140199899673462, -2.9312000274658203, -3.597599983215332, -3.831199884414673, -3.6812000274658203, -3.5701000690460205, -5.583499908447266, -4.3343000411987305, -3.368000030517578, -3.606300115585327, -4.400100231170654, -4.9756999015808105, -4.922699928283691], \"loglift\": [30.0, 29.0, 28.0, 27.0, 26.0, 25.0, 24.0, 23.0, 22.0, 21.0, 20.0, 19.0, 18.0, 17.0, 16.0, 15.0, 14.0, 13.0, 12.0, 11.0, 10.0, 9.0, 8.0, 7.0, 6.0, 5.0, 4.0, 3.0, 2.0, 1.0, 1.6184, 1.6171, 1.6167, 1.616, 1.616, 1.6159, 1.6145, 1.6138, 1.6137, 1.6136, 1.6132, 1.6132, 1.6128, 1.6125, 1.6123, 1.6108, 1.6104, 1.6102, 1.6101, 1.6096, 1.6092, 1.6088, 1.6085, 1.6076, 1.6073, 1.6073, 1.6072, 1.6059, 1.6058, 1.6058, 1.5975, 1.5992, 1.6002, 1.5879, 1.5725, 1.5764, 1.4981, 1.5256, 1.5953, 1.3325, 1.3456, 1.3195, 1.0997, 1.3121, 1.2666, 1.3563, 0.7457, 0.7505, 0.363, 1.1405, 1.1508, -0.1422, 0.4387, 0.7228, 0.3528, 0.5168, -0.7701, 1.1254, -0.1645, 0.3255, 0.8128, 1.8609, 1.8597, 1.8594, 1.8583, 1.8576, 1.8572, 1.857, 1.8569, 1.8568, 1.8567, 1.8561, 1.8559, 1.8554, 1.8554, 1.8542, 1.854, 1.8536, 1.8534, 1.8533, 1.853, 1.8519, 1.8518, 1.8518, 1.8511, 1.8511, 1.851, 1.8508, 1.8506, 1.8501, 1.8499, 1.8435, 1.8434, 1.8471, 1.8472, 1.8473, 1.8473, 1.8492, 1.7867, 1.8005, 1.8292, 1.7142, 1.7862, 1.6529, 1.5313, 1.6764, 1.0374, 1.2608, 0.1298, 1.361, 0.91, -0.1735, -0.1165, 0.4967, 0.3664, 0.4389, -0.1724, 0.9136, 0.3203, 2.2003, 2.1992, 2.1929, 2.1898, 2.1888, 2.1871, 2.1854, 2.1814, 2.1778, 2.1704, 2.1675, 2.1646, 2.1643, 2.1632, 2.162, 2.1576, 2.1527, 2.1502, 2.1447, 2.1438, 2.1424, 2.1346, 2.1305, 2.127, 2.1131, 2.1122, 2.1029, 2.0973, 2.0624, 2.0418, 2.0402, 1.9007, 1.7889, 1.6129, 1.4791, 1.3725, 0.9786, 1.4492, 0.7365, -1.7046, -3.8226, 2.2767, 2.2744, 2.2743, 2.2742, 2.2735, 2.2735, 2.2712, 2.2702, 2.2682, 2.2681, 2.267, 2.2668, 2.2661, 2.265, 2.2589, 2.258, 2.2565, 2.256, 2.2559, 2.2558, 2.2543, 2.254, 2.2526, 2.2524, 2.252, 2.2483, 2.2479, 2.242, 2.2419, 2.2408, 2.2363, 2.2401, 2.1093, 2.2183, 1.6687, 2.1092, 1.891, 1.1278, 0.3124, 0.0429, 2.0498, -0.0674, 0.6999, 0.44, -2.0852, 2.3335, 2.3318, 2.3303, 2.33, 2.3295, 2.3291, 2.3289, 2.3287, 2.3283, 2.3277, 2.3274, 2.3271, 2.3268, 2.326, 2.3258, 2.3257, 2.3246, 2.3245, 2.3244, 2.3234, 2.3228, 2.3213, 2.3206, 2.3197, 2.3196, 2.3194, 2.319, 2.3182, 2.3172, 2.3171, 2.137, 1.8971, 2.0921, 1.2196, -1.1382, 2.5424, 2.5421, 2.5417, 2.5411, 2.5403, 2.5399, 2.5398, 2.5397, 2.5395, 2.5393, 2.5387, 2.5382, 2.5367, 2.5364, 2.5361, 2.536, 2.5351, 2.5343, 2.5342, 2.5336, 2.5333, 2.5332, 2.5323, 2.5269, 2.5269, 2.5264, 2.5259, 2.5259, 2.5255, 2.5252, 2.5125, 2.5223, 2.5073, 2.5107, 2.4067, 1.9577, 1.8579, 2.0801, 2.0492, 2.1393, 1.8479, 2.1542, 0.9747, 0.0348, 2.5429, 2.5416, 2.5402, 2.5393, 2.5389, 2.5377, 2.5366, 2.5363, 2.535, 2.5338, 2.5329, 2.5313, 2.5312, 2.53, 2.5299, 2.5293, 2.5284, 2.5283, 2.5282, 2.5282, 2.5281, 2.5278, 2.5265, 2.5263, 2.5262, 2.5259, 2.5252, 2.5235, 2.5233, 2.5219, 2.5103, 2.5127, 2.4959, 2.4628, 2.5016, 2.5084, 2.4858, 2.3778, 2.3626, 2.343, 2.2845, 2.3825, 2.3243, 2.3122, 1.7594, 1.7709, 1.8308, 2.1079, 1.9107, 1.2318, 1.8945, 1.599, 1.6961, -0.1842, -0.6671, -0.134, 2.6824, 2.6807, 2.6807, 2.6787, 2.6787, 2.6784, 2.6784, 2.6778, 2.6777, 2.6767, 2.6756, 2.6749, 2.6745, 2.6743, 2.6742, 2.6736, 2.6733, 2.673, 2.6719, 2.6707, 2.6705, 2.6703, 2.6701, 2.6693, 2.6692, 2.6681, 2.668, 2.6673, 2.667, 2.6656, 2.6349, 2.6528, 2.6455, 2.6378, 2.4778, 2.6344, 2.4968, 2.6468, 2.4189, 2.1652, 2.1558, 2.13, 1.8787, 1.5428, 2.1084, 2.3223, 1.6706, 1.9502, 1.4871, 1.8913, -1.4012, 2.703, 2.7025, 2.7018, 2.7003, 2.6992, 2.6987, 2.6982, 2.6972, 2.6967, 2.6959, 2.6955, 2.6953, 2.6952, 2.6951, 2.6945, 2.6944, 2.6942, 2.694, 2.6939, 2.6938, 2.693, 2.6929, 2.6926, 2.6924, 2.692, 2.6918, 2.6917, 2.6917, 2.6907, 2.6895, 2.6831, 2.6793, 2.6579, 2.623, 2.3535, 2.2418, 2.4121, 0.5924, 1.9583, 1.8057, 2.432, 0.6422, -0.1042, -1.0701, 0.9901, -0.7973, 3.1045, 3.1042, 3.1037, 3.1034, 3.1032, 3.1016, 3.0991, 3.0984, 3.0964, 3.0951, 3.0938, 3.0933, 3.093, 3.0928, 3.0913, 3.0902, 3.0876, 3.086, 3.0858, 3.0858, 3.0856, 3.0817, 3.0802, 3.0798, 3.0781, 3.078, 3.0775, 3.0772, 3.0748, 3.074, 2.4985, 2.5729, 2.6107, 2.4882, 2.3964, 2.3346, 3.0099, 1.8621, 0.1409, -0.1322, 0.3879, 1.3103, 0.3885]}, \"token.table\": {\"Topic\": [1, 2, 3, 4, 8, 9, 1, 7, 1, 2, 7, 8, 9, 10, 2, 3, 2, 3, 2, 9, 2, 8, 1, 6, 1, 2, 8, 10, 1, 2, 4, 9, 10, 8, 2, 9, 1, 8, 4, 1, 7, 7, 6, 1, 2, 6, 7, 9, 2, 6, 4, 5, 1, 4, 9, 1, 9, 10, 1, 2, 8, 9, 8, 4, 1, 9, 1, 9, 8, 7, 2, 5, 7, 9, 1, 2, 3, 4, 5, 6, 7, 9, 10, 10, 4, 1, 2, 4, 5, 6, 7, 8, 9, 10, 3, 7, 5, 8, 2, 1, 1, 6, 4, 1, 2, 6, 7, 8, 9, 1, 2, 4, 7, 8, 9, 10, 1, 2, 5, 1, 2, 7, 9, 10, 10, 10, 3, 1, 10, 4, 10, 2, 6, 10, 3, 2, 1, 2, 6, 6, 2, 7, 8, 6, 1, 2, 4, 8, 9, 3, 7, 5, 10, 1, 2, 3, 4, 5, 8, 9, 3, 1, 8, 10, 2, 1, 2, 7, 9, 4, 2, 3, 7, 2, 7, 10, 4, 9, 3, 5, 5, 9, 9, 2, 4, 10, 9, 1, 2, 4, 5, 7, 8, 9, 10, 1, 2, 6, 7, 9, 9, 4, 7, 8, 10, 6, 5, 5, 5, 2, 4, 1, 2, 3, 4, 6, 7, 8, 9, 3, 2, 10, 1, 10, 2, 6, 8, 4, 3, 6, 7, 1, 9, 8, 6, 2, 2, 1, 2, 7, 1, 1, 6, 1, 2, 7, 8, 9, 5, 7, 5, 5, 8, 2, 4, 8, 2, 8, 7, 8, 2, 9, 10, 8, 1, 3, 4, 5, 8, 1, 2, 7, 9, 10, 1, 4, 7, 1, 2, 7, 8, 9, 4, 6, 1, 2, 6, 7, 9, 4, 10, 3, 5, 10, 7, 2, 1, 2, 7, 4, 1, 3, 1, 2, 7, 8, 10, 8, 4, 9, 2, 7, 9, 8, 8, 1, 2, 7, 9, 10, 2, 9, 6, 1, 6, 1, 2, 4, 6, 7, 8, 9, 10, 2, 9, 3, 8, 6, 4, 10, 1, 2, 3, 4, 5, 6, 7, 8, 9, 10, 2, 6, 7, 10, 1, 2, 3, 1, 2, 7, 10, 2, 3, 4, 5, 6, 8, 9, 7, 8, 4, 6, 7, 9, 1, 2, 4, 5, 6, 7, 8, 9, 10, 9, 4, 9, 9, 1, 6, 8, 9, 1, 2, 8, 1, 2, 7, 8, 8, 7, 10, 1, 2, 3, 4, 8, 9, 4, 1, 2, 6, 8, 9, 1, 2, 7, 8, 9, 10, 8, 5, 1, 4, 7, 10, 2, 1, 2, 6, 9, 6, 3, 2, 1, 2, 10, 1, 2, 7, 8, 4, 3, 4, 9, 6, 7, 1, 4, 4, 1, 9, 1, 6, 6, 1, 2, 6, 7, 8, 6, 4, 3, 9, 4, 10, 1, 3, 6, 9, 6, 9, 5, 9, 1, 9, 4, 1, 2, 4, 8, 9, 10, 5, 3, 2, 1, 5, 2, 8, 5, 7, 1, 3, 8, 5, 6, 7, 7, 2, 1, 2, 3, 4, 8, 9, 7, 1, 7, 9, 6, 7, 2, 4, 5, 6, 10, 1, 8, 8, 5, 1, 2, 2, 7, 9, 2, 1, 2, 4, 7, 8, 9, 1, 2, 3, 4, 5, 6, 7, 8, 9, 10, 6, 3, 1, 7, 8, 10, 5, 7, 6, 6, 10, 4, 4, 5, 8, 1, 2, 5, 6, 7, 8, 9, 1, 2, 4, 5, 6, 7, 8, 9, 10, 1, 2, 3, 4, 7, 9, 10, 8, 8, 3, 8, 3, 2, 5, 7, 5, 8, 9, 2, 7, 5, 1, 1, 2, 7, 8, 6, 7, 1, 2, 8, 1, 1, 10, 2, 7, 10, 5, 9, 4, 2, 7, 8, 9, 1, 2, 5, 7, 8, 7, 4, 3, 1, 2, 4, 7, 9, 6, 8, 1, 5, 2, 1, 2, 3, 4, 5, 6, 7, 8, 9, 10, 3, 7, 7, 8, 10, 7, 2, 3, 3, 1, 2, 4, 5, 8, 2, 4, 5, 7, 4, 4, 2, 9, 5, 10, 5, 3, 2, 1, 2, 6, 10, 1, 2, 4, 9, 1, 2, 4, 7, 9, 2, 9, 3, 9, 1, 2, 7, 8, 9, 10, 3, 1, 4, 9, 7, 3, 2, 9, 5, 1, 4, 6, 1, 2, 4, 7, 9, 2, 4, 9, 3, 7, 9, 10, 5, 5, 2, 2, 7, 9, 2, 8, 1, 1, 2, 7, 9, 5, 8, 9, 1, 2, 7, 8, 5, 1, 2, 4, 6, 7, 9, 6, 7, 5, 2, 5, 8, 9, 10, 1, 2, 6, 7, 8, 10, 1, 2, 4, 10, 4, 4, 9, 6, 1, 5, 8, 10, 7, 7, 3, 1, 2, 3, 4, 6, 1, 6, 5, 4, 1, 4, 7, 8, 9, 10, 8, 1, 2, 5, 7, 9, 10, 2, 3, 5, 7, 7, 1, 9, 8, 1, 2, 7, 6, 8, 9, 5, 1, 2, 6, 8, 6, 10, 5, 2, 7, 1, 8, 6, 8, 2, 5, 7, 9, 10, 9, 2, 4, 6, 1, 2, 4, 5, 6, 9, 1, 4, 7, 8, 9, 4, 7], \"Freq\": [0.0017738021181974396, 0.00035476042363948794, 0.00017738021181974397, 0.9970541706387808, 0.00017738021181974397, 0.00035476042363948794, 0.35020495918569494, 0.646906382940242, 0.225479758946696, 0.2722007900797952, 0.48955515230769137, 0.004062698359399928, 0.006094047539099892, 0.002031349179699964, 0.9971179167094858, 0.990505231556126, 0.9866293696275112, 0.9996252792932383, 0.9957058692997804, 0.9990943573185433, 0.3005302657789648, 0.6955129008027472, 0.99617647350384, 0.9973756934880114, 0.041836137898563136, 0.28448573771022934, 0.0641487447777968, 0.6080185374591176, 0.6172869849152376, 0.030313200152087563, 0.035824691088830754, 0.027557454683715968, 0.2893532741790176, 0.9840055906300293, 0.003797149462398204, 0.9910560096859312, 0.04799747174507377, 0.9503499405524607, 0.9944064568956359, 0.9803034356988668, 0.9962811769912348, 0.9879468255402045, 0.9885029462052853, 0.011412893021478222, 0.9396615254350402, 0.003804297673826074, 0.04184727441208681, 0.003804297673826074, 0.013514942797815559, 0.9865908242405358, 0.8493496987534446, 0.14395757605990586, 0.24820199600081722, 0.005395695565235157, 0.7446059880024517, 0.9859959908232364, 0.9941060300507856, 0.9894206061579881, 0.4180722792609391, 0.002768690591132047, 0.5731189523643337, 0.00830607177339614, 0.9752460146156724, 0.975400284125332, 0.9693867775368425, 0.031415312234990264, 0.9898166587127754, 0.009998148067805811, 0.9939669847138976, 0.9821541600821007, 0.39766643990501627, 0.003550593213437645, 0.12427076247031758, 0.47577949060064445, 0.02946965950431063, 0.024269131356491107, 0.0002476441975152154, 0.0014858651850912922, 0.8214358031579694, 0.0009905767900608615, 0.0007429325925456461, 0.12109801258494032, 0.0004952883950304308, 0.9861429794604533, 0.953894748580933, 0.16780168946344262, 0.030325606529537825, 0.020217071019691883, 0.0006739023673230628, 0.004717316571261439, 0.004717316571261439, 0.0013478047346461256, 0.7042279738526006, 0.06604243199766015, 0.9507583009714066, 0.9874354339176855, 0.04167264576612066, 0.9480526911792451, 0.9860542274375833, 0.9931517860789072, 0.9836151128332759, 0.009549661289643454, 0.9664937859043994, 0.002987958941098023, 0.6065556650428987, 0.002987958941098023, 0.2958079351687043, 0.08963876823294069, 0.002987958941098023, 0.7393218894739307, 0.24091359722963177, 0.003901434772949502, 0.004876793466186878, 0.001950717386474751, 0.004876793466186878, 0.003901434772949502, 0.013603891637482055, 0.9840148284445354, 0.9786841767258534, 0.9792482593209764, 0.013792229004520793, 0.004597409668173597, 0.004597409668173597, 0.9981755574708321, 0.9968617313302459, 0.9765858783056839, 0.779997493348212, 0.9871260964671394, 0.9693191258745718, 0.9910708846377918, 0.9962505495159063, 0.00933271160816665, 0.9799347188574983, 0.9749256237190396, 0.9059529008153977, 0.9956027555302701, 0.04394275100942932, 0.8631611805423617, 0.09416303787734855, 0.9857216911048062, 0.8302641605022357, 0.14369956624077157, 0.021288824628262454, 0.9856589118452831, 0.9078442828822275, 0.01806655289317866, 0.0022583191116473324, 0.013549914669883993, 0.056457977791183306, 0.9409766358169684, 0.9945448410311962, 0.9923837533171032, 0.9728430938253064, 0.1025421103340072, 0.005859549161943268, 0.2314521918967591, 0.029297745809716343, 0.32813475306882306, 0.3017667818400783, 0.002929774580971634, 0.9328891845016939, 0.016779706653118318, 0.9564432792277442, 0.9554311884616244, 0.9839454007569194, 0.44531606634638, 0.16134640085013768, 0.3893826473849989, 0.0021512853446685022, 0.9503817260110463, 0.9865644846776506, 0.9625666440272779, 0.9898247749808415, 0.03972639343702296, 0.9613787211759556, 0.9987564753526834, 0.99949951427254, 0.9932716063445801, 0.006175561903573446, 0.991177685523538, 0.9880360359826749, 0.9922705527001413, 0.9834027818618479, 0.9804241320098179, 0.9686445588209355, 0.977717372435475, 0.9805954921449187, 0.418875379206224, 0.003637875501791027, 0.5441222357678864, 0.000519696500255861, 0.006756054503326193, 0.002078786001023444, 0.022346949511002023, 0.001559089500767583, 0.6244524151883851, 0.30938778752515445, 0.002838420069038114, 0.05676840138076228, 0.002838420069038114, 0.9922763687247931, 0.9915694778670286, 0.9659103986765152, 0.9797161622703879, 0.9710596616085202, 0.9977108954411602, 0.9938700138295985, 0.9963278886836512, 0.9998500465815957, 0.9945709084489794, 0.0034060647549622584, 0.1714557761051897, 0.010270913105342833, 0.6625423680486483, 0.14023220026494748, 0.0027389101614247553, 0.0036975287179234198, 0.003971419734065895, 0.005066983798635797, 0.9727238675982468, 0.9904220265092385, 0.9832363787659308, 0.9967995630631714, 0.9890514417904652, 0.004954547692238406, 0.004954547692238406, 0.990909538447681, 0.9791329392762352, 0.9532970870516003, 0.6795400246280657, 0.3185343865444058, 0.957374506913749, 0.042031075913286545, 0.9943675782822716, 0.9828048939661125, 0.9898540277256728, 0.993485571953486, 0.9862371380943987, 0.006087883568483943, 0.006087883568483943, 0.9887018466257482, 0.12606162459006265, 0.8714694917313027, 0.1933371188008148, 0.7168871927216054, 0.059883178389632905, 0.020531375447874138, 0.006843791815958046, 0.9949349866330286, 0.0035482702804316285, 0.989550369796711, 0.9857912246950531, 0.9828123315705152, 0.01748156577723856, 0.00874078288861928, 0.9702269006367401, 0.9931070406808963, 0.004336711968038848, 0.9859992838601926, 0.995443861341414, 0.9830933098295528, 0.9874648565966584, 0.9531924059220886, 0.9792367865217972, 0.00012560454753617148, 0.9986817574600995, 0.0006280227376808575, 0.00025120909507234297, 0.00025120909507234297, 0.16925006876720416, 0.005459679637651748, 0.7698148289088964, 0.005459679637651748, 0.04913711673886573, 0.9978431832219087, 0.04654617198518222, 0.9425599826999399, 0.06681168213250585, 0.007032808645526932, 0.9212979325640281, 0.001758202161381733, 0.001758202161381733, 0.016200436412815968, 0.9774263302398968, 0.22911873353012374, 0.060294403560558874, 0.6692678795222036, 0.012058880712111775, 0.030147201780279437, 0.002009475501233754, 0.996699848611942, 0.9962318454988717, 0.9945542235696071, 0.9821964509408634, 0.9963387717974449, 0.9888188561617738, 0.00443520061777464, 0.022176003088873197, 0.9668737346748714, 0.9958203563727197, 0.9889920661931765, 0.9834372251418841, 0.9895915968979137, 0.00497282209496439, 0.0012432055237410974, 0.002486411047482195, 0.0012432055237410974, 0.9806422961211437, 0.9875340173519207, 0.9952258616503906, 0.5115864944208126, 0.07931573556911824, 0.4084760381809589, 0.9901228169198825, 0.9908778664426934, 0.8845391978737536, 0.11130615741618503, 0.0009850102426211065, 0.001970020485242213, 0.0009850102426211065, 0.039112536019003004, 0.9543458788636733, 0.9959813018389276, 0.9688694833665861, 0.011265924225192861, 0.284282640348677, 0.13811084795767484, 0.0018808870344430425, 0.5562051658995855, 0.005373962955551551, 0.005373962955551551, 0.008060944433327326, 0.000537396295555155, 0.988531510548072, 0.008521823366793723, 0.992833271129656, 0.9924885453607056, 0.9852442113086866, 0.9840440984652975, 0.9951429072833644, 0.7493466156899227, 0.13051682795800454, 0.00018752417810058124, 0.00450058027441395, 0.00018752417810058124, 0.003187911027709881, 0.040317698291624966, 0.01668965185095173, 0.003750483562011625, 0.051569148977659844, 0.004931150233503761, 0.9615742955332334, 0.019724600934015044, 0.004931150233503761, 0.9928776612384632, 0.9974020649706011, 0.9017055192193735, 0.03915423428058978, 0.2961038967469602, 0.17129977497758028, 0.4918750681499091, 0.018918740608617944, 0.7407869369561964, 0.09577612433112834, 0.001773631932057932, 0.08158706887466488, 0.0011824212880386215, 0.06030348568996969, 0.9774214114893439, 0.9807434073953488, 0.16031046474592336, 0.25896305843572237, 0.5302576910826696, 0.049326296844899496, 0.7589943837622211, 0.13081716295398102, 0.0012741931456556593, 0.03100536654428771, 0.00042473104855188644, 0.06880642986540561, 0.0012741931456556593, 0.006795696776830183, 0.0012741931456556593, 0.9908430523814484, 0.9882320962673432, 0.9912637473197489, 0.9994362832783911, 0.02383671754663077, 0.6091605595250086, 0.36284781154315726, 0.0026485241718478634, 0.035675207766748, 0.008918801941687, 0.9543118077605091, 0.14956083841513743, 0.2825038058952596, 0.11078580623343512, 0.454221805557084, 0.9965582751190196, 0.01547425027668188, 0.9800358508565191, 0.008696521808474444, 0.005351705728291966, 0.002006889648109487, 0.9773552586293203, 0.0033448160801824787, 0.0033448160801824787, 0.9974905961398935, 0.27429159622595467, 0.07144339250536494, 0.20795130318525867, 0.31894371654180775, 0.1275774866167231, 0.005223869783346982, 0.43822463182521904, 0.010447739566693964, 0.0005804299759274424, 0.0017412899277823273, 0.544443317419941, 0.9914183580026451, 0.9978327814976592, 0.008877138370449345, 0.002959046123483115, 0.01183618449393246, 0.9764852207494279, 0.9954914958165891, 0.007689990210564317, 0.49215937347611627, 0.4998493636866806, 0.9895718917877759, 0.997895869485739, 0.8669522697923021, 0.985500040417529, 0.7675061376527793, 0.22413896055346652, 0.003396044856870705, 0.008261985776190172, 0.03821168421487955, 0.9521938607059174, 0.9820909308785257, 0.9956509978539096, 0.026660591447658456, 0.9331207006680459, 0.9865857854511414, 0.9809048015051328, 0.9925477457533279, 0.9856606756259507, 0.9980666026541315, 0.9934401311340337, 0.9938894624725892, 0.9871400956534914, 0.9846958231042515, 0.9934279359467482, 0.9930081362767702, 0.006267709058733142, 0.17758508999743902, 0.6288601422262252, 0.18803127176199425, 0.9802222834985764, 0.995234792152055, 0.9607650272092436, 0.9820345771954226, 0.9862827454175181, 0.9867747539382885, 0.9821840388092608, 0.9968379914914681, 0.947226802955553, 0.9972224816594378, 0.9954130665590766, 0.9946607692823418, 0.9858977982785783, 0.2268377205230805, 0.7655773067653966, 0.9801019947202156, 0.996056061771232, 0.9752223596180046, 0.0005882444339214897, 0.9953095821951606, 0.0005882444339214897, 0.0011764888678429794, 0.0017647333017644692, 0.0005882444339214897, 0.995908786326404, 0.8586034410692047, 0.9918757066560623, 0.9876369946290616, 0.007539213699458485, 0.9949070834255936, 0.9906121489648697, 0.9800147506262605, 0.9840570120992881, 0.9876251626629803, 0.9432044869522371, 0.9871241406069282, 0.9939995133005569, 0.9840450010820182, 0.9948761637412622, 0.9935079874651418, 0.9918866768404123, 0.0024942839279480373, 0.18956557852405084, 0.5562253159324123, 0.2070255660196871, 0.0024942839279480373, 0.042402826775116635, 0.9829255306379157, 0.9892737475518162, 0.9829660313528729, 0.9941127423476538, 0.9893325707501704, 0.9741825156878138, 0.31260696724493675, 0.6813228773287083, 0.9976996174880144, 0.008246981851290197, 0.9896378221548237, 0.997816340844277, 0.9774325277754998, 0.9932500036684209, 0.9971336417335861, 0.9936973426742005, 0.0034030730913500017, 0.004755696855661116, 0.9844292491218511, 0.009511393711322232, 0.9943049226458983, 0.043626079686657375, 0.9266179325446026, 0.0005816810624887649, 0.028502372061949482, 0.0005816810624887649, 0.0005816810624887649, 0.5937292238423864, 0.17677843882555494, 0.0023546308450125147, 0.10704514072326124, 0.0034413835427105984, 0.0010867526976980836, 0.06538628731150137, 0.00018112544961634727, 0.010686401527364489, 0.03912309711713101, 0.9878900508447872, 0.9863190133735769, 0.29609920979109583, 0.028051504085472235, 0.1371406866400865, 0.5392122451985218, 0.026526785946854543, 0.9682276870601908, 0.9932068424719986, 0.992939656812892, 0.9798421245575751, 0.9681853039573187, 0.12550587313954617, 0.10757646269103957, 0.763792885106381, 0.005887246629371715, 0.38659586199540924, 0.0019624155431239047, 0.0019624155431239047, 0.009812077715619524, 0.5887246629371715, 0.003924831086247809, 0.4166874512613564, 0.034045511115492706, 0.0007401198068585371, 0.00037005990342926857, 0.5032814686638053, 0.010731737199448789, 0.0022203594205756115, 0.030344912081200024, 0.0018502995171463428, 0.4980467162160573, 0.022234228402502557, 0.43579087668905014, 0.017787382722002046, 0.0044468456805005115, 0.0044468456805005115, 0.013340537041501534, 0.9855628870366195, 0.985746933494102, 0.8922196744982149, 0.09913551938869054, 0.9245985114097819, 0.005202508225535455, 0.005202508225535455, 0.9832740546262009, 0.03196432318077559, 0.9589296954232677, 0.9831208934385934, 0.19216961526900017, 0.7996735603129361, 0.9890113191943318, 0.9962557743174537, 0.009151205853506381, 0.009151205853506381, 0.9663673381302738, 0.014641929365610208, 0.9879720050927855, 0.9840085746162411, 0.004558410657093033, 0.547009278851164, 0.44672424439511726, 0.9893232747924499, 0.9882900041904256, 0.9818381192430036, 0.1798884087991014, 0.8176745854504609, 0.9952058414143294, 0.01592374299596753, 0.979310194252003, 0.9979267901669714, 0.9958593176333506, 0.8354927501056281, 0.16232430573480774, 0.9938853104880203, 0.011019380445997562, 0.9807248596937831, 0.0011019380445997562, 0.0022038760891995124, 0.004407752178399025, 0.9906590112211382, 0.9694215607137925, 0.9227175595493345, 0.3064784713890364, 0.224213197489874, 0.012097834396935648, 0.4564916179110384, 0.0008065222931290431, 0.00430084452530723, 0.99349508534597, 0.20783466161943487, 0.7828438920998714, 0.9863965538523041, 0.09159008945672818, 0.01387728628132245, 0.020068690929912467, 0.012809802721220724, 0.0038429408163662172, 0.0029889539682848355, 0.020068690929912467, 0.8117144991013532, 0.023057644898197303, 0.0002134967120203454, 0.9491065530874078, 0.9985910728034731, 0.79161645576198, 0.025536014701999354, 0.17236809923849564, 0.9920484615802093, 0.9941182256922098, 0.9010324709111727, 0.9875181123572517, 0.3315722063689917, 0.003591034726017961, 0.0023940231506786405, 0.646386250683233, 0.016758162054750485, 0.9821861976971625, 0.012201070778846738, 0.9973430181289494, 0.9926067470832428, 0.9752037032334748, 0.9830811830057056, 0.990476775756156, 0.9931509195714009, 0.9963113212552669, 0.9811604282446605, 0.9882103738312705, 0.8780661459960831, 0.9954521826490679, 0.010633122813695411, 0.9835638602668256, 0.005316561406847706, 0.9561070710715464, 0.9537945433786268, 0.033953851058786066, 0.003086713732616915, 0.00617342746523383, 0.734788212238903, 0.15318060450582993, 0.08616409003452934, 0.007180340836210779, 0.01675412861782515, 0.9277848073090438, 0.06872480054141064, 0.01939431374941959, 0.9794128443456892, 0.7023470110333965, 0.16454987115639574, 0.09632187579886581, 0.01404694022066793, 0.01806035171228734, 0.004013411491619409, 0.9875372979562849, 0.03714039625810082, 0.9599363955939904, 0.0014284767791577237, 0.9866753465775612, 0.9772313583728931, 0.9706088799563546, 0.024887407178368067, 0.9925036043938688, 0.1490256653560658, 0.8449222991169801, 0.0053223451912880635, 0.28141117994349024, 0.25500042195526623, 0.0009107157926973794, 0.46173290689757135, 0.0009107157926973794, 0.9908474117501114, 0.003711038995318769, 0.9989942821111629, 0.4751178535663228, 0.5234349234205251, 0.06057290949061735, 0.9085936423592603, 0.9860711386875631, 0.9835593570489702, 0.9969526753698873, 0.009962260404573847, 0.06475469262973, 0.9215090874230809, 0.9957991829724624, 0.9797273904530539, 0.9888141152234914, 0.9777312861759635, 0.014000925339035276, 0.007000462669517638, 0.0023334875565058795, 0.9851504625265458, 0.013241269657614862, 0.9820225157997862, 0.36405285391502656, 0.02363979570876796, 0.127654896827347, 0.47752387331711277, 0.9897215033139823, 0.006771571681602002, 0.9804268427576612, 0.0004836836915430001, 0.009189990139317003, 0.0019347347661720004, 0.0004836836915430001, 0.996145559918224, 0.976650293076776, 0.9964930990543555, 0.22932221122539279, 0.08153678621347299, 0.5605654052176268, 0.12740122845855154, 0.9956697526375972, 0.027765000264914637, 0.1032510947351513, 0.0017353125165571648, 0.26897344006636054, 0.5934768806625503, 0.004338281291392912, 0.406846630501603, 0.0013791411203444171, 0.004137423361033251, 0.5861349761463772, 0.9960328963005248, 0.7998477812519776, 0.18178358664817673, 0.9855214107796862, 0.00301421108511236, 0.00301421108511236, 0.8258938373207866, 0.1657816096811798, 0.9848375478195177, 0.9953754266991999, 0.9574141988345289, 0.002439311717857353, 0.38541125142146176, 0.2951567178607397, 0.3171105233214559, 0.9935526663341591, 0.9935115755336429, 0.994481731047163, 0.9982855503495952, 0.9922092367743832, 0.19761113922655496, 0.008233797467773123, 0.026759841770262652, 0.12350696201659685, 0.1811435442910087, 0.4610926581952949, 0.9881176180261129, 0.04093616874373463, 0.21377777010616975, 0.0034113473953112194, 0.04548463193748293, 0.6299621523341385, 0.06595271630935025, 0.013042478959975881, 0.4851802173111028, 0.07042938638386975, 0.42779330988720893, 0.9848737153666337, 0.9959350858227958, 0.9874093256752972, 0.9873616892066672, 0.17165053986806122, 0.8102915190830537, 0.015145635870711285, 0.9938428368241098, 0.99336578812997, 0.98444389500809, 0.9821342087447718, 0.01359669163229617, 0.014832754507959458, 0.969073294520018, 0.0012360628756632882, 0.9975387139107709, 0.9841595834254594, 0.9815852068569914, 0.15139790341743017, 0.8470098920921093, 0.9749731276415594, 0.9689204539830052, 0.9699368276555973, 0.025524653359357826, 0.3320370038013022, 0.0072975165670615865, 0.5217724345449034, 0.03648758283530793, 0.09851647365533142, 0.9956200880581969, 0.023763428611099497, 0.9743005730550793, 0.9806094298138262, 0.6088447919211591, 0.18084498769935423, 0.015070415641612852, 0.15673232267277365, 0.024112665026580563, 0.015070415641612852, 0.006211137285509456, 0.006211137285509456, 0.8509258081147955, 0.13043388299569858, 0.9891039139289624, 0.0062270780608943395, 0.9901054116822], \"Term\": [\"\\uac00\\uaca9\", \"\\uac00\\uaca9\", \"\\uac00\\uaca9\", \"\\uac00\\uaca9\", \"\\uac00\\uaca9\", \"\\uac00\\uaca9\", \"\\uac00\\uaca9\\ub300\", \"\\uac00\\uaca9\\ub300\", \"\\uac00\\ub2a5\", \"\\uac00\\ub2a5\", \"\\uac00\\ub2a5\", \"\\uac00\\ub2a5\", \"\\uac00\\ub2a5\", \"\\uac00\\ub2a5\", \"\\uac00\\uc131\", \"\\uac00\\uc815\", \"\\uac10\\ub3c4\", \"\\uac10\\uc0ac\", \"\\uac10\\uc0c1\", \"\\uac15\\ucd94\", \"\\uac1c\\ubd09\", \"\\uac1c\\ubd09\", \"\\uac1c\\uc778\", \"\\uac24\\ub7ed\\uc2dc\", \"\\uac70\\ub9ac\", \"\\uac70\\ub9ac\", \"\\uac70\\ub9ac\", \"\\uac70\\ub9ac\", \"\\uac71\\uc815\", \"\\uac71\\uc815\", \"\\uac71\\uc815\", \"\\uac71\\uc815\", \"\\uac71\\uc815\", \"\\uac74\\uac00\\uc694\", \"\\uac74\\ub370\", \"\\uac74\\ub370\", \"\\uac74\\uc9c0\", \"\\uac74\\uc9c0\", \"\\uac80\\uc815\", \"\\uac81\\ub2c8\\ub2e4\", \"\\uac8c\\uc694\", \"\\uacb0\\uc815\", \"\\uacb8\\uc6a9\", \"\\uacbd\\uc6b0\", \"\\uacbd\\uc6b0\", \"\\uacbd\\uc6b0\", \"\\uacbd\\uc6b0\", \"\\uacbd\\uc6b0\", \"\\uacbd\\ud5d8\", \"\\uacbd\\ud5d8\", \"\\uace0\\uac00\", \"\\uace0\\uac00\", \"\\uace0\\uae09\", \"\\uace0\\uae09\", \"\\uace0\\uae09\", \"\\uace0\\ub824\", \"\\uace0\\ub9ac\", \"\\uace0\\ubb34\", \"\\uace0\\ubbfc\", \"\\uace0\\ubbfc\", \"\\uace0\\ubbfc\", \"\\uace0\\ubbfc\", \"\\uace0\\uc0dd\", \"\\uace0\\uc694\", \"\\uace0\\uc7a5\", \"\\uace0\\uc7a5\", \"\\uace0\\uc815\", \"\\uace0\\uc815\", \"\\uacf5\\ubd80\", \"\\uad00\\uacc4\", \"\\uad50\\ud658\", \"\\uad50\\ud658\", \"\\uad50\\ud658\", \"\\uad50\\ud658\", \"\\uad6c\\ub9e4\", \"\\uad6c\\ub9e4\", \"\\uad6c\\ub9e4\", \"\\uad6c\\ub9e4\", \"\\uad6c\\ub9e4\", \"\\uad6c\\ub9e4\", \"\\uad6c\\ub9e4\", \"\\uad6c\\ub9e4\", \"\\uad6c\\ub9e4\", \"\\uad6c\\uba4d\", \"\\uad6c\\uc5ec\", \"\\uad6c\\uc785\", \"\\uad6c\\uc785\", \"\\uad6c\\uc785\", \"\\uad6c\\uc785\", \"\\uad6c\\uc785\", \"\\uad6c\\uc785\", \"\\uad6c\\uc785\", \"\\uad6c\\uc785\", \"\\uad6c\\uc785\", \"\\uad6d\\ub0b4\", \"\\uad6d\\uc0b0\", \"\\uadc0\\uac78\\uc774\", \"\\uadc0\\uac78\\uc774\", \"\\uadd3\\uad6c\\uba4d\", \"\\uadf8\\uac70\", \"\\uadf8\\uac74\", \"\\uadf8\\uac74\", \"\\uae08\\uc561\", \"\\uae30\\uae30\", \"\\uae30\\uae30\", \"\\uae30\\uae30\", \"\\uae30\\uae30\", \"\\uae30\\uae30\", \"\\uae30\\uae30\", \"\\uae30\\ub2a5\", \"\\uae30\\ub2a5\", \"\\uae30\\ub2a5\", \"\\uae30\\ub2a5\", \"\\uae30\\ub2a5\", \"\\uae30\\ub2a5\", \"\\uae30\\ub2a5\", \"\\uae30\\ub300\", \"\\uae30\\ub300\", \"\\uae30\\uc0ac\", \"\\uae30\\uc874\", \"\\uae30\\uc874\", \"\\uae30\\uc874\", \"\\uae30\\uc874\", \"\\ub098\\ub984\", \"\\ub098\\uba38\\uc9c0\", \"\\ub098\\uc138\", \"\\ub0a0\\uc9dc\", \"\\ub0a8\\uc790\", \"\\ub0a8\\uce5c\", \"\\ub0a8\\ud3b8\", \"\\ub0b4\\uc694\", \"\\ub0b4\\uc6a9\", \"\\ub0b4\\uc6a9\", \"\\ub0b4\\uc7a5\", \"\\ub124\\uc774\\ubc84\", \"\\ub140\\uc11d\", \"\\ub178\\ub798\", \"\\ub178\\ub798\", \"\\ub178\\ub798\", \"\\ub178\\ud2b8\", \"\\ub178\\ud2b8\\ubd81\", \"\\ub178\\ud2b8\\ubd81\", \"\\ub178\\ud2b8\\ubd81\", \"\\ub204\\uac00\", \"\\ub290\\ub08c\", \"\\ub290\\ub08c\", \"\\ub290\\ub08c\", \"\\ub290\\ub08c\", \"\\ub290\\ub08c\", \"\\ub290\\ub9bc\", \"\\ub2a5\\ube44\", \"\\ub2c9\\uc2a4\", \"\\ub2e4\\uc6b4\", \"\\ub2e4\\uc74c\", \"\\ub2e4\\uc74c\", \"\\ub2e4\\uc74c\", \"\\ub2e4\\uc74c\", \"\\ub2e4\\uc74c\", \"\\ub2e4\\uc74c\", \"\\ub2e4\\uc74c\", \"\\ub2e4\\uc774\\uc5b4\\ub9ac\", \"\\ub2e4\\ud589\", \"\\ub2e4\\ud589\", \"\\ub2e8\\uc120\", \"\\ub2e8\\uc790\", \"\\ub2e8\\uc810\", \"\\ub2e8\\uc810\", \"\\ub2e8\\uc810\", \"\\ub2e8\\uc810\", \"\\ub2f4\\ub0a0\", \"\\ub2f5\\ubcc0\", \"\\ub2f9\\uc77c\", \"\\ub2f9\\ud669\", \"\\ub300\\uae30\", \"\\ub300\\uae30\", \"\\ub300\\ubc15\", \"\\ub300\\ube44\", \"\\ub300\\uccb4\", \"\\ub3c4\\ucc29\", \"\\ub3c4\\ucc29\", \"\\ub3d9\\ub8cc\", \"\\ub3d9\\ubd09\", \"\\ub3d9\\uc0dd\", \"\\ub3d9\\uc2dc\", \"\\ub4b7\\uc8fc\\uba38\\ub2c8\", \"\\ub4dc\\ub77c\\uc774\\ubc84\", \"\\ub4f1\\uc0b0\", \"\\ub514\\uc790\\uc778\", \"\\ub514\\uc790\\uc778\", \"\\ub514\\uc790\\uc778\", \"\\ub514\\uc790\\uc778\", \"\\ub514\\uc790\\uc778\", \"\\ub514\\uc790\\uc778\", \"\\ub514\\uc790\\uc778\", \"\\ub514\\uc790\\uc778\", \"\\ub54c\\ubb38\", \"\\ub54c\\ubb38\", \"\\ub54c\\ubb38\", \"\\ub54c\\ubb38\", \"\\ub54c\\ubb38\", \"\\ub77c\\ub514\\uc624\", \"\\ub77c\\ubca8\", \"\\ub85c\\ub77c\", \"\\ub8e8\\ud2b8\", \"\\ub9ac\\ubaa8\\ucee8\", \"\\ub9ac\\ubc84\", \"\\ub9ac\\uc2dc\\ubc84\", \"\\ub9c8\\ub2c8\", \"\\ub9c8\\uc74c\", \"\\ub9c8\\uc774\\ud06c\", \"\\ub9c8\\uc774\\ud06c\", \"\\ub9cc\\uc871\", \"\\ub9cc\\uc871\", \"\\ub9cc\\uc871\", \"\\ub9cc\\uc871\", \"\\ub9cc\\uc871\", \"\\ub9cc\\uc871\", \"\\ub9cc\\uc871\", \"\\ub9cc\\uc871\", \"\\ub9cc\\uc871\\ub3c4\", \"\\ub9cc\\ud07c\", \"\\ub9e4\\ub825\", \"\\uba38\\ub9ac\", \"\\uba38\\uc2e0\", \"\\uba40\\ud2f0\", \"\\uba40\\ud2f0\", \"\\uba40\\ud2f0\", \"\\uba54\\uc774\\ucee4\", \"\\uba85\\ud488\", \"\\ubaa8\\ub178\", \"\\ubaa8\\ub178\", \"\\ubaa8\\ub378\", \"\\ubaa8\\ub378\", \"\\ubaa8\\uc591\", \"\\ubaa8\\ud1a0\", \"\\ubaa9\\uac78\\uc774\", \"\\ubaa9\\uc18c\\ub9ac\", \"\\ubb34\\uac8c\", \"\\ubb34\\uac8c\", \"\\ubb34\\uac8c\", \"\\ubb34\\ub9ac\", \"\\ubb34\\uc120\", \"\\ubb34\\uc120\", \"\\ubb38\\uc81c\", \"\\ubb38\\uc81c\", \"\\ubb38\\uc81c\", \"\\ubb38\\uc81c\", \"\\ubb38\\uc81c\", \"\\ubb3c\\uac74\", \"\\ubb3c\\uac74\", \"\\ubb3c\\ud488\", \"\\ubbf8\\ub2c8\", \"\\ubbf8\\ud130\", \"\\ubc15\\uc2a4\", \"\\ubc15\\uc2a4\", \"\\ubc15\\uc2a4\", \"\\ubc18\\ud488\", \"\\ubc18\\ud488\", \"\\ubc27\\ub370\\ub9ac\", \"\\ubc29\\ubc95\", \"\\ubc29\\uc218\", \"\\ubc29\\uc2dd\", \"\\ubc29\\ud574\", \"\\ubc30\\ub2ec\", \"\\ubc30\\uc1a1\", \"\\ubc30\\uc1a1\", \"\\ubc30\\uc1a1\", \"\\ubc30\\uc1a1\", \"\\ubc30\\uc1a1\", \"\\ubc30\\ud130\\ub9ac\", \"\\ubc30\\ud130\\ub9ac\", \"\\ubc30\\ud130\\ub9ac\", \"\\ubc30\\ud130\\ub9ac\", \"\\ubc30\\ud130\\ub9ac\", \"\\ubc34\\ub4dc\", \"\\ubc84\\uc804\", \"\\ubc84\\uc804\", \"\\ubc84\\ud2bc\", \"\\ubc84\\ud2bc\", \"\\ubc84\\ud2bc\", \"\\ubc84\\ud2bc\", \"\\ubc84\\ud2bc\", \"\\ubc88\\uac00\", \"\\ubc88\\uac00\", \"\\ubc88\\ub4e4\", \"\\ubc88\\ub4e4\", \"\\ubc88\\ub4e4\", \"\\ubc88\\ub4e4\", \"\\ubc88\\ub4e4\", \"\\ubc88\\ucc3d\", \"\\ubc88\\ucc3d\", \"\\ubca0\\ub9ac\", \"\\ubca0\\uc774\\uc2a4\", \"\\ubcc4\\ub3c4\", \"\\ubcf4\\ud1b5\", \"\\ubcf8\\uccb4\", \"\\ubcfc\\ub968\", \"\\ubcfc\\ub968\", \"\\ubcfc\\ub968\", \"\\ubd09\\uc778\", \"\\ubd80\\ub2f4\", \"\\ubd80\\ubaa8\", \"\\ubd80\\ubd84\", \"\\ubd80\\ubd84\", \"\\ubd80\\ubd84\", \"\\ubd80\\ubd84\", \"\\ubd80\\ubd84\", \"\\ubd80\\uc704\", \"\\ubd80\\uc790\", \"\\ubd84\\uc2e4\", \"\\ubd88\\ub7c9\", \"\\ubd88\\ub7c9\", \"\\ubd88\\ub7c9\", \"\\ubd88\\ub9cc\", \"\\ubd88\\uc548\", \"\\ubd88\\ud3b8\", \"\\ubd88\\ud3b8\", \"\\ubd88\\ud3b8\", \"\\ubd88\\ud3b8\", \"\\ubd88\\ud3b8\", \"\\ube0c\\ub79c\\ub4dc\", \"\\ube0c\\ub79c\\ub4dc\", \"\\ube14\\ub799\", \"\\ube14\\ub8e8\", \"\\ube14\\ub8e8\", \"\\ube14\\ub8e8\\ud22c\\uc2a4\", \"\\ube14\\ub8e8\\ud22c\\uc2a4\", \"\\ube14\\ub8e8\\ud22c\\uc2a4\", \"\\ube14\\ub8e8\\ud22c\\uc2a4\", \"\\ube14\\ub8e8\\ud22c\\uc2a4\", \"\\ube14\\ub8e8\\ud22c\\uc2a4\", \"\\ube14\\ub8e8\\ud22c\\uc2a4\", \"\\ube14\\ub8e8\\ud22c\\uc2a4\", \"\\ube44\\ucd94\", \"\\ube44\\ucd94\", \"\\ube60\\ub984\", \"\\uc0ac\\uace0\", \"\\uc0ac\\uc2e4\", \"\\uc0ac\\uc591\", \"\\uc0ac\\uc5c5\", \"\\uc0ac\\uc6a9\", \"\\uc0ac\\uc6a9\", \"\\uc0ac\\uc6a9\", \"\\uc0ac\\uc6a9\", \"\\uc0ac\\uc6a9\", \"\\uc0ac\\uc6a9\", \"\\uc0ac\\uc6a9\", \"\\uc0ac\\uc6a9\", \"\\uc0ac\\uc6a9\", \"\\uc0ac\\uc6a9\", \"\\uc0bc\\uc131\", \"\\uc0bc\\uc131\", \"\\uc0bc\\uc131\", \"\\uc0bc\\uc131\", \"\\uc0c1\\ub300\", \"\\uc0c1\\ub300\\ubc29\", \"\\uc0c1\\uc6a9\", \"\\uc0c1\\ud0dc\", \"\\uc0c1\\ud0dc\", \"\\uc0c1\\ud0dc\", \"\\uc0c1\\ud0dc\", \"\\uc0c1\\ud488\", \"\\uc0c1\\ud488\", \"\\uc0c1\\ud488\", \"\\uc0c1\\ud488\", \"\\uc0c1\\ud488\", \"\\uc0c1\\ud488\", \"\\uc0c1\\ud488\", \"\\uc0c1\\ud669\", \"\\uc0c9\\uae54\", \"\\uc0c9\\uc0c1\", \"\\uc0c9\\uc0c1\", \"\\uc0c9\\uc0c1\", \"\\uc0c9\\uc0c1\", \"\\uc0dd\\uac01\", \"\\uc0dd\\uac01\", \"\\uc0dd\\uac01\", \"\\uc0dd\\uac01\", \"\\uc0dd\\uac01\", \"\\uc0dd\\uac01\", \"\\uc0dd\\uac01\", \"\\uc0dd\\uac01\", \"\\uc0dd\\uac01\", \"\\uc0dd\\uc77c\", \"\\uc0dd\\ud65c\", \"\\uc120\\uba85\", \"\\uc120\\ubb3c\", \"\\uc120\\ud0dd\", \"\\uc120\\ud0dd\", \"\\uc120\\ud0dd\", \"\\uc120\\ud0dd\", \"\\uc124\\uba85\", \"\\uc124\\uba85\", \"\\uc124\\uba85\", \"\\uc124\\uba85\\uc11c\", \"\\uc124\\uba85\\uc11c\", \"\\uc124\\uba85\\uc11c\", \"\\uc124\\uba85\\uc11c\", \"\\uc124\\uc815\", \"\\uc124\\uce58\", \"\\uc124\\uce58\", \"\\uc131\\ub2a5\", \"\\uc131\\ub2a5\", \"\\uc131\\ub2a5\", \"\\uc131\\ub2a5\", \"\\uc131\\ub2a5\", \"\\uc131\\ub2a5\", \"\\uc131\\ube44\", \"\\uc18c\\ub2c8\", \"\\uc18c\\ub2c8\", \"\\uc18c\\ub2c8\", \"\\uc18c\\ub2c8\", \"\\uc18c\\ub2c8\", \"\\uc18c\\ub9ac\", \"\\uc18c\\ub9ac\", \"\\uc18c\\ub9ac\", \"\\uc18c\\ub9ac\", \"\\uc18c\\ub9ac\", \"\\uc18c\\ub9ac\", \"\\uc18c\\uc74c\", \"\\uc218\\uace0\", \"\\uc218\\uc2e0\", \"\\uc218\\uc2e0\", \"\\uc218\\uc2e0\", \"\\uc218\\uc2e0\", \"\\uc218\\uc900\", \"\\uc2a4\\ub9c8\\ud2b8\\ud3f0\", \"\\uc2a4\\ub9c8\\ud2b8\\ud3f0\", \"\\uc2a4\\ub9c8\\ud2b8\\ud3f0\", \"\\uc2a4\\uc704\\uce58\", \"\\uc2a4\\ud14c\\ub808\\uc624\", \"\\uc2a4\\ud2b8\\ub9ac\\ubc0d\", \"\\uc2a4\\ud2f0\\ucee4\", \"\\uc2a4\\ud53c\\ucee4\", \"\\uc2a4\\ud53c\\ucee4\", \"\\uc2a4\\ud53c\\ucee4\", \"\\uc2dc\\uac04\", \"\\uc2dc\\uac04\", \"\\uc2dc\\uac04\", \"\\uc2dc\\uc791\", \"\\uc2e0\\ub791\", \"\\uc2e0\\uc18d\", \"\\uc2e0\\uc18d\", \"\\uc2e0\\ud638\", \"\\uc2e4\\ub0b4\", \"\\uc2e4\\ub9dd\", \"\\uc2e4\\uc218\", \"\\uc2ec\\ud50c\", \"\\uc544\\ub4e4\", \"\\uc544\\ubc84\\uc9c0\", \"\\uc544\\ube60\", \"\\uc544\\uc26c\\uc6c0\", \"\\uc544\\uc774\", \"\\uc544\\uc774\\ud328\\ub4dc\", \"\\uc544\\uc774\\ud3f0\", \"\\uc544\\uc774\\ud3f0\", \"\\uc544\\uc774\\ud3f0\", \"\\uc544\\uc774\\ud3f0\", \"\\uc544\\uce68\", \"\\uc545\\uac10\", \"\\uc548\\ub0b4\", \"\\uc548\\ub4dc\\ub85c\\uc774\\ub4dc\", \"\\uc548\\uc815\", \"\\uc560\\uc6a9\", \"\\uc561\\uc815\", \"\\uc591\\ucabd\", \"\\uc5c5\\ubb34\", \"\\uc5c5\\uccb4\", \"\\uc5d0\\ub9ad\\uc2a8\", \"\\uc5d8\\uc9c0\", \"\\uc5e0\\ud53c\", \"\\uc5ec\\uae30\", \"\\uc5ec\\uae30\", \"\\uc5ec\\ub984\", \"\\uc5ec\\uc790\", \"\\uc5ed\\uc2dc\", \"\\uc5f0\\uacb0\", \"\\uc5f0\\uacb0\", \"\\uc5f0\\uacb0\", \"\\uc5f0\\uacb0\", \"\\uc5f0\\uacb0\", \"\\uc5f0\\uacb0\", \"\\uc5f0\\ub77d\", \"\\uc5f0\\ub9d0\", \"\\uc601\\ud654\", \"\\uc608\\uc804\", \"\\uc608\\uc804\", \"\\uc624\\ub514\\uc624\", \"\\uc624\\ub978\\ucabd\", \"\\uc624\\uc804\", \"\\uc624\\ud504\", \"\\uc624\\ud6c4\", \"\\uc628\\ub77c\\uc778\", \"\\uc634\\ub2c8\\uc544\", \"\\uc635\\uc158\", \"\\uc635\\ud2f0\\uba38\\uc2a4\", \"\\uc640\\uc774\\ud504\", \"\\uc644\\ub8cc\", \"\\uc644\\ubcbd\", \"\\uc644\\uc804\", \"\\uc644\\uc804\", \"\\uc644\\uc804\", \"\\uc644\\uc804\", \"\\uc644\\uc804\", \"\\uc644\\uc804\", \"\\uc678\\uad00\", \"\\uc678\\ubd80\", \"\\uc67c\\ucabd\", \"\\uc694\\uc998\", \"\\uc6a9\\ub3c4\", \"\\uc6a9\\ub7c9\", \"\\uc6b0\\uc218\", \"\\uc6b0\\uc218\", \"\\uc6b0\\uccb4\\uad6d\", \"\\uc6b4\\ub3d9\", \"\\uc6b4\\ub3d9\", \"\\uc6b4\\uc804\", \"\\uc6d0\\ub300\", \"\\uc704\\uce58\", \"\\uc708\\ub3c4\\uc6b0\", \"\\uc720\\uc120\", \"\\uc720\\uc120\", \"\\uc74c\\ub7c9\", \"\\uc74c\\ub7c9\", \"\\uc74c\\ub7c9\", \"\\uc74c\\uc131\", \"\\uc74c\\uc545\", \"\\uc74c\\uc545\", \"\\uc74c\\uc545\", \"\\uc74c\\uc545\", \"\\uc74c\\uc545\", \"\\uc74c\\uc545\", \"\\uc74c\\uc9c8\", \"\\uc74c\\uc9c8\", \"\\uc74c\\uc9c8\", \"\\uc74c\\uc9c8\", \"\\uc74c\\uc9c8\", \"\\uc74c\\uc9c8\", \"\\uc74c\\uc9c8\", \"\\uc74c\\uc9c8\", \"\\uc74c\\uc9c8\", \"\\uc74c\\uc9c8\", \"\\uc74c\\ud5a5\", \"\\uc751\\ub300\", \"\\uc774\\uac70\", \"\\uc774\\uac70\", \"\\uc774\\uac70\", \"\\uc774\\uac70\", \"\\uc774\\uac78\", \"\\uc774\\uac78\", \"\\uc774\\uac83\\uc800\\uac83\", \"\\uc774\\ub3d9\", \"\\uc774\\ub984\", \"\\uc774\\ub984\\uac12\", \"\\uc774\\ubc88\", \"\\uc774\\ubc88\", \"\\uc774\\ubc88\", \"\\uc774\\uc0c1\", \"\\uc774\\uc0c1\", \"\\uc774\\uc0c1\", \"\\uc774\\uc0c1\", \"\\uc774\\uc0c1\", \"\\uc774\\uc0c1\", \"\\uc774\\uc0c1\", \"\\uc774\\uc5b4\\ud3f0\", \"\\uc774\\uc5b4\\ud3f0\", \"\\uc774\\uc5b4\\ud3f0\", \"\\uc774\\uc5b4\\ud3f0\", \"\\uc774\\uc5b4\\ud3f0\", \"\\uc774\\uc5b4\\ud3f0\", \"\\uc774\\uc5b4\\ud3f0\", \"\\uc774\\uc5b4\\ud3f0\", \"\\uc774\\uc5b4\\ud3f0\", \"\\uc774\\uc6a9\", \"\\uc774\\uc6a9\", \"\\uc774\\uc6a9\", \"\\uc774\\uc6a9\", \"\\uc774\\uc6a9\", \"\\uc774\\uc6a9\", \"\\uc774\\uc6a9\", \"\\uc774\\uc720\", \"\\uc774\\ud574\", \"\\uc775\\uc77c\", \"\\uc775\\uc77c\", \"\\uc778\\uc0c1\", \"\\uc778\\uc2dd\", \"\\uc778\\uc2dd\", \"\\uc778\\uc2dd\", \"\\uc778\\ud130\\ub137\", \"\\uc778\\ud130\\ub137\", \"\\uc785\\uc7a5\", \"\\uc790\\ub3d9\", \"\\uc790\\ub3d9\", \"\\uc790\\ubd84\", \"\\uc790\\uc720\", \"\\uc791\\ub3d9\", \"\\uc791\\ub3d9\", \"\\uc791\\ub3d9\", \"\\uc791\\ub3d9\", \"\\uc791\\uc131\", \"\\uc791\\uc5c5\", \"\\uc7a1\\uc74c\", \"\\uc7a1\\uc74c\", \"\\uc7a1\\uc74c\", \"\\uc7a5\\ub9cc\", \"\\uc7a5\\uc2dc\\uac04\", \"\\uc7a5\\ucc29\", \"\\uc7ac\\uc0dd\", \"\\uc7ac\\uc0dd\", \"\\uc7ac\\ud488\", \"\\uc800\\uc74c\", \"\\uc800\\uc74c\", \"\\uc801\\uadf9\", \"\\uc804\\uc6a9\", \"\\uc804\\uc6d0\", \"\\uc804\\uc6d0\", \"\\uc804\\uc790\", \"\\uc804\\ud654\", \"\\uc804\\ud654\", \"\\uc804\\ud654\", \"\\uc804\\ud654\", \"\\uc804\\ud654\", \"\\uc804\\ud658\", \"\\uc810\\uc218\", \"\\uc810\\uc2ec\", \"\\uc815\\ub3c4\", \"\\uc815\\ub3c4\", \"\\uc815\\ub3c4\", \"\\uc815\\ub3c4\", \"\\uc815\\ub3c4\", \"\\uc815\\ud488\", \"\\uc815\\ud488\", \"\\uc815\\ud655\", \"\\uc815\\ud655\", \"\\uc81c\\uac70\", \"\\uc81c\\ud488\", \"\\uc81c\\ud488\", \"\\uc81c\\ud488\", \"\\uc81c\\ud488\", \"\\uc81c\\ud488\", \"\\uc81c\\ud488\", \"\\uc81c\\ud488\", \"\\uc81c\\ud488\", \"\\uc81c\\ud488\", \"\\uc81c\\ud488\", \"\\uc870\\ub9bd\", \"\\uc870\\uc544\", \"\\uc870\\uc791\", \"\\uc870\\uc791\", \"\\uc870\\uc791\", \"\\uc870\\uc808\", \"\\uc870\\uc815\", \"\\uc870\\uce74\", \"\\uc885\\uc77c\", \"\\uc8fc\\ubb38\", \"\\uc8fc\\ubb38\", \"\\uc8fc\\ubb38\", \"\\uc8fc\\ubb38\", \"\\uc8fc\\ubb38\", \"\\uc8fc\\ubcc0\", \"\\uc8fc\\ubcc0\", \"\\uc8fc\\uc77c\", \"\\uc911\\uac04\", \"\\uc911\\uace0\", \"\\uc911\\uad6d\", \"\\uc9c0\\uc6d0\", \"\\uc9c0\\uc778\", \"\\uc9c0\\uc7a5\", \"\\uc9c0\\uc9c1\", \"\\uc9c1\\uc6d0\", \"\\uc9c8\\ubb38\", \"\\uc9dc\\uc99d\", \"\\ucc28\\ub7c9\", \"\\ucc28\\ub7c9\", \"\\ucc28\\ub7c9\", \"\\ucc28\\uc74c\", \"\\ucc29\\uc6a9\", \"\\ucc29\\uc6a9\", \"\\ucc29\\uc6a9\", \"\\ucc29\\uc6a9\", \"\\ucc29\\uc6a9\\uac10\", \"\\ucc29\\uc6a9\\uac10\", \"\\ucc29\\uc6a9\\uac10\", \"\\ucc29\\uc6a9\\uac10\", \"\\ucc29\\uc6a9\\uac10\", \"\\ucc38\\uace0\", \"\\ucc38\\uace0\", \"\\ucc98\\ub9ac\", \"\\ucc98\\ub9ac\", \"\\ucc98\\uc74c\", \"\\ucc98\\uc74c\", \"\\ucc98\\uc74c\", \"\\ucc98\\uc74c\", \"\\ucc98\\uc74c\", \"\\ucc98\\uc74c\", \"\\ucd1d\\uc54c\", \"\\ucd5c\\uace0\", \"\\ucd5c\\uace0\", \"\\ucd5c\\uace0\", \"\\ucd5c\\ub300\", \"\\ucd5c\\uc0c1\", \"\\ucd94\\uac00\", \"\\ucd94\\uac00\", \"\\ucd94\\uc11d\", \"\\ucd94\\ucc9c\", \"\\ucd94\\ucc9c\", \"\\ucd94\\ucc9c\", \"\\ucda9\\uc804\", \"\\ucda9\\uc804\", \"\\ucda9\\uc804\", \"\\ucda9\\uc804\", \"\\ucda9\\uc804\", \"\\ucda9\\uc804\\uae30\", \"\\ucda9\\uc804\\uae30\", \"\\uce5c\\uad6c\", \"\\uce5c\\uc808\", \"\\uce5c\\uc808\", \"\\uce74\\ub4dc\", \"\\uce74\\ub4dc\", \"\\ucee4\\ub110\", \"\\ucee4\\ubc84\", \"\\ucef4\\ud4e8\\ud130\", \"\\ucf00\\uc774\\uc2a4\", \"\\ucf00\\uc774\\uc2a4\", \"\\ucf00\\uc774\\uc2a4\", \"\\ucf54\\ub9ac\\uc544\", \"\\ucfe0\\ud0a4\", \"\\ucfe0\\ud3f0\", \"\\ud06c\\uae30\", \"\\ud06c\\uae30\", \"\\ud06c\\uae30\", \"\\ud06c\\uae30\", \"\\ud0dd\\ubc30\", \"\\ud0dd\\ubc30\", \"\\ud130\\uce58\", \"\\ud14c\\uc2a4\\ud2b8\", \"\\ud14c\\uc2a4\\ud2b8\", \"\\ud14c\\uc2a4\\ud2b8\", \"\\ud14c\\uc2a4\\ud2b8\", \"\\ud1a0\\uc694\\uc77c\", \"\\ud1b5\\ud654\", \"\\ud1b5\\ud654\", \"\\ud1b5\\ud654\", \"\\ud1b5\\ud654\", \"\\ud1b5\\ud654\", \"\\ud1b5\\ud654\", \"\\ud1b5\\ud654\\uc74c\", \"\\ud30c\\ub780\\uc0c9\", \"\\ud310\\ub9e4\", \"\\ud310\\ub9e4\\uc790\", \"\\ud310\\ub9e4\\uc790\", \"\\ud310\\ub9e4\\uc790\", \"\\ud310\\ub9e4\\uc790\", \"\\ud328\\ub4dc\", \"\\ud398\\uc5b4\\ub9c1\", \"\\ud398\\uc5b4\\ub9c1\", \"\\ud398\\uc5b4\\ub9c1\", \"\\ud398\\uc5b4\\ub9c1\", \"\\ud398\\uc5b4\\ub9c1\", \"\\ud398\\uc5b4\\ub9c1\", \"\\ud3b8\\ub9ac\", \"\\ud3b8\\ub9ac\", \"\\ud3b8\\ub9ac\", \"\\ud3b8\\ub9ac\", \"\\ud3b8\\uc548\", \"\\ud3b8\\uc758\", \"\\ud3b8\\uc758\", \"\\ud3ec\\uc778\\ud2b8\", \"\\ud3ec\\uc7a5\", \"\\ud3ec\\uc7a5\", \"\\ud3ec\\uc7a5\", \"\\ud3ec\\uc7a5\", \"\\ud3ec\\ud568\", \"\\ud45c\\uc2dc\", \"\\ud488\\uc808\", \"\\ud488\\uc9c8\", \"\\ud488\\uc9c8\", \"\\ud488\\uc9c8\", \"\\ud488\\uc9c8\", \"\\ud488\\ud3c9\", \"\\ud504\\ub85c\\uadf8\\ub7a8\", \"\\ud504\\ub9ac\", \"\\ud50c\\ub79c\\ud2b8\", \"\\ud50c\\ub808\\uc774\", \"\\ud544\\uc694\", \"\\ud544\\uc694\", \"\\ud544\\uc694\", \"\\ud544\\uc694\", \"\\ud544\\uc694\", \"\\ud544\\uc694\", \"\\ud551\\ud06c\", \"\\ud558\\ub098\", \"\\ud558\\ub098\", \"\\ud558\\ub098\", \"\\ud558\\ub098\", \"\\ud558\\ub098\", \"\\ud558\\ub098\", \"\\ud558\\ub8e8\", \"\\ud558\\ub8e8\", \"\\ud558\\ub8e8\", \"\\ud558\\ub8e8\", \"\\ud558\\uc580\\uc0c9\", \"\\ud55c\\ucabd\", \"\\ud560\\uc778\", \"\\ud574\\uacb0\", \"\\ud578\\ub4dc\\ud3f0\", \"\\ud578\\ub4dc\\ud3f0\", \"\\ud578\\ub4dc\\ud3f0\", \"\\ud578\\uc988\", \"\\ud585\\ud2f1\", \"\\ud5c8\\uc811\", \"\\ud5e4\\ub4dc\", \"\\ud5e4\\ub4dc\\uc14b\", \"\\ud5e4\\ub4dc\\uc14b\", \"\\ud5e4\\ub4dc\\uc14b\", \"\\ud5e4\\ub4dc\\uc14b\", \"\\ud5e4\\ub4dc\\ud3f0\", \"\\ud5ec\\uc2a4\", \"\\ud604\\uc7ac\", \"\\ud638\\ud658\", \"\\ud638\\ud658\", \"\\ud640\\ub4dc\", \"\\ud654\\uba74\", \"\\ud654\\uc774\\ud2b8\", \"\\ud654\\uc774\\ud2b8\", \"\\ud655\\uc778\", \"\\ud655\\uc778\", \"\\ud655\\uc778\", \"\\ud655\\uc778\", \"\\ud655\\uc778\", \"\\ud655\\uc815\", \"\\ud65c\\uc6a9\", \"\\ud65c\\uc6a9\", \"\\ud6a8\\uacfc\", \"\\ud6c4\\uae30\", \"\\ud6c4\\uae30\", \"\\ud6c4\\uae30\", \"\\ud6c4\\uae30\", \"\\ud6c4\\uae30\", \"\\ud6c4\\uae30\", \"\\ud6c4\\ud68c\", \"\\ud6c4\\ud68c\", \"\\ud6c4\\ud68c\", \"\\ud6c4\\ud68c\", \"\\ud754\\uc801\", \"\\ud770\\uc0c9\", \"\\ud770\\uc0c9\"]}, \"R\": 30, \"lambda.step\": 0.01, \"plot.opts\": {\"xlab\": \"PC1\", \"ylab\": \"PC2\"}, \"topic.order\": [8, 5, 4, 10, 6, 9, 3, 7, 2, 1]};\n",
       "\n",
       "function LDAvis_load_lib(url, callback){\n",
       "  var s = document.createElement('script');\n",
       "  s.src = url;\n",
       "  s.async = true;\n",
       "  s.onreadystatechange = s.onload = callback;\n",
       "  s.onerror = function(){console.warn(\"failed to load library \" + url);};\n",
       "  document.getElementsByTagName(\"head\")[0].appendChild(s);\n",
       "}\n",
       "\n",
       "if(typeof(LDAvis) !== \"undefined\"){\n",
       "   // already loaded: just create the visualization\n",
       "   !function(LDAvis){\n",
       "       new LDAvis(\"#\" + \"ldavis_el15191403246453200165212919551\", ldavis_el15191403246453200165212919551_data);\n",
       "   }(LDAvis);\n",
       "}else if(typeof define === \"function\" && define.amd){\n",
       "   // require.js is available: use it to load d3/LDAvis\n",
       "   require.config({paths: {d3: \"https://cdnjs.cloudflare.com/ajax/libs/d3/3.5.5/d3.min\"}});\n",
       "   require([\"d3\"], function(d3){\n",
       "      window.d3 = d3;\n",
       "      LDAvis_load_lib(\"https://cdn.rawgit.com/bmabey/pyLDAvis/files/ldavis.v1.0.0.js\", function(){\n",
       "        new LDAvis(\"#\" + \"ldavis_el15191403246453200165212919551\", ldavis_el15191403246453200165212919551_data);\n",
       "      });\n",
       "    });\n",
       "}else{\n",
       "    // require.js not available: dynamically load d3 & LDAvis\n",
       "    LDAvis_load_lib(\"https://cdnjs.cloudflare.com/ajax/libs/d3/3.5.5/d3.min.js\", function(){\n",
       "         LDAvis_load_lib(\"https://cdn.rawgit.com/bmabey/pyLDAvis/files/ldavis.v1.0.0.js\", function(){\n",
       "                 new LDAvis(\"#\" + \"ldavis_el15191403246453200165212919551\", ldavis_el15191403246453200165212919551_data);\n",
       "            })\n",
       "         });\n",
       "}\n",
       "</script>"
      ],
      "text/plain": [
       "PreparedData(topic_coordinates=              x         y  topics  cluster       Freq\n",
       "topic                                                \n",
       "7      0.130187 -0.105147       1        1  19.767156\n",
       "4      0.205661 -0.074229       2        1  15.519859\n",
       "3     -0.325473 -0.163699       3        1  11.074535\n",
       "9     -0.209877 -0.203636       4        1  10.257930\n",
       "5     -0.156477  0.362707       5        1   9.694126\n",
       "8      0.018166  0.025090       6        1   7.853164\n",
       "2      0.181584 -0.060640       7        1   7.851510\n",
       "6      0.040587  0.064712       8        1   6.812474\n",
       "1     -0.017225  0.152923       9        1   6.695058\n",
       "0      0.132868  0.001919      10        1   4.474187, topic_info=    Term         Freq        Total Category  logprob  loglift\n",
       "0     배송  7961.000000  7961.000000  Default  30.0000  30.0000\n",
       "192   마음  6056.000000  6056.000000  Default  29.0000  29.0000\n",
       "14    가격  5637.000000  5637.000000  Default  28.0000  28.0000\n",
       "73    제품  4683.000000  4683.000000  Default  27.0000  27.0000\n",
       "5     만족  7302.000000  7302.000000  Default  26.0000  26.0000\n",
       "..   ...          ...          ...      ...      ...      ...\n",
       "9     사용   274.680432  5332.645689  Topic10  -3.3680   0.1409\n",
       "62    음질   216.435622  5521.035294  Topic10  -3.6063  -0.1322\n",
       "6     구입    97.852073  1483.894476  Topic10  -4.4001   0.3879\n",
       "99    포장    55.032125   331.761768  Topic10  -4.9757   1.3103\n",
       "170   하나    58.025802   879.417911  Topic10  -4.9227   0.3885\n",
       "\n",
       "[510 rows x 6 columns], token_table=      Topic      Freq Term\n",
       "term                      \n",
       "14        1  0.001774   가격\n",
       "14        2  0.000355   가격\n",
       "14        3  0.000177   가격\n",
       "14        4  0.997054   가격\n",
       "14        8  0.000177   가격\n",
       "...     ...       ...  ...\n",
       "368       7  0.850926   후회\n",
       "368       8  0.130434   후회\n",
       "1885      9  0.989104   흔적\n",
       "348       4  0.006227   흰색\n",
       "348       7  0.990105   흰색\n",
       "\n",
       "[847 rows x 3 columns], R=30, lambda_step=0.01, plot_opts={'xlab': 'PC1', 'ylab': 'PC2'}, topic_order=[8, 5, 4, 10, 6, 9, 3, 7, 2, 1])"
      ]
     },
     "execution_count": 168,
     "metadata": {},
     "output_type": "execute_result"
    }
   ],
   "source": [
    "import pyLDAvis\n",
    "import pyLDAvis.gensim\n",
    "\n",
    "pyLDAvis.enable_notebook()\n",
    "\n",
    "data = pyLDAvis.gensim.prepare(model, corpus, dictionary)\n",
    "data"
   ]
  },
  {
   "cell_type": "markdown",
   "metadata": {},
   "source": [
    "# 리뷰 별 토픽 매핑\n",
    "- 분류된 여러 토픽들에 포함된 키워드를 정렬한 뒤, 상위 키워드들의 분포비 등을 확인하여 개별 토픽 정의\n",
    "    - 각 토픽에 할당된 단어와 단어별 토픽 차지 비율 추출\n",
    "    - 데이터프레임화\n",
    "    - 토픽별 추출"
   ]
  },
  {
   "cell_type": "code",
   "execution_count": 169,
   "metadata": {},
   "outputs": [
    {
     "name": "stderr",
     "output_type": "stream",
     "text": [
      "/Users/parkhyunki/opt/anaconda3/envs/test/lib/python3.7/site-packages/ipykernel/ipkernel.py:287: DeprecationWarning: `should_run_async` will not call `transform_cell` automatically in the future. Please pass the result to `transformed_cell` argument and any exception that happen during thetransform in `preprocessing_exc_tuple` in IPython 7.17 and above.\n",
      "  and should_run_async(code)\n"
     ]
    }
   ],
   "source": [
    "def make_topictable_per_doc(ldamodel, corpus):\n",
    "    topic_table = pd.DataFrame()\n",
    "\n",
    "    for i, topic_list in enumerate(ldamodel[corpus]):\n",
    "        doc = topic_list[0] if ldamodel.per_word_topics else topic_list            \n",
    "        doc = sorted(doc, key=lambda x: (x[1]), reverse=True)\n",
    "\n",
    "        for j, (topic_num, prop_topic) in enumerate(doc):\n",
    "            if j == 0: \n",
    "                topic_table = topic_table.append(pd.Series([int(topic_num), round(prop_topic,4), topic_list]), ignore_index=True)\n",
    "            else:\n",
    "                break\n",
    "    return (topic_table)"
   ]
  },
  {
   "cell_type": "code",
   "execution_count": 170,
   "metadata": {},
   "outputs": [
    {
     "name": "stderr",
     "output_type": "stream",
     "text": [
      "/Users/parkhyunki/opt/anaconda3/envs/test/lib/python3.7/site-packages/ipykernel/ipkernel.py:287: DeprecationWarning: `should_run_async` will not call `transform_cell` automatically in the future. Please pass the result to `transformed_cell` argument and any exception that happen during thetransform in `preprocessing_exc_tuple` in IPython 7.17 and above.\n",
      "  and should_run_async(code)\n"
     ]
    }
   ],
   "source": [
    "topictable = make_topictable_per_doc(model, corpus)\n",
    "topictable = topictable.reset_index()"
   ]
  },
  {
   "cell_type": "code",
   "execution_count": 176,
   "metadata": {},
   "outputs": [
    {
     "name": "stderr",
     "output_type": "stream",
     "text": [
      "/Users/parkhyunki/opt/anaconda3/envs/test/lib/python3.7/site-packages/ipykernel/ipkernel.py:287: DeprecationWarning: `should_run_async` will not call `transform_cell` automatically in the future. Please pass the result to `transformed_cell` argument and any exception that happen during thetransform in `preprocessing_exc_tuple` in IPython 7.17 and above.\n",
      "  and should_run_async(code)\n"
     ]
    },
    {
     "data": {
      "text/html": [
       "<div>\n",
       "<style scoped>\n",
       "    .dataframe tbody tr th:only-of-type {\n",
       "        vertical-align: middle;\n",
       "    }\n",
       "\n",
       "    .dataframe tbody tr th {\n",
       "        vertical-align: top;\n",
       "    }\n",
       "\n",
       "    .dataframe thead th {\n",
       "        text-align: right;\n",
       "    }\n",
       "</style>\n",
       "<table border=\"1\" class=\"dataframe\">\n",
       "  <thead>\n",
       "    <tr style=\"text-align: right;\">\n",
       "      <th></th>\n",
       "      <th>index</th>\n",
       "      <th>0</th>\n",
       "      <th>1</th>\n",
       "      <th>2</th>\n",
       "    </tr>\n",
       "  </thead>\n",
       "  <tbody>\n",
       "    <tr>\n",
       "      <th>0</th>\n",
       "      <td>0</td>\n",
       "      <td>3.0</td>\n",
       "      <td>0.3778</td>\n",
       "      <td>[(0, 0.023528527), (1, 0.032208532), (2, 0.347...</td>\n",
       "    </tr>\n",
       "    <tr>\n",
       "      <th>1</th>\n",
       "      <td>1</td>\n",
       "      <td>8.0</td>\n",
       "      <td>0.5048</td>\n",
       "      <td>[(0, 0.017805047), (1, 0.0243887), (2, 0.01964...</td>\n",
       "    </tr>\n",
       "    <tr>\n",
       "      <th>2</th>\n",
       "      <td>2</td>\n",
       "      <td>3.0</td>\n",
       "      <td>0.5571</td>\n",
       "      <td>[(0, 0.034696434), (1, 0.047496438), (2, 0.038...</td>\n",
       "    </tr>\n",
       "    <tr>\n",
       "      <th>3</th>\n",
       "      <td>3</td>\n",
       "      <td>3.0</td>\n",
       "      <td>0.5571</td>\n",
       "      <td>[(0, 0.034696445), (1, 0.04749669), (2, 0.0382...</td>\n",
       "    </tr>\n",
       "    <tr>\n",
       "      <th>4</th>\n",
       "      <td>4</td>\n",
       "      <td>3.0</td>\n",
       "      <td>0.5571</td>\n",
       "      <td>[(0, 0.034696445), (1, 0.04749669), (2, 0.0382...</td>\n",
       "    </tr>\n",
       "    <tr>\n",
       "      <th>...</th>\n",
       "      <td>...</td>\n",
       "      <td>...</td>\n",
       "      <td>...</td>\n",
       "      <td>...</td>\n",
       "    </tr>\n",
       "    <tr>\n",
       "      <th>60577</th>\n",
       "      <td>60577</td>\n",
       "      <td>5.0</td>\n",
       "      <td>0.5584</td>\n",
       "      <td>[(0, 0.034696434), (1, 0.047496438), (2, 0.038...</td>\n",
       "    </tr>\n",
       "    <tr>\n",
       "      <th>60578</th>\n",
       "      <td>60578</td>\n",
       "      <td>7.0</td>\n",
       "      <td>0.5587</td>\n",
       "      <td>[(3, 0.016432), (5, 0.10977812), (7, 0.5586643...</td>\n",
       "    </tr>\n",
       "    <tr>\n",
       "      <th>60579</th>\n",
       "      <td>60579</td>\n",
       "      <td>1.0</td>\n",
       "      <td>0.5095</td>\n",
       "      <td>[(0, 0.017799493), (1, 0.50949085), (2, 0.0196...</td>\n",
       "    </tr>\n",
       "    <tr>\n",
       "      <th>60580</th>\n",
       "      <td>60580</td>\n",
       "      <td>5.0</td>\n",
       "      <td>0.1595</td>\n",
       "      <td>[(0, 0.066045694), (1, 0.09041088), (2, 0.0728...</td>\n",
       "    </tr>\n",
       "    <tr>\n",
       "      <th>60581</th>\n",
       "      <td>60581</td>\n",
       "      <td>3.0</td>\n",
       "      <td>0.2930</td>\n",
       "      <td>[(0, 0.010116635), (1, 0.013849067), (2, 0.011...</td>\n",
       "    </tr>\n",
       "  </tbody>\n",
       "</table>\n",
       "<p>60582 rows × 4 columns</p>\n",
       "</div>"
      ],
      "text/plain": [
       "       index    0       1                                                  2\n",
       "0          0  3.0  0.3778  [(0, 0.023528527), (1, 0.032208532), (2, 0.347...\n",
       "1          1  8.0  0.5048  [(0, 0.017805047), (1, 0.0243887), (2, 0.01964...\n",
       "2          2  3.0  0.5571  [(0, 0.034696434), (1, 0.047496438), (2, 0.038...\n",
       "3          3  3.0  0.5571  [(0, 0.034696445), (1, 0.04749669), (2, 0.0382...\n",
       "4          4  3.0  0.5571  [(0, 0.034696445), (1, 0.04749669), (2, 0.0382...\n",
       "...      ...  ...     ...                                                ...\n",
       "60577  60577  5.0  0.5584  [(0, 0.034696434), (1, 0.047496438), (2, 0.038...\n",
       "60578  60578  7.0  0.5587  [(3, 0.016432), (5, 0.10977812), (7, 0.5586643...\n",
       "60579  60579  1.0  0.5095  [(0, 0.017799493), (1, 0.50949085), (2, 0.0196...\n",
       "60580  60580  5.0  0.1595  [(0, 0.066045694), (1, 0.09041088), (2, 0.0728...\n",
       "60581  60581  3.0  0.2930  [(0, 0.010116635), (1, 0.013849067), (2, 0.011...\n",
       "\n",
       "[60582 rows x 4 columns]"
      ]
     },
     "execution_count": 176,
     "metadata": {},
     "output_type": "execute_result"
    }
   ],
   "source": [
    "topictable"
   ]
  },
  {
   "cell_type": "code",
   "execution_count": 177,
   "metadata": {
    "scrolled": false
   },
   "outputs": [
    {
     "name": "stderr",
     "output_type": "stream",
     "text": [
      "/Users/parkhyunki/opt/anaconda3/envs/test/lib/python3.7/site-packages/ipykernel/ipkernel.py:287: DeprecationWarning: `should_run_async` will not call `transform_cell` automatically in the future. Please pass the result to `transformed_cell` argument and any exception that happen during thetransform in `preprocessing_exc_tuple` in IPython 7.17 and above.\n",
      "  and should_run_async(code)\n"
     ]
    },
    {
     "data": {
      "text/html": [
       "<div>\n",
       "<style scoped>\n",
       "    .dataframe tbody tr th:only-of-type {\n",
       "        vertical-align: middle;\n",
       "    }\n",
       "\n",
       "    .dataframe tbody tr th {\n",
       "        vertical-align: top;\n",
       "    }\n",
       "\n",
       "    .dataframe thead th {\n",
       "        text-align: right;\n",
       "    }\n",
       "</style>\n",
       "<table border=\"1\" class=\"dataframe\">\n",
       "  <thead>\n",
       "    <tr style=\"text-align: right;\">\n",
       "      <th></th>\n",
       "      <th>item_id</th>\n",
       "      <th>review_id</th>\n",
       "      <th>login_id</th>\n",
       "      <th>score</th>\n",
       "      <th>content</th>\n",
       "      <th>item_option</th>\n",
       "      <th>date</th>\n",
       "      <th>likeCnt</th>\n",
       "      <th>label</th>\n",
       "    </tr>\n",
       "  </thead>\n",
       "  <tbody>\n",
       "    <tr>\n",
       "      <th>0</th>\n",
       "      <td>24181889</td>\n",
       "      <td>100016281</td>\n",
       "      <td>ross****</td>\n",
       "      <td>5.0</td>\n",
       "      <td>배송빠르고 잘작동합니다. 많이파세요</td>\n",
       "      <td>[옵션]제품선택:소니 DR-BT101</td>\n",
       "      <td>2012-02-24</td>\n",
       "      <td>0</td>\n",
       "      <td>Positive</td>\n",
       "    </tr>\n",
       "    <tr>\n",
       "      <th>1</th>\n",
       "      <td>228322167</td>\n",
       "      <td>100019388</td>\n",
       "      <td>hwbs****</td>\n",
       "      <td>5.0</td>\n",
       "      <td>일단 가볍고 간단해서 좋구요.... 저희 신랑이랑 커플로 2개 샀네요.</td>\n",
       "      <td>[옵션]제품선택:아이리버 BT-S10 블루</td>\n",
       "      <td>2012-02-24</td>\n",
       "      <td>0</td>\n",
       "      <td>Positive</td>\n",
       "    </tr>\n",
       "    <tr>\n",
       "      <th>2</th>\n",
       "      <td>24181889</td>\n",
       "      <td>100023537</td>\n",
       "      <td>peel**</td>\n",
       "      <td>5.0</td>\n",
       "      <td>배송 빠르고 좋네요~</td>\n",
       "      <td>[옵션]제품선택:소니 DR-BT101</td>\n",
       "      <td>2012-02-24</td>\n",
       "      <td>0</td>\n",
       "      <td>Positive</td>\n",
       "    </tr>\n",
       "    <tr>\n",
       "      <th>3</th>\n",
       "      <td>24181889</td>\n",
       "      <td>100028785</td>\n",
       "      <td>moon*****</td>\n",
       "      <td>5.0</td>\n",
       "      <td>만족합니다</td>\n",
       "      <td>[옵션]제품선택:소니 DR-BT101</td>\n",
       "      <td>2012-02-24</td>\n",
       "      <td>0</td>\n",
       "      <td>Positive</td>\n",
       "    </tr>\n",
       "    <tr>\n",
       "      <th>4</th>\n",
       "      <td>60614626</td>\n",
       "      <td>100060926</td>\n",
       "      <td>tore****</td>\n",
       "      <td>5.0</td>\n",
       "      <td>만족합니다</td>\n",
       "      <td>[옵션]색상선택:소니 DRC-BT30 블랙</td>\n",
       "      <td>2012-02-25</td>\n",
       "      <td>0</td>\n",
       "      <td>Positive</td>\n",
       "    </tr>\n",
       "    <tr>\n",
       "      <th>...</th>\n",
       "      <td>...</td>\n",
       "      <td>...</td>\n",
       "      <td>...</td>\n",
       "      <td>...</td>\n",
       "      <td>...</td>\n",
       "      <td>...</td>\n",
       "      <td>...</td>\n",
       "      <td>...</td>\n",
       "      <td>...</td>\n",
       "    </tr>\n",
       "    <tr>\n",
       "      <th>60577</th>\n",
       "      <td>32688199</td>\n",
       "      <td>99982065</td>\n",
       "      <td>dolb****</td>\n",
       "      <td>5.0</td>\n",
       "      <td>무척 마음에 듭니다.</td>\n",
       "      <td></td>\n",
       "      <td>2012-02-24</td>\n",
       "      <td>0</td>\n",
       "      <td>Positive</td>\n",
       "    </tr>\n",
       "    <tr>\n",
       "      <th>60578</th>\n",
       "      <td>32688199</td>\n",
       "      <td>99982229</td>\n",
       "      <td>dolb****</td>\n",
       "      <td>5.0</td>\n",
       "      <td>역시 자브라 입니다. 디자인과 품질 전부 만족합니다. 무엇보다 역시 디자인 크래들에...</td>\n",
       "      <td></td>\n",
       "      <td>2012-02-24</td>\n",
       "      <td>0</td>\n",
       "      <td>Positive</td>\n",
       "    </tr>\n",
       "    <tr>\n",
       "      <th>60579</th>\n",
       "      <td>60614626</td>\n",
       "      <td>99983950</td>\n",
       "      <td>ccom*****</td>\n",
       "      <td>5.0</td>\n",
       "      <td>신랑이 너무 좋아하네요 저도 하나 구입해야 할까뵈요</td>\n",
       "      <td>[옵션]색상선택:소니 DRC-BT30 블랙</td>\n",
       "      <td>2012-02-24</td>\n",
       "      <td>0</td>\n",
       "      <td>Positive</td>\n",
       "    </tr>\n",
       "    <tr>\n",
       "      <th>60580</th>\n",
       "      <td>228322167</td>\n",
       "      <td>99989740</td>\n",
       "      <td>ace9***</td>\n",
       "      <td>5.0</td>\n",
       "      <td>좋습니다!!</td>\n",
       "      <td>[옵션]제품선택:아이리버 BT-S10 핑크</td>\n",
       "      <td>2012-02-24</td>\n",
       "      <td>0</td>\n",
       "      <td>Positive</td>\n",
       "    </tr>\n",
       "    <tr>\n",
       "      <th>60581</th>\n",
       "      <td>24181889</td>\n",
       "      <td>9999494</td>\n",
       "      <td>espr****</td>\n",
       "      <td>5.0</td>\n",
       "      <td>제품, 가격, 배송 모두 만족합니다. SKT 멤버쉽 포인트도 사용할 수 있어서 더 ...</td>\n",
       "      <td></td>\n",
       "      <td>2009-07-31</td>\n",
       "      <td>0</td>\n",
       "      <td>Positive</td>\n",
       "    </tr>\n",
       "  </tbody>\n",
       "</table>\n",
       "<p>60582 rows × 9 columns</p>\n",
       "</div>"
      ],
      "text/plain": [
       "         item_id  review_id   login_id score  \\\n",
       "0       24181889  100016281   ross****   5.0   \n",
       "1      228322167  100019388   hwbs****   5.0   \n",
       "2       24181889  100023537     peel**   5.0   \n",
       "3       24181889  100028785  moon*****   5.0   \n",
       "4       60614626  100060926   tore****   5.0   \n",
       "...          ...        ...        ...   ...   \n",
       "60577   32688199   99982065   dolb****   5.0   \n",
       "60578   32688199   99982229   dolb****   5.0   \n",
       "60579   60614626   99983950  ccom*****   5.0   \n",
       "60580  228322167   99989740    ace9***   5.0   \n",
       "60581   24181889    9999494   espr****   5.0   \n",
       "\n",
       "                                                 content  \\\n",
       "0                                    배송빠르고 잘작동합니다. 많이파세요   \n",
       "1                일단 가볍고 간단해서 좋구요.... 저희 신랑이랑 커플로 2개 샀네요.   \n",
       "2                                            배송 빠르고 좋네요~   \n",
       "3                                                  만족합니다   \n",
       "4                                                  만족합니다   \n",
       "...                                                  ...   \n",
       "60577                                        무척 마음에 듭니다.   \n",
       "60578  역시 자브라 입니다. 디자인과 품질 전부 만족합니다. 무엇보다 역시 디자인 크래들에...   \n",
       "60579                       신랑이 너무 좋아하네요 저도 하나 구입해야 할까뵈요   \n",
       "60580                                             좋습니다!!   \n",
       "60581  제품, 가격, 배송 모두 만족합니다. SKT 멤버쉽 포인트도 사용할 수 있어서 더 ...   \n",
       "\n",
       "                   item_option        date  likeCnt     label  \n",
       "0         [옵션]제품선택:소니 DR-BT101  2012-02-24        0  Positive  \n",
       "1      [옵션]제품선택:아이리버 BT-S10 블루  2012-02-24        0  Positive  \n",
       "2         [옵션]제품선택:소니 DR-BT101  2012-02-24        0  Positive  \n",
       "3         [옵션]제품선택:소니 DR-BT101  2012-02-24        0  Positive  \n",
       "4      [옵션]색상선택:소니 DRC-BT30 블랙  2012-02-25        0  Positive  \n",
       "...                        ...         ...      ...       ...  \n",
       "60577                           2012-02-24        0  Positive  \n",
       "60578                           2012-02-24        0  Positive  \n",
       "60579  [옵션]색상선택:소니 DRC-BT30 블랙  2012-02-24        0  Positive  \n",
       "60580  [옵션]제품선택:아이리버 BT-S10 핑크  2012-02-24        0  Positive  \n",
       "60581                           2009-07-31        0  Positive  \n",
       "\n",
       "[60582 rows x 9 columns]"
      ]
     },
     "execution_count": 177,
     "metadata": {},
     "output_type": "execute_result"
    }
   ],
   "source": [
    "review"
   ]
  },
  {
   "cell_type": "code",
   "execution_count": 184,
   "metadata": {
    "scrolled": true
   },
   "outputs": [
    {
     "name": "stderr",
     "output_type": "stream",
     "text": [
      "/Users/parkhyunki/opt/anaconda3/envs/test/lib/python3.7/site-packages/ipykernel/ipkernel.py:287: DeprecationWarning: `should_run_async` will not call `transform_cell` automatically in the future. Please pass the result to `transformed_cell` argument and any exception that happen during thetransform in `preprocessing_exc_tuple` in IPython 7.17 and above.\n",
      "  and should_run_async(code)\n"
     ]
    }
   ],
   "source": [
    "review['topic'] = topictable[0]"
   ]
  },
  {
   "cell_type": "code",
   "execution_count": 185,
   "metadata": {},
   "outputs": [
    {
     "name": "stderr",
     "output_type": "stream",
     "text": [
      "/Users/parkhyunki/opt/anaconda3/envs/test/lib/python3.7/site-packages/ipykernel/ipkernel.py:287: DeprecationWarning: `should_run_async` will not call `transform_cell` automatically in the future. Please pass the result to `transformed_cell` argument and any exception that happen during thetransform in `preprocessing_exc_tuple` in IPython 7.17 and above.\n",
      "  and should_run_async(code)\n"
     ]
    },
    {
     "data": {
      "text/html": [
       "<div>\n",
       "<style scoped>\n",
       "    .dataframe tbody tr th:only-of-type {\n",
       "        vertical-align: middle;\n",
       "    }\n",
       "\n",
       "    .dataframe tbody tr th {\n",
       "        vertical-align: top;\n",
       "    }\n",
       "\n",
       "    .dataframe thead th {\n",
       "        text-align: right;\n",
       "    }\n",
       "</style>\n",
       "<table border=\"1\" class=\"dataframe\">\n",
       "  <thead>\n",
       "    <tr style=\"text-align: right;\">\n",
       "      <th></th>\n",
       "      <th>item_id</th>\n",
       "      <th>review_id</th>\n",
       "      <th>login_id</th>\n",
       "      <th>score</th>\n",
       "      <th>content</th>\n",
       "      <th>item_option</th>\n",
       "      <th>date</th>\n",
       "      <th>likeCnt</th>\n",
       "      <th>label</th>\n",
       "      <th>topic</th>\n",
       "    </tr>\n",
       "  </thead>\n",
       "  <tbody>\n",
       "    <tr>\n",
       "      <th>0</th>\n",
       "      <td>24181889</td>\n",
       "      <td>100016281</td>\n",
       "      <td>ross****</td>\n",
       "      <td>5.0</td>\n",
       "      <td>배송빠르고 잘작동합니다. 많이파세요</td>\n",
       "      <td>[옵션]제품선택:소니 DR-BT101</td>\n",
       "      <td>2012-02-24</td>\n",
       "      <td>0</td>\n",
       "      <td>Positive</td>\n",
       "      <td>3.0</td>\n",
       "    </tr>\n",
       "    <tr>\n",
       "      <th>1</th>\n",
       "      <td>228322167</td>\n",
       "      <td>100019388</td>\n",
       "      <td>hwbs****</td>\n",
       "      <td>5.0</td>\n",
       "      <td>일단 가볍고 간단해서 좋구요.... 저희 신랑이랑 커플로 2개 샀네요.</td>\n",
       "      <td>[옵션]제품선택:아이리버 BT-S10 블루</td>\n",
       "      <td>2012-02-24</td>\n",
       "      <td>0</td>\n",
       "      <td>Positive</td>\n",
       "      <td>8.0</td>\n",
       "    </tr>\n",
       "    <tr>\n",
       "      <th>2</th>\n",
       "      <td>24181889</td>\n",
       "      <td>100023537</td>\n",
       "      <td>peel**</td>\n",
       "      <td>5.0</td>\n",
       "      <td>배송 빠르고 좋네요~</td>\n",
       "      <td>[옵션]제품선택:소니 DR-BT101</td>\n",
       "      <td>2012-02-24</td>\n",
       "      <td>0</td>\n",
       "      <td>Positive</td>\n",
       "      <td>3.0</td>\n",
       "    </tr>\n",
       "    <tr>\n",
       "      <th>3</th>\n",
       "      <td>24181889</td>\n",
       "      <td>100028785</td>\n",
       "      <td>moon*****</td>\n",
       "      <td>5.0</td>\n",
       "      <td>만족합니다</td>\n",
       "      <td>[옵션]제품선택:소니 DR-BT101</td>\n",
       "      <td>2012-02-24</td>\n",
       "      <td>0</td>\n",
       "      <td>Positive</td>\n",
       "      <td>3.0</td>\n",
       "    </tr>\n",
       "    <tr>\n",
       "      <th>4</th>\n",
       "      <td>60614626</td>\n",
       "      <td>100060926</td>\n",
       "      <td>tore****</td>\n",
       "      <td>5.0</td>\n",
       "      <td>만족합니다</td>\n",
       "      <td>[옵션]색상선택:소니 DRC-BT30 블랙</td>\n",
       "      <td>2012-02-25</td>\n",
       "      <td>0</td>\n",
       "      <td>Positive</td>\n",
       "      <td>3.0</td>\n",
       "    </tr>\n",
       "    <tr>\n",
       "      <th>5</th>\n",
       "      <td>164042308</td>\n",
       "      <td>100062275</td>\n",
       "      <td>wooz***</td>\n",
       "      <td>5.0</td>\n",
       "      <td>굿입니다.</td>\n",
       "      <td>[옵션]제품선택:자브라 EASYGO</td>\n",
       "      <td>2012-02-25</td>\n",
       "      <td>0</td>\n",
       "      <td>Positive</td>\n",
       "      <td>5.0</td>\n",
       "    </tr>\n",
       "    <tr>\n",
       "      <th>6</th>\n",
       "      <td>164042308</td>\n",
       "      <td>100062307</td>\n",
       "      <td>wooz***</td>\n",
       "      <td>5.0</td>\n",
       "      <td>굿입니다. 굿입니다.굿입니다.굿입니다.굿입니다.굿입니다.굿입니다.굿입니다.굿입니다....</td>\n",
       "      <td>[옵션]제품선택:자브라 EASYGO</td>\n",
       "      <td>2012-02-25</td>\n",
       "      <td>0</td>\n",
       "      <td>Positive</td>\n",
       "      <td>5.0</td>\n",
       "    </tr>\n",
       "    <tr>\n",
       "      <th>7</th>\n",
       "      <td>228322167</td>\n",
       "      <td>100062938</td>\n",
       "      <td>tjdc***</td>\n",
       "      <td>5.0</td>\n",
       "      <td>좋음~~~~괜츈`~~~</td>\n",
       "      <td>[옵션]제품선택:아이리버 BT-S10 블루</td>\n",
       "      <td>2012-02-25</td>\n",
       "      <td>0</td>\n",
       "      <td>Positive</td>\n",
       "      <td>5.0</td>\n",
       "    </tr>\n",
       "    <tr>\n",
       "      <th>8</th>\n",
       "      <td>60614626</td>\n",
       "      <td>100063193</td>\n",
       "      <td>mylo******</td>\n",
       "      <td>5.0</td>\n",
       "      <td>좋아여 ㅋ</td>\n",
       "      <td>[옵션]색상선택:소니 DRC-BT30 블랙</td>\n",
       "      <td>2012-02-25</td>\n",
       "      <td>0</td>\n",
       "      <td>Positive</td>\n",
       "      <td>5.0</td>\n",
       "    </tr>\n",
       "    <tr>\n",
       "      <th>9</th>\n",
       "      <td>60614626</td>\n",
       "      <td>100063222</td>\n",
       "      <td>mylo******</td>\n",
       "      <td>5.0</td>\n",
       "      <td>블랙 구입했는데 완전 만족합니다. ㅋㅋㅋㅋㅋㅋㅋㅋㅋㅋㅋㅋㅋㅋㅋㅋㅋㅋㅋㅋㅋㅋㅋㅋㅋㅋㅋ...</td>\n",
       "      <td>[옵션]색상선택:소니 DRC-BT30 블랙</td>\n",
       "      <td>2012-02-25</td>\n",
       "      <td>0</td>\n",
       "      <td>Positive</td>\n",
       "      <td>3.0</td>\n",
       "    </tr>\n",
       "  </tbody>\n",
       "</table>\n",
       "</div>"
      ],
      "text/plain": [
       "     item_id  review_id    login_id score  \\\n",
       "0   24181889  100016281    ross****   5.0   \n",
       "1  228322167  100019388    hwbs****   5.0   \n",
       "2   24181889  100023537      peel**   5.0   \n",
       "3   24181889  100028785   moon*****   5.0   \n",
       "4   60614626  100060926    tore****   5.0   \n",
       "5  164042308  100062275     wooz***   5.0   \n",
       "6  164042308  100062307     wooz***   5.0   \n",
       "7  228322167  100062938     tjdc***   5.0   \n",
       "8   60614626  100063193  mylo******   5.0   \n",
       "9   60614626  100063222  mylo******   5.0   \n",
       "\n",
       "                                             content              item_option  \\\n",
       "0                                배송빠르고 잘작동합니다. 많이파세요     [옵션]제품선택:소니 DR-BT101   \n",
       "1            일단 가볍고 간단해서 좋구요.... 저희 신랑이랑 커플로 2개 샀네요.  [옵션]제품선택:아이리버 BT-S10 블루   \n",
       "2                                        배송 빠르고 좋네요~     [옵션]제품선택:소니 DR-BT101   \n",
       "3                                              만족합니다     [옵션]제품선택:소니 DR-BT101   \n",
       "4                                              만족합니다  [옵션]색상선택:소니 DRC-BT30 블랙   \n",
       "5                                              굿입니다.      [옵션]제품선택:자브라 EASYGO   \n",
       "6  굿입니다. 굿입니다.굿입니다.굿입니다.굿입니다.굿입니다.굿입니다.굿입니다.굿입니다....      [옵션]제품선택:자브라 EASYGO   \n",
       "7                                       좋음~~~~괜츈`~~~  [옵션]제품선택:아이리버 BT-S10 블루   \n",
       "8                                              좋아여 ㅋ  [옵션]색상선택:소니 DRC-BT30 블랙   \n",
       "9  블랙 구입했는데 완전 만족합니다. ㅋㅋㅋㅋㅋㅋㅋㅋㅋㅋㅋㅋㅋㅋㅋㅋㅋㅋㅋㅋㅋㅋㅋㅋㅋㅋㅋ...  [옵션]색상선택:소니 DRC-BT30 블랙   \n",
       "\n",
       "         date  likeCnt     label  topic  \n",
       "0  2012-02-24        0  Positive    3.0  \n",
       "1  2012-02-24        0  Positive    8.0  \n",
       "2  2012-02-24        0  Positive    3.0  \n",
       "3  2012-02-24        0  Positive    3.0  \n",
       "4  2012-02-25        0  Positive    3.0  \n",
       "5  2012-02-25        0  Positive    5.0  \n",
       "6  2012-02-25        0  Positive    5.0  \n",
       "7  2012-02-25        0  Positive    5.0  \n",
       "8  2012-02-25        0  Positive    5.0  \n",
       "9  2012-02-25        0  Positive    3.0  "
      ]
     },
     "execution_count": 185,
     "metadata": {},
     "output_type": "execute_result"
    }
   ],
   "source": [
    "review.head(10)"
   ]
  },
  {
   "cell_type": "code",
   "execution_count": 186,
   "metadata": {},
   "outputs": [
    {
     "name": "stderr",
     "output_type": "stream",
     "text": [
      "/Users/parkhyunki/opt/anaconda3/envs/test/lib/python3.7/site-packages/ipykernel/ipkernel.py:287: DeprecationWarning: `should_run_async` will not call `transform_cell` automatically in the future. Please pass the result to `transformed_cell` argument and any exception that happen during thetransform in `preprocessing_exc_tuple` in IPython 7.17 and above.\n",
      "  and should_run_async(code)\n"
     ]
    }
   ],
   "source": [
    "review['topic'] = review['topic'].astype(int)"
   ]
  },
  {
   "cell_type": "code",
   "execution_count": 187,
   "metadata": {},
   "outputs": [
    {
     "name": "stderr",
     "output_type": "stream",
     "text": [
      "/Users/parkhyunki/opt/anaconda3/envs/test/lib/python3.7/site-packages/ipykernel/ipkernel.py:287: DeprecationWarning: `should_run_async` will not call `transform_cell` automatically in the future. Please pass the result to `transformed_cell` argument and any exception that happen during thetransform in `preprocessing_exc_tuple` in IPython 7.17 and above.\n",
      "  and should_run_async(code)\n"
     ]
    }
   ],
   "source": [
    "def topic_mapping(x):\n",
    "    if x == 0:\n",
    "        return 'Sound Quality'\n",
    "    elif x == 1:\n",
    "        return 'Satisfaction'\n",
    "    elif x == 2:\n",
    "        return 'Battery'\n",
    "    elif x == 3:\n",
    "        return 'Delivery'\n",
    "    elif x == 4:\n",
    "        return 'Sound Quality'\n",
    "    elif x == 5:\n",
    "        return 'Satisfaction'\n",
    "    elif x == 6:\n",
    "        return 'Pairing'\n",
    "    elif x == 7:\n",
    "        return 'Sound Quality'\n",
    "    elif x == 8:\n",
    "        return 'Bluetooth'\n",
    "    elif x == 9:\n",
    "        return 'Price'\n",
    "    \n",
    "review['topic'] = review['topic'].apply(topic_mapping)"
   ]
  },
  {
   "cell_type": "code",
   "execution_count": 188,
   "metadata": {},
   "outputs": [
    {
     "name": "stderr",
     "output_type": "stream",
     "text": [
      "/Users/parkhyunki/opt/anaconda3/envs/test/lib/python3.7/site-packages/ipykernel/ipkernel.py:287: DeprecationWarning: `should_run_async` will not call `transform_cell` automatically in the future. Please pass the result to `transformed_cell` argument and any exception that happen during thetransform in `preprocessing_exc_tuple` in IPython 7.17 and above.\n",
      "  and should_run_async(code)\n"
     ]
    },
    {
     "data": {
      "text/plain": [
       "Satisfaction     32796\n",
       "Sound Quality    10689\n",
       "Delivery          9164\n",
       "Price             4509\n",
       "Battery           1577\n",
       "Pairing            966\n",
       "Bluetooth          881\n",
       "Name: topic, dtype: int64"
      ]
     },
     "execution_count": 188,
     "metadata": {},
     "output_type": "execute_result"
    }
   ],
   "source": [
    "review['topic'].value_counts()"
   ]
  },
  {
   "cell_type": "code",
   "execution_count": 189,
   "metadata": {},
   "outputs": [
    {
     "name": "stderr",
     "output_type": "stream",
     "text": [
      "/Users/parkhyunki/opt/anaconda3/envs/test/lib/python3.7/site-packages/ipykernel/ipkernel.py:287: DeprecationWarning: `should_run_async` will not call `transform_cell` automatically in the future. Please pass the result to `transformed_cell` argument and any exception that happen during thetransform in `preprocessing_exc_tuple` in IPython 7.17 and above.\n",
      "  and should_run_async(code)\n"
     ]
    }
   ],
   "source": [
    "review['score'] = review['score'].astype(int)"
   ]
  },
  {
   "cell_type": "code",
   "execution_count": 190,
   "metadata": {},
   "outputs": [
    {
     "name": "stdout",
     "output_type": "stream",
     "text": [
      "<class 'pandas.core.frame.DataFrame'>\n",
      "RangeIndex: 60582 entries, 0 to 60581\n",
      "Data columns (total 10 columns):\n",
      " #   Column       Non-Null Count  Dtype \n",
      "---  ------       --------------  ----- \n",
      " 0   item_id      60582 non-null  object\n",
      " 1   review_id    60582 non-null  object\n",
      " 2   login_id     60582 non-null  object\n",
      " 3   score        60582 non-null  int64 \n",
      " 4   content      60582 non-null  object\n",
      " 5   item_option  60582 non-null  object\n",
      " 6   date         60582 non-null  object\n",
      " 7   likeCnt      60582 non-null  int64 \n",
      " 8   label        60582 non-null  object\n",
      " 9   topic        60582 non-null  object\n",
      "dtypes: int64(2), object(8)\n",
      "memory usage: 4.6+ MB\n"
     ]
    },
    {
     "name": "stderr",
     "output_type": "stream",
     "text": [
      "/Users/parkhyunki/opt/anaconda3/envs/test/lib/python3.7/site-packages/ipykernel/ipkernel.py:287: DeprecationWarning: `should_run_async` will not call `transform_cell` automatically in the future. Please pass the result to `transformed_cell` argument and any exception that happen during thetransform in `preprocessing_exc_tuple` in IPython 7.17 and above.\n",
      "  and should_run_async(code)\n"
     ]
    }
   ],
   "source": [
    "review.info()"
   ]
  },
  {
   "cell_type": "code",
   "execution_count": 191,
   "metadata": {},
   "outputs": [
    {
     "name": "stderr",
     "output_type": "stream",
     "text": [
      "/Users/parkhyunki/opt/anaconda3/envs/test/lib/python3.7/site-packages/ipykernel/ipkernel.py:287: DeprecationWarning: `should_run_async` will not call `transform_cell` automatically in the future. Please pass the result to `transformed_cell` argument and any exception that happen during thetransform in `preprocessing_exc_tuple` in IPython 7.17 and above.\n",
      "  and should_run_async(code)\n"
     ]
    }
   ],
   "source": [
    "review.to_csv('./venv/topic_review.csv',index=False,sep='|',encoding='utf-8')"
   ]
  },
  {
   "cell_type": "code",
   "execution_count": 192,
   "metadata": {},
   "outputs": [
    {
     "name": "stderr",
     "output_type": "stream",
     "text": [
      "/Users/parkhyunki/opt/anaconda3/envs/test/lib/python3.7/site-packages/ipykernel/ipkernel.py:287: DeprecationWarning: `should_run_async` will not call `transform_cell` automatically in the future. Please pass the result to `transformed_cell` argument and any exception that happen during thetransform in `preprocessing_exc_tuple` in IPython 7.17 and above.\n",
      "  and should_run_async(code)\n"
     ]
    }
   ],
   "source": [
    "data= pd.read_csv('./venv/review_topic.csv',sep='|')"
   ]
  },
  {
   "cell_type": "code",
   "execution_count": 193,
   "metadata": {},
   "outputs": [
    {
     "name": "stderr",
     "output_type": "stream",
     "text": [
      "/Users/parkhyunki/opt/anaconda3/envs/test/lib/python3.7/site-packages/ipykernel/ipkernel.py:287: DeprecationWarning: `should_run_async` will not call `transform_cell` automatically in the future. Please pass the result to `transformed_cell` argument and any exception that happen during thetransform in `preprocessing_exc_tuple` in IPython 7.17 and above.\n",
      "  and should_run_async(code)\n"
     ]
    },
    {
     "data": {
      "text/html": [
       "<div>\n",
       "<style scoped>\n",
       "    .dataframe tbody tr th:only-of-type {\n",
       "        vertical-align: middle;\n",
       "    }\n",
       "\n",
       "    .dataframe tbody tr th {\n",
       "        vertical-align: top;\n",
       "    }\n",
       "\n",
       "    .dataframe thead th {\n",
       "        text-align: right;\n",
       "    }\n",
       "</style>\n",
       "<table border=\"1\" class=\"dataframe\">\n",
       "  <thead>\n",
       "    <tr style=\"text-align: right;\">\n",
       "      <th></th>\n",
       "      <th>item_id</th>\n",
       "      <th>review_id</th>\n",
       "      <th>login_id</th>\n",
       "      <th>score</th>\n",
       "      <th>content</th>\n",
       "      <th>item_option</th>\n",
       "      <th>date</th>\n",
       "      <th>likeCnt</th>\n",
       "      <th>topic</th>\n",
       "      <th>label</th>\n",
       "    </tr>\n",
       "  </thead>\n",
       "  <tbody>\n",
       "    <tr>\n",
       "      <th>0</th>\n",
       "      <td>24181889</td>\n",
       "      <td>100016281</td>\n",
       "      <td>ross****</td>\n",
       "      <td>5</td>\n",
       "      <td>배송빠르고 잘작동합니다. 많이파세요</td>\n",
       "      <td>[옵션]제품선택:소니 DR-BT101</td>\n",
       "      <td>2012-02-24</td>\n",
       "      <td>0</td>\n",
       "      <td>Delivery</td>\n",
       "      <td>Positive</td>\n",
       "    </tr>\n",
       "    <tr>\n",
       "      <th>1</th>\n",
       "      <td>24181889</td>\n",
       "      <td>100023537</td>\n",
       "      <td>peel**</td>\n",
       "      <td>5</td>\n",
       "      <td>배송 빠르고 좋네요~</td>\n",
       "      <td>[옵션]제품선택:소니 DR-BT101</td>\n",
       "      <td>2012-02-24</td>\n",
       "      <td>0</td>\n",
       "      <td>Delivery</td>\n",
       "      <td>Positive</td>\n",
       "    </tr>\n",
       "    <tr>\n",
       "      <th>2</th>\n",
       "      <td>24181889</td>\n",
       "      <td>100028785</td>\n",
       "      <td>moon*****</td>\n",
       "      <td>5</td>\n",
       "      <td>만족합니다</td>\n",
       "      <td>[옵션]제품선택:소니 DR-BT101</td>\n",
       "      <td>2012-02-24</td>\n",
       "      <td>0</td>\n",
       "      <td>Sound quality</td>\n",
       "      <td>Positive</td>\n",
       "    </tr>\n",
       "    <tr>\n",
       "      <th>3</th>\n",
       "      <td>60614626</td>\n",
       "      <td>100060926</td>\n",
       "      <td>tore****</td>\n",
       "      <td>5</td>\n",
       "      <td>만족합니다</td>\n",
       "      <td>[옵션]색상선택:소니 DRC-BT30 블랙</td>\n",
       "      <td>2012-02-25</td>\n",
       "      <td>0</td>\n",
       "      <td>Sound quality</td>\n",
       "      <td>Positive</td>\n",
       "    </tr>\n",
       "    <tr>\n",
       "      <th>4</th>\n",
       "      <td>164042308</td>\n",
       "      <td>100062275</td>\n",
       "      <td>wooz***</td>\n",
       "      <td>5</td>\n",
       "      <td>굿입니다.</td>\n",
       "      <td>[옵션]제품선택:자브라 EASYGO</td>\n",
       "      <td>2012-02-25</td>\n",
       "      <td>0</td>\n",
       "      <td>Satisfaction</td>\n",
       "      <td>Positive</td>\n",
       "    </tr>\n",
       "  </tbody>\n",
       "</table>\n",
       "</div>"
      ],
      "text/plain": [
       "     item_id  review_id   login_id  score              content  \\\n",
       "0   24181889  100016281   ross****      5  배송빠르고 잘작동합니다. 많이파세요   \n",
       "1   24181889  100023537     peel**      5          배송 빠르고 좋네요~   \n",
       "2   24181889  100028785  moon*****      5                만족합니다   \n",
       "3   60614626  100060926   tore****      5                만족합니다   \n",
       "4  164042308  100062275    wooz***      5                굿입니다.   \n",
       "\n",
       "               item_option        date  likeCnt          topic     label  \n",
       "0     [옵션]제품선택:소니 DR-BT101  2012-02-24        0       Delivery  Positive  \n",
       "1     [옵션]제품선택:소니 DR-BT101  2012-02-24        0       Delivery  Positive  \n",
       "2     [옵션]제품선택:소니 DR-BT101  2012-02-24        0  Sound quality  Positive  \n",
       "3  [옵션]색상선택:소니 DRC-BT30 블랙  2012-02-25        0  Sound quality  Positive  \n",
       "4      [옵션]제품선택:자브라 EASYGO  2012-02-25        0   Satisfaction  Positive  "
      ]
     },
     "execution_count": 193,
     "metadata": {},
     "output_type": "execute_result"
    }
   ],
   "source": [
    "data.head()"
   ]
  },
  {
   "cell_type": "code",
   "execution_count": null,
   "metadata": {},
   "outputs": [],
   "source": []
  }
 ],
 "metadata": {
  "kernelspec": {
   "display_name": "Python 3",
   "language": "python",
   "name": "python3"
  },
  "language_info": {
   "codemirror_mode": {
    "name": "ipython",
    "version": 3
   },
   "file_extension": ".py",
   "mimetype": "text/x-python",
   "name": "python",
   "nbconvert_exporter": "python",
   "pygments_lexer": "ipython3",
   "version": "3.7.9"
  }
 },
 "nbformat": 4,
 "nbformat_minor": 4
}
